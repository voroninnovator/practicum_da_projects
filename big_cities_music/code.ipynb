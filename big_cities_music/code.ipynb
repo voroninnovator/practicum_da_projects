{
 "cells": [
  {
   "cell_type": "code",
   "execution_count": 1,
   "metadata": {
    "deletable": false,
    "id": "AXN7PHPN_Zcs"
   },
   "outputs": [],
   "source": [
    "import pandas as pd"
   ]
  },
  {
   "cell_type": "code",
   "execution_count": 2,
   "metadata": {
    "deletable": false,
    "id": "fFVu7vqh_Zct",
    "scrolled": true
   },
   "outputs": [],
   "source": [
    "df = pd.read_csv('/datasets/yandex_music_project.csv')"
   ]
  },
  {
   "cell_type": "code",
   "execution_count": 3,
   "metadata": {
    "deletable": false,
    "id": "oWTVX3gW_Zct"
   },
   "outputs": [
    {
     "data": {
      "text/html": [
       "<div>\n",
       "<style scoped>\n",
       "    .dataframe tbody tr th:only-of-type {\n",
       "        vertical-align: middle;\n",
       "    }\n",
       "\n",
       "    .dataframe tbody tr th {\n",
       "        vertical-align: top;\n",
       "    }\n",
       "\n",
       "    .dataframe thead th {\n",
       "        text-align: right;\n",
       "    }\n",
       "</style>\n",
       "<table border=\"1\" class=\"dataframe\">\n",
       "  <thead>\n",
       "    <tr style=\"text-align: right;\">\n",
       "      <th></th>\n",
       "      <th>userID</th>\n",
       "      <th>Track</th>\n",
       "      <th>artist</th>\n",
       "      <th>genre</th>\n",
       "      <th>City</th>\n",
       "      <th>time</th>\n",
       "      <th>Day</th>\n",
       "    </tr>\n",
       "  </thead>\n",
       "  <tbody>\n",
       "    <tr>\n",
       "      <th>0</th>\n",
       "      <td>FFB692EC</td>\n",
       "      <td>Kamigata To Boots</td>\n",
       "      <td>The Mass Missile</td>\n",
       "      <td>rock</td>\n",
       "      <td>Saint-Petersburg</td>\n",
       "      <td>20:28:33</td>\n",
       "      <td>Wednesday</td>\n",
       "    </tr>\n",
       "    <tr>\n",
       "      <th>1</th>\n",
       "      <td>55204538</td>\n",
       "      <td>Delayed Because of Accident</td>\n",
       "      <td>Andreas Rönnberg</td>\n",
       "      <td>rock</td>\n",
       "      <td>Moscow</td>\n",
       "      <td>14:07:09</td>\n",
       "      <td>Friday</td>\n",
       "    </tr>\n",
       "    <tr>\n",
       "      <th>2</th>\n",
       "      <td>20EC38</td>\n",
       "      <td>Funiculì funiculà</td>\n",
       "      <td>Mario Lanza</td>\n",
       "      <td>pop</td>\n",
       "      <td>Saint-Petersburg</td>\n",
       "      <td>20:58:07</td>\n",
       "      <td>Wednesday</td>\n",
       "    </tr>\n",
       "    <tr>\n",
       "      <th>3</th>\n",
       "      <td>A3DD03C9</td>\n",
       "      <td>Dragons in the Sunset</td>\n",
       "      <td>Fire + Ice</td>\n",
       "      <td>folk</td>\n",
       "      <td>Saint-Petersburg</td>\n",
       "      <td>08:37:09</td>\n",
       "      <td>Monday</td>\n",
       "    </tr>\n",
       "    <tr>\n",
       "      <th>4</th>\n",
       "      <td>E2DC1FAE</td>\n",
       "      <td>Soul People</td>\n",
       "      <td>Space Echo</td>\n",
       "      <td>dance</td>\n",
       "      <td>Moscow</td>\n",
       "      <td>08:34:34</td>\n",
       "      <td>Monday</td>\n",
       "    </tr>\n",
       "    <tr>\n",
       "      <th>5</th>\n",
       "      <td>842029A1</td>\n",
       "      <td>Преданная</td>\n",
       "      <td>IMPERVTOR</td>\n",
       "      <td>rusrap</td>\n",
       "      <td>Saint-Petersburg</td>\n",
       "      <td>13:09:41</td>\n",
       "      <td>Friday</td>\n",
       "    </tr>\n",
       "    <tr>\n",
       "      <th>6</th>\n",
       "      <td>4CB90AA5</td>\n",
       "      <td>True</td>\n",
       "      <td>Roman Messer</td>\n",
       "      <td>dance</td>\n",
       "      <td>Moscow</td>\n",
       "      <td>13:00:07</td>\n",
       "      <td>Wednesday</td>\n",
       "    </tr>\n",
       "    <tr>\n",
       "      <th>7</th>\n",
       "      <td>F03E1C1F</td>\n",
       "      <td>Feeling This Way</td>\n",
       "      <td>Polina Griffith</td>\n",
       "      <td>dance</td>\n",
       "      <td>Moscow</td>\n",
       "      <td>20:47:49</td>\n",
       "      <td>Wednesday</td>\n",
       "    </tr>\n",
       "    <tr>\n",
       "      <th>8</th>\n",
       "      <td>8FA1D3BE</td>\n",
       "      <td>И вновь продолжается бой</td>\n",
       "      <td>NaN</td>\n",
       "      <td>ruspop</td>\n",
       "      <td>Moscow</td>\n",
       "      <td>09:17:40</td>\n",
       "      <td>Friday</td>\n",
       "    </tr>\n",
       "    <tr>\n",
       "      <th>9</th>\n",
       "      <td>E772D5C0</td>\n",
       "      <td>Pessimist</td>\n",
       "      <td>NaN</td>\n",
       "      <td>dance</td>\n",
       "      <td>Saint-Petersburg</td>\n",
       "      <td>21:20:49</td>\n",
       "      <td>Wednesday</td>\n",
       "    </tr>\n",
       "  </tbody>\n",
       "</table>\n",
       "</div>"
      ],
      "text/plain": [
       "     userID                        Track            artist   genre  \\\n",
       "0  FFB692EC            Kamigata To Boots  The Mass Missile    rock   \n",
       "1  55204538  Delayed Because of Accident  Andreas Rönnberg    rock   \n",
       "2    20EC38            Funiculì funiculà       Mario Lanza     pop   \n",
       "3  A3DD03C9        Dragons in the Sunset        Fire + Ice    folk   \n",
       "4  E2DC1FAE                  Soul People        Space Echo   dance   \n",
       "5  842029A1                    Преданная         IMPERVTOR  rusrap   \n",
       "6  4CB90AA5                         True      Roman Messer   dance   \n",
       "7  F03E1C1F             Feeling This Way   Polina Griffith   dance   \n",
       "8  8FA1D3BE     И вновь продолжается бой               NaN  ruspop   \n",
       "9  E772D5C0                    Pessimist               NaN   dance   \n",
       "\n",
       "             City        time        Day  \n",
       "0  Saint-Petersburg  20:28:33  Wednesday  \n",
       "1            Moscow  14:07:09     Friday  \n",
       "2  Saint-Petersburg  20:58:07  Wednesday  \n",
       "3  Saint-Petersburg  08:37:09     Monday  \n",
       "4            Moscow  08:34:34     Monday  \n",
       "5  Saint-Petersburg  13:09:41     Friday  \n",
       "6            Moscow  13:00:07  Wednesday  \n",
       "7            Moscow  20:47:49  Wednesday  \n",
       "8            Moscow  09:17:40     Friday  \n",
       "9  Saint-Petersburg  21:20:49  Wednesday  "
      ]
     },
     "execution_count": 3,
     "metadata": {},
     "output_type": "execute_result"
    }
   ],
   "source": [
    "df.head(10)"
   ]
  },
  {
   "cell_type": "code",
   "execution_count": 4,
   "metadata": {
    "deletable": false,
    "id": "DSf2kIb-_Zct"
   },
   "outputs": [
    {
     "name": "stdout",
     "output_type": "stream",
     "text": [
      "<class 'pandas.core.frame.DataFrame'>\n",
      "RangeIndex: 65079 entries, 0 to 65078\n",
      "Data columns (total 7 columns):\n",
      " #   Column    Non-Null Count  Dtype \n",
      "---  ------    --------------  ----- \n",
      " 0     userID  65079 non-null  object\n",
      " 1   Track     63848 non-null  object\n",
      " 2   artist    57876 non-null  object\n",
      " 3   genre     63881 non-null  object\n",
      " 4     City    65079 non-null  object\n",
      " 5   time      65079 non-null  object\n",
      " 6   Day       65079 non-null  object\n",
      "dtypes: object(7)\n",
      "memory usage: 3.5+ MB\n"
     ]
    }
   ],
   "source": [
    "df.info()"
   ]
  },
  {
   "cell_type": "code",
   "execution_count": 6,
   "metadata": {
    "deletable": false,
    "id": "oKOTdF_Q_Zct"
   },
   "outputs": [
    {
     "data": {
      "text/plain": [
       "Index(['  userID', 'Track', 'artist', 'genre', '  City  ', 'time', 'Day'], dtype='object')"
      ]
     },
     "execution_count": 6,
     "metadata": {},
     "output_type": "execute_result"
    }
   ],
   "source": [
    "df.columns"
   ]
  },
  {
   "cell_type": "code",
   "execution_count": 7,
   "metadata": {
    "deletable": false,
    "id": "ISlFqs5y_Zct"
   },
   "outputs": [],
   "source": [
    "df = df.rename(columns={'  userID': 'user_id', 'Track': 'track','  City  ': 'city', 'Day': 'day'})"
   ]
  },
  {
   "cell_type": "code",
   "execution_count": 8,
   "metadata": {
    "deletable": false,
    "id": "d4NOAmTW_Zct"
   },
   "outputs": [
    {
     "data": {
      "text/plain": [
       "Index(['user_id', 'track', 'artist', 'genre', 'city', 'time', 'day'], dtype='object')"
      ]
     },
     "execution_count": 8,
     "metadata": {},
     "output_type": "execute_result"
    }
   ],
   "source": [
    "df.columns"
   ]
  },
  {
   "cell_type": "code",
   "execution_count": 9,
   "metadata": {
    "deletable": false,
    "id": "RskX29qr_Zct",
    "scrolled": true
   },
   "outputs": [
    {
     "data": {
      "text/plain": [
       "user_id       0\n",
       "track      1231\n",
       "artist     7203\n",
       "genre      1198\n",
       "city          0\n",
       "time          0\n",
       "day           0\n",
       "dtype: int64"
      ]
     },
     "execution_count": 9,
     "metadata": {},
     "output_type": "execute_result"
    }
   ],
   "source": [
    "df.isnull().sum()"
   ]
  },
  {
   "cell_type": "code",
   "execution_count": 10,
   "metadata": {
    "deletable": false,
    "id": "KplB5qWs_Zct"
   },
   "outputs": [],
   "source": [
    "columns_to_replace = df.columns\n",
    "for column in columns_to_replace:\n",
    "    df[column] = df[column].fillna('unknown')"
   ]
  },
  {
   "cell_type": "code",
   "execution_count": 11,
   "metadata": {
    "deletable": false,
    "id": "Tq4nYRX4_Zct"
   },
   "outputs": [
    {
     "data": {
      "text/plain": [
       "user_id    0\n",
       "track      0\n",
       "artist     0\n",
       "genre      0\n",
       "city       0\n",
       "time       0\n",
       "day        0\n",
       "dtype: int64"
      ]
     },
     "execution_count": 11,
     "metadata": {},
     "output_type": "execute_result"
    }
   ],
   "source": [
    "df.isna().sum()"
   ]
  },
  {
   "cell_type": "code",
   "execution_count": 12,
   "metadata": {
    "deletable": false,
    "id": "36eES_S0_Zct"
   },
   "outputs": [
    {
     "data": {
      "text/plain": [
       "3826"
      ]
     },
     "execution_count": 12,
     "metadata": {},
     "output_type": "execute_result"
    }
   ],
   "source": [
    "df.duplicated().sum()"
   ]
  },
  {
   "cell_type": "code",
   "execution_count": 13,
   "metadata": {
    "deletable": false,
    "id": "exFHq6tt_Zct"
   },
   "outputs": [],
   "source": [
    "df = df.drop_duplicates().reset_index(drop=True)"
   ]
  },
  {
   "cell_type": "code",
   "execution_count": 14,
   "metadata": {
    "deletable": false,
    "id": "-8PuNWQ0_Zct"
   },
   "outputs": [
    {
     "data": {
      "text/plain": [
       "0"
      ]
     },
     "execution_count": 14,
     "metadata": {},
     "output_type": "execute_result"
    }
   ],
   "source": [
    "df.duplicated().sum()"
   ]
  },
  {
   "cell_type": "code",
   "execution_count": 15,
   "metadata": {
    "deletable": false,
    "id": "JIUcqzZN_Zct"
   },
   "outputs": [
    {
     "data": {
      "text/plain": [
       "array(['acid', 'acoustic', 'action', 'adult', 'africa', 'afrikaans',\n",
       "       'alternative', 'alternativepunk', 'ambient', 'americana',\n",
       "       'animated', 'anime', 'arabesk', 'arabic', 'arena',\n",
       "       'argentinetango', 'art', 'audiobook', 'author', 'avantgarde',\n",
       "       'axé', 'baile', 'balkan', 'beats', 'bigroom', 'black', 'bluegrass',\n",
       "       'blues', 'bollywood', 'bossa', 'brazilian', 'breakbeat', 'breaks',\n",
       "       'broadway', 'cantautori', 'cantopop', 'canzone', 'caribbean',\n",
       "       'caucasian', 'celtic', 'chamber', 'chanson', 'children', 'chill',\n",
       "       'chinese', 'choral', 'christian', 'christmas', 'classical',\n",
       "       'classicmetal', 'club', 'colombian', 'comedy', 'conjazz',\n",
       "       'contemporary', 'country', 'cuban', 'dance', 'dancehall',\n",
       "       'dancepop', 'dark', 'death', 'deep', 'deutschrock', 'deutschspr',\n",
       "       'dirty', 'disco', 'dnb', 'documentary', 'downbeat', 'downtempo',\n",
       "       'drum', 'dub', 'dubstep', 'eastern', 'easy', 'electronic',\n",
       "       'electropop', 'emo', 'entehno', 'epicmetal', 'estrada', 'ethnic',\n",
       "       'eurofolk', 'european', 'experimental', 'extrememetal', 'fado',\n",
       "       'fairytail', 'film', 'fitness', 'flamenco', 'folk', 'folklore',\n",
       "       'folkmetal', 'folkrock', 'folktronica', 'forró', 'frankreich',\n",
       "       'französisch', 'french', 'funk', 'future', 'gangsta', 'garage',\n",
       "       'german', 'ghazal', 'gitarre', 'glitch', 'gospel', 'gothic',\n",
       "       'grime', 'grunge', 'gypsy', 'handsup', \"hard'n'heavy\", 'hardcore',\n",
       "       'hardstyle', 'hardtechno', 'hip', 'hip-hop', 'hiphop',\n",
       "       'historisch', 'holiday', 'hop', 'horror', 'house', 'hymn', 'idm',\n",
       "       'independent', 'indian', 'indie', 'indipop', 'industrial',\n",
       "       'inspirational', 'instrumental', 'international', 'irish', 'jam',\n",
       "       'japanese', 'jazz', 'jewish', 'jpop', 'jungle', 'k-pop',\n",
       "       'karadeniz', 'karaoke', 'kayokyoku', 'korean', 'laiko', 'latin',\n",
       "       'latino', 'leftfield', 'local', 'lounge', 'loungeelectronic',\n",
       "       'lovers', 'malaysian', 'mandopop', 'marschmusik', 'meditative',\n",
       "       'mediterranean', 'melodic', 'metal', 'metalcore', 'mexican',\n",
       "       'middle', 'minimal', 'miscellaneous', 'modern', 'mood', 'mpb',\n",
       "       'muslim', 'native', 'neoklassik', 'neue', 'new', 'newage',\n",
       "       'newwave', 'nu', 'nujazz', 'numetal', 'oceania', 'old', 'opera',\n",
       "       'orchestral', 'other', 'piano', 'podcasts', 'pop', 'popdance',\n",
       "       'popelectronic', 'popeurodance', 'poprussian', 'post',\n",
       "       'posthardcore', 'postrock', 'power', 'progmetal', 'progressive',\n",
       "       'psychedelic', 'punjabi', 'punk', 'quebecois', 'ragga', 'ram',\n",
       "       'rancheras', 'rap', 'rave', 'reggae', 'reggaeton', 'regional',\n",
       "       'relax', 'religious', 'retro', 'rhythm', 'rnb', 'rnr', 'rock',\n",
       "       'rockabilly', 'rockalternative', 'rockindie', 'rockother',\n",
       "       'romance', 'roots', 'ruspop', 'rusrap', 'rusrock', 'russian',\n",
       "       'salsa', 'samba', 'scenic', 'schlager', 'self', 'sertanejo',\n",
       "       'shanson', 'shoegazing', 'showtunes', 'singer', 'ska', 'skarock',\n",
       "       'slow', 'smooth', 'soft', 'soul', 'soulful', 'sound', 'soundtrack',\n",
       "       'southern', 'specialty', 'speech', 'spiritual', 'sport',\n",
       "       'stonerrock', 'surf', 'swing', 'synthpop', 'synthrock',\n",
       "       'sängerportrait', 'tango', 'tanzorchester', 'taraftar', 'tatar',\n",
       "       'tech', 'techno', 'teen', 'thrash', 'top', 'traditional',\n",
       "       'tradjazz', 'trance', 'tribal', 'trip', 'triphop', 'tropical',\n",
       "       'türk', 'türkçe', 'ukrrock', 'unknown', 'urban', 'uzbek',\n",
       "       'variété', 'vi', 'videogame', 'vocal', 'western', 'world',\n",
       "       'worldbeat', 'ïîï', 'электроника'], dtype=object)"
      ]
     },
     "execution_count": 15,
     "metadata": {},
     "output_type": "execute_result"
    }
   ],
   "source": [
    "df['genre'].sort_values().unique()"
   ]
  },
  {
   "cell_type": "code",
   "execution_count": 16,
   "metadata": {
    "deletable": false,
    "id": "ErNDkmns_Zct"
   },
   "outputs": [],
   "source": [
    "df['genre'] = df['genre'].replace('hip', 'hiphop')\n",
    "df['genre'] = df['genre'].replace('hop', 'hiphop')\n",
    "df['genre'] = df['genre'].replace('hip-hop','hiphop')\n"
   ]
  },
  {
   "cell_type": "code",
   "execution_count": 17,
   "metadata": {
    "deletable": false,
    "id": "wvixALnFG15m"
   },
   "outputs": [
    {
     "data": {
      "text/plain": [
       "array(['acid', 'acoustic', 'action', 'adult', 'africa', 'afrikaans',\n",
       "       'alternative', 'alternativepunk', 'ambient', 'americana',\n",
       "       'animated', 'anime', 'arabesk', 'arabic', 'arena',\n",
       "       'argentinetango', 'art', 'audiobook', 'author', 'avantgarde',\n",
       "       'axé', 'baile', 'balkan', 'beats', 'bigroom', 'black', 'bluegrass',\n",
       "       'blues', 'bollywood', 'bossa', 'brazilian', 'breakbeat', 'breaks',\n",
       "       'broadway', 'cantautori', 'cantopop', 'canzone', 'caribbean',\n",
       "       'caucasian', 'celtic', 'chamber', 'chanson', 'children', 'chill',\n",
       "       'chinese', 'choral', 'christian', 'christmas', 'classical',\n",
       "       'classicmetal', 'club', 'colombian', 'comedy', 'conjazz',\n",
       "       'contemporary', 'country', 'cuban', 'dance', 'dancehall',\n",
       "       'dancepop', 'dark', 'death', 'deep', 'deutschrock', 'deutschspr',\n",
       "       'dirty', 'disco', 'dnb', 'documentary', 'downbeat', 'downtempo',\n",
       "       'drum', 'dub', 'dubstep', 'eastern', 'easy', 'electronic',\n",
       "       'electropop', 'emo', 'entehno', 'epicmetal', 'estrada', 'ethnic',\n",
       "       'eurofolk', 'european', 'experimental', 'extrememetal', 'fado',\n",
       "       'fairytail', 'film', 'fitness', 'flamenco', 'folk', 'folklore',\n",
       "       'folkmetal', 'folkrock', 'folktronica', 'forró', 'frankreich',\n",
       "       'französisch', 'french', 'funk', 'future', 'gangsta', 'garage',\n",
       "       'german', 'ghazal', 'gitarre', 'glitch', 'gospel', 'gothic',\n",
       "       'grime', 'grunge', 'gypsy', 'handsup', \"hard'n'heavy\", 'hardcore',\n",
       "       'hardstyle', 'hardtechno', 'hiphop', 'historisch', 'holiday',\n",
       "       'horror', 'house', 'hymn', 'idm', 'independent', 'indian', 'indie',\n",
       "       'indipop', 'industrial', 'inspirational', 'instrumental',\n",
       "       'international', 'irish', 'jam', 'japanese', 'jazz', 'jewish',\n",
       "       'jpop', 'jungle', 'k-pop', 'karadeniz', 'karaoke', 'kayokyoku',\n",
       "       'korean', 'laiko', 'latin', 'latino', 'leftfield', 'local',\n",
       "       'lounge', 'loungeelectronic', 'lovers', 'malaysian', 'mandopop',\n",
       "       'marschmusik', 'meditative', 'mediterranean', 'melodic', 'metal',\n",
       "       'metalcore', 'mexican', 'middle', 'minimal', 'miscellaneous',\n",
       "       'modern', 'mood', 'mpb', 'muslim', 'native', 'neoklassik', 'neue',\n",
       "       'new', 'newage', 'newwave', 'nu', 'nujazz', 'numetal', 'oceania',\n",
       "       'old', 'opera', 'orchestral', 'other', 'piano', 'podcasts', 'pop',\n",
       "       'popdance', 'popelectronic', 'popeurodance', 'poprussian', 'post',\n",
       "       'posthardcore', 'postrock', 'power', 'progmetal', 'progressive',\n",
       "       'psychedelic', 'punjabi', 'punk', 'quebecois', 'ragga', 'ram',\n",
       "       'rancheras', 'rap', 'rave', 'reggae', 'reggaeton', 'regional',\n",
       "       'relax', 'religious', 'retro', 'rhythm', 'rnb', 'rnr', 'rock',\n",
       "       'rockabilly', 'rockalternative', 'rockindie', 'rockother',\n",
       "       'romance', 'roots', 'ruspop', 'rusrap', 'rusrock', 'russian',\n",
       "       'salsa', 'samba', 'scenic', 'schlager', 'self', 'sertanejo',\n",
       "       'shanson', 'shoegazing', 'showtunes', 'singer', 'ska', 'skarock',\n",
       "       'slow', 'smooth', 'soft', 'soul', 'soulful', 'sound', 'soundtrack',\n",
       "       'southern', 'specialty', 'speech', 'spiritual', 'sport',\n",
       "       'stonerrock', 'surf', 'swing', 'synthpop', 'synthrock',\n",
       "       'sängerportrait', 'tango', 'tanzorchester', 'taraftar', 'tatar',\n",
       "       'tech', 'techno', 'teen', 'thrash', 'top', 'traditional',\n",
       "       'tradjazz', 'trance', 'tribal', 'trip', 'triphop', 'tropical',\n",
       "       'türk', 'türkçe', 'ukrrock', 'unknown', 'urban', 'uzbek',\n",
       "       'variété', 'vi', 'videogame', 'vocal', 'western', 'world',\n",
       "       'worldbeat', 'ïîï', 'электроника'], dtype=object)"
      ]
     },
     "execution_count": 17,
     "metadata": {},
     "output_type": "execute_result"
    }
   ],
   "source": [
    "df['genre'].sort_values().unique()"
   ]
  },
  {
   "cell_type": "code",
   "execution_count": 18,
   "metadata": {
    "deletable": false,
    "id": "0_Qs96oh_Zcu"
   },
   "outputs": [
    {
     "data": {
      "text/plain": [
       "city\n",
       "Moscow              42741\n",
       "Saint-Petersburg    18512\n",
       "Name: user_id, dtype: int64"
      ]
     },
     "execution_count": 18,
     "metadata": {},
     "output_type": "execute_result"
    }
   ],
   "source": [
    "df.groupby('city')['user_id'].count()"
   ]
  },
  {
   "cell_type": "code",
   "execution_count": 19,
   "metadata": {
    "deletable": false,
    "id": "uZMKjiJz_Zcu"
   },
   "outputs": [
    {
     "data": {
      "text/plain": [
       "day\n",
       "Friday       21840\n",
       "Monday       21354\n",
       "Wednesday    18059\n",
       "Name: user_id, dtype: int64"
      ]
     },
     "execution_count": 19,
     "metadata": {},
     "output_type": "execute_result"
    }
   ],
   "source": [
    "df.groupby('day')['user_id'].count()"
   ]
  },
  {
   "cell_type": "code",
   "execution_count": 20,
   "metadata": {
    "deletable": false,
    "id": "Nz3GdQB1_Zcu"
   },
   "outputs": [],
   "source": [
    "def number_tracks(day, city):\n",
    "    track_list = df[df['day'] == day]\n",
    "    track_list = track_list[track_list['city'] == city]\n",
    "    track_list_count = track_list['user_id'].count()\n",
    "    return track_list_count"
   ]
  },
  {
   "cell_type": "code",
   "execution_count": 21,
   "metadata": {
    "deletable": false,
    "id": "rJcRATNQ_Zcu"
   },
   "outputs": [
    {
     "data": {
      "text/plain": [
       "15740"
      ]
     },
     "execution_count": 21,
     "metadata": {},
     "output_type": "execute_result"
    }
   ],
   "source": [
    "number_tracks('Monday', 'Moscow')"
   ]
  },
  {
   "cell_type": "code",
   "execution_count": 22,
   "metadata": {
    "deletable": false,
    "id": "hq_ncZ5T_Zcu"
   },
   "outputs": [
    {
     "data": {
      "text/plain": [
       "5614"
      ]
     },
     "execution_count": 22,
     "metadata": {},
     "output_type": "execute_result"
    }
   ],
   "source": [
    "number_tracks('Monday', 'Saint-Petersburg')"
   ]
  },
  {
   "cell_type": "code",
   "execution_count": 23,
   "metadata": {
    "deletable": false,
    "id": "_NTy2VPU_Zcu"
   },
   "outputs": [
    {
     "data": {
      "text/plain": [
       "11056"
      ]
     },
     "execution_count": 23,
     "metadata": {},
     "output_type": "execute_result"
    }
   ],
   "source": [
    "number_tracks('Wednesday', 'Moscow')"
   ]
  },
  {
   "cell_type": "code",
   "execution_count": 24,
   "metadata": {
    "deletable": false,
    "id": "j2y3TAwo_Zcu"
   },
   "outputs": [
    {
     "data": {
      "text/plain": [
       "7003"
      ]
     },
     "execution_count": 24,
     "metadata": {},
     "output_type": "execute_result"
    }
   ],
   "source": [
    "number_tracks('Wednesday', 'Saint-Petersburg')"
   ]
  },
  {
   "cell_type": "code",
   "execution_count": 25,
   "metadata": {
    "deletable": false,
    "id": "vYDw5u_K_Zcu"
   },
   "outputs": [
    {
     "data": {
      "text/plain": [
       "15945"
      ]
     },
     "execution_count": 25,
     "metadata": {},
     "output_type": "execute_result"
    }
   ],
   "source": [
    "number_tracks('Friday', 'Moscow')"
   ]
  },
  {
   "cell_type": "code",
   "execution_count": 26,
   "metadata": {
    "deletable": false,
    "id": "8_yzFtW3_Zcu"
   },
   "outputs": [
    {
     "data": {
      "text/plain": [
       "5895"
      ]
     },
     "execution_count": 26,
     "metadata": {},
     "output_type": "execute_result"
    }
   ],
   "source": [
    "number_tracks('Friday', 'Saint-Petersburg')"
   ]
  },
  {
   "cell_type": "code",
   "execution_count": 27,
   "metadata": {
    "deletable": false,
    "id": "APAcLpOr_Zcu"
   },
   "outputs": [
    {
     "data": {
      "text/html": [
       "<div>\n",
       "<style scoped>\n",
       "    .dataframe tbody tr th:only-of-type {\n",
       "        vertical-align: middle;\n",
       "    }\n",
       "\n",
       "    .dataframe tbody tr th {\n",
       "        vertical-align: top;\n",
       "    }\n",
       "\n",
       "    .dataframe thead th {\n",
       "        text-align: right;\n",
       "    }\n",
       "</style>\n",
       "<table border=\"1\" class=\"dataframe\">\n",
       "  <thead>\n",
       "    <tr style=\"text-align: right;\">\n",
       "      <th></th>\n",
       "      <th>city</th>\n",
       "      <th>monday</th>\n",
       "      <th>wednesday</th>\n",
       "      <th>friday</th>\n",
       "    </tr>\n",
       "  </thead>\n",
       "  <tbody>\n",
       "    <tr>\n",
       "      <th>0</th>\n",
       "      <td>Moscow</td>\n",
       "      <td>15740</td>\n",
       "      <td>11056</td>\n",
       "      <td>15945</td>\n",
       "    </tr>\n",
       "    <tr>\n",
       "      <th>1</th>\n",
       "      <td>Saint-Petersburg</td>\n",
       "      <td>5614</td>\n",
       "      <td>7003</td>\n",
       "      <td>5895</td>\n",
       "    </tr>\n",
       "  </tbody>\n",
       "</table>\n",
       "</div>"
      ],
      "text/plain": [
       "               city  monday  wednesday  friday\n",
       "0            Moscow   15740      11056   15945\n",
       "1  Saint-Petersburg    5614       7003    5895"
      ]
     },
     "execution_count": 27,
     "metadata": {},
     "output_type": "execute_result"
    }
   ],
   "source": [
    "data = [\n",
    "    ['Moscow', 15740, 11056, 15945],\n",
    "    ['Saint-Petersburg', 5614, 7003, 5895]\n",
    "       ]\n",
    "columns = ['city', 'monday', 'wednesday', 'friday']\n",
    "info = pd.DataFrame(data=data , columns=columns)\n",
    "\n",
    "info.head()"
   ]
  },
  {
   "cell_type": "code",
   "execution_count": 28,
   "metadata": {
    "deletable": false,
    "id": "qeaFfM_P_Zcu"
   },
   "outputs": [],
   "source": [
    "moscow_general = df[df['city'] == 'Moscow']"
   ]
  },
  {
   "cell_type": "code",
   "execution_count": 29,
   "metadata": {
    "deletable": false,
    "id": "ORaVRKto_Zcu"
   },
   "outputs": [],
   "source": [
    "spb_general = df[df['city'] == 'Saint-Petersburg']"
   ]
  },
  {
   "cell_type": "code",
   "execution_count": 30,
   "metadata": {
    "deletable": false,
    "id": "laJT9BYl_Zcu"
   },
   "outputs": [],
   "source": [
    "def genre_weekday(df, day, time1, time2):\n",
    "    genre_df = df[df['day'] == day]\n",
    "    genre_df = genre_df[genre_df['time'] < time2]\n",
    "    genre_df = genre_df[genre_df['time'] > time1]\n",
    "    genre_df_grouped = genre_df.groupby('genre')['genre'].count()\n",
    "    genre_df_sorted = genre_df_grouped.sort_values(ascending=False)\n",
    "    return genre_df_sorted[:10]"
   ]
  },
  {
   "cell_type": "code",
   "execution_count": 31,
   "metadata": {
    "deletable": false,
    "id": "yz7itPUQ_Zcu"
   },
   "outputs": [
    {
     "data": {
      "text/plain": [
       "genre\n",
       "pop            781\n",
       "dance          549\n",
       "electronic     480\n",
       "rock           474\n",
       "hiphop         286\n",
       "ruspop         186\n",
       "world          181\n",
       "rusrap         175\n",
       "alternative    164\n",
       "unknown        161\n",
       "Name: genre, dtype: int64"
      ]
     },
     "execution_count": 31,
     "metadata": {},
     "output_type": "execute_result"
    }
   ],
   "source": [
    "genre_weekday(moscow_general, 'Monday', '07:00', '11:00')"
   ]
  },
  {
   "cell_type": "code",
   "execution_count": 32,
   "metadata": {
    "deletable": false,
    "id": "kwUcHPdy_Zcu"
   },
   "outputs": [
    {
     "data": {
      "text/plain": [
       "genre\n",
       "pop            218\n",
       "dance          182\n",
       "rock           162\n",
       "electronic     147\n",
       "hiphop          80\n",
       "ruspop          64\n",
       "alternative     58\n",
       "rusrap          55\n",
       "jazz            44\n",
       "classical       40\n",
       "Name: genre, dtype: int64"
      ]
     },
     "execution_count": 32,
     "metadata": {},
     "output_type": "execute_result"
    }
   ],
   "source": [
    "genre_weekday(spb_general, 'Monday', '07:00', '11:00')"
   ]
  },
  {
   "cell_type": "code",
   "execution_count": 33,
   "metadata": {
    "deletable": false,
    "id": "EzXVRE1o_Zcu"
   },
   "outputs": [
    {
     "data": {
      "text/plain": [
       "genre\n",
       "pop            713\n",
       "rock           517\n",
       "dance          495\n",
       "electronic     482\n",
       "hiphop         273\n",
       "world          208\n",
       "ruspop         170\n",
       "alternative    163\n",
       "classical      163\n",
       "rusrap         142\n",
       "Name: genre, dtype: int64"
      ]
     },
     "execution_count": 33,
     "metadata": {},
     "output_type": "execute_result"
    }
   ],
   "source": [
    "genre_weekday(moscow_general, 'Friday', '17:00', '23:00')"
   ]
  },
  {
   "cell_type": "code",
   "execution_count": 34,
   "metadata": {
    "deletable": false,
    "id": "JZaEKu5v_Zcu"
   },
   "outputs": [
    {
     "data": {
      "text/plain": [
       "genre\n",
       "pop            256\n",
       "electronic     216\n",
       "rock           216\n",
       "dance          210\n",
       "hiphop          97\n",
       "alternative     63\n",
       "jazz            61\n",
       "classical       60\n",
       "rusrap          59\n",
       "world           54\n",
       "Name: genre, dtype: int64"
      ]
     },
     "execution_count": 34,
     "metadata": {},
     "output_type": "execute_result"
    }
   ],
   "source": [
    "genre_weekday(spb_general, 'Friday', '17:00', '23:00')"
   ]
  },
  {
   "cell_type": "code",
   "execution_count": 35,
   "metadata": {
    "deletable": false,
    "id": "r19lIPke_Zcu"
   },
   "outputs": [],
   "source": [
    "moscow_genres = moscow_general.groupby('genre')['genre'].count()\n",
    "moscow_genres = moscow_genres.sort_values(ascending=False)"
   ]
  },
  {
   "cell_type": "code",
   "execution_count": 36,
   "metadata": {
    "deletable": false,
    "id": "WhCSooF8_Zcv"
   },
   "outputs": [
    {
     "data": {
      "text/plain": [
       "genre\n",
       "pop            5892\n",
       "dance          4435\n",
       "rock           3965\n",
       "electronic     3786\n",
       "hiphop         2096\n",
       "classical      1616\n",
       "world          1432\n",
       "alternative    1379\n",
       "ruspop         1372\n",
       "rusrap         1161\n",
       "Name: genre, dtype: int64"
      ]
     },
     "execution_count": 36,
     "metadata": {},
     "output_type": "execute_result"
    }
   ],
   "source": [
    "moscow_genres.head(10)"
   ]
  },
  {
   "cell_type": "code",
   "execution_count": 37,
   "metadata": {
    "deletable": false,
    "id": "gluLIpE7_Zcv"
   },
   "outputs": [],
   "source": [
    "spb_genres = spb_general.groupby('genre')['genre'].count()\n",
    "spb_genres = spb_genres.sort_values(ascending=False)"
   ]
  },
  {
   "cell_type": "code",
   "execution_count": 38,
   "metadata": {
    "deletable": false,
    "id": "uaGJHjVU_Zcv"
   },
   "outputs": [
    {
     "data": {
      "text/plain": [
       "genre\n",
       "pop            2431\n",
       "dance          1932\n",
       "rock           1879\n",
       "electronic     1736\n",
       "hiphop          960\n",
       "alternative     649\n",
       "classical       646\n",
       "rusrap          564\n",
       "ruspop          538\n",
       "world           515\n",
       "Name: genre, dtype: int64"
      ]
     },
     "execution_count": 38,
     "metadata": {},
     "output_type": "execute_result"
    }
   ],
   "source": [
    "spb_genres.head(10)"
   ]
  }
 ],
 "metadata": {
  "ExecuteTimeLog": [
   {
    "duration": 48,
    "start_time": "2024-03-05T15:38:13.927Z"
   },
   {
    "duration": 410,
    "start_time": "2024-03-05T15:38:30.668Z"
   },
   {
    "duration": 72,
    "start_time": "2024-03-05T15:38:33.565Z"
   },
   {
    "duration": 232,
    "start_time": "2024-03-05T15:39:19.272Z"
   },
   {
    "duration": 177,
    "start_time": "2024-03-05T15:39:22.180Z"
   },
   {
    "duration": 20,
    "start_time": "2024-03-05T15:41:02.240Z"
   },
   {
    "duration": 33,
    "start_time": "2024-03-05T15:41:26.987Z"
   },
   {
    "duration": 32,
    "start_time": "2024-03-05T15:44:39.847Z"
   },
   {
    "duration": 10,
    "start_time": "2024-03-05T15:46:11.158Z"
   },
   {
    "duration": 6,
    "start_time": "2024-03-05T15:46:14.030Z"
   },
   {
    "duration": 4,
    "start_time": "2024-03-05T15:46:24.198Z"
   },
   {
    "duration": 3,
    "start_time": "2024-03-05T15:50:47.617Z"
   },
   {
    "duration": 175,
    "start_time": "2024-03-05T15:50:47.985Z"
   },
   {
    "duration": 10,
    "start_time": "2024-03-05T15:50:48.322Z"
   },
   {
    "duration": 30,
    "start_time": "2024-03-05T15:50:48.873Z"
   },
   {
    "duration": 2,
    "start_time": "2024-03-05T15:50:49.713Z"
   },
   {
    "duration": 3,
    "start_time": "2024-03-05T15:50:52.121Z"
   },
   {
    "duration": 16,
    "start_time": "2024-03-05T15:53:10.599Z"
   },
   {
    "duration": 18,
    "start_time": "2024-03-05T15:53:23.879Z"
   },
   {
    "duration": 6,
    "start_time": "2024-03-05T15:54:10.415Z"
   },
   {
    "duration": 4,
    "start_time": "2024-03-05T15:54:20.863Z"
   },
   {
    "duration": 8,
    "start_time": "2024-03-05T15:54:30.711Z"
   },
   {
    "duration": 4,
    "start_time": "2024-03-05T15:54:32.294Z"
   },
   {
    "duration": 12,
    "start_time": "2024-03-05T15:54:34.558Z"
   },
   {
    "duration": 4,
    "start_time": "2024-03-05T15:54:35.638Z"
   },
   {
    "duration": 3,
    "start_time": "2024-03-05T15:54:37.499Z"
   },
   {
    "duration": 29,
    "start_time": "2024-03-05T15:55:37.950Z"
   },
   {
    "duration": 5,
    "start_time": "2024-03-05T16:15:36.705Z"
   },
   {
    "duration": 38,
    "start_time": "2024-03-05T16:19:41.056Z"
   },
   {
    "duration": 27,
    "start_time": "2024-03-05T16:22:13.769Z"
   },
   {
    "duration": 74,
    "start_time": "2024-03-05T16:42:21.905Z"
   },
   {
    "duration": 67,
    "start_time": "2024-03-05T16:43:22.817Z"
   },
   {
    "duration": 10,
    "start_time": "2024-03-05T16:45:02.727Z"
   },
   {
    "duration": 12,
    "start_time": "2024-03-05T16:45:20.061Z"
   },
   {
    "duration": 14,
    "start_time": "2024-03-05T16:47:18.383Z"
   },
   {
    "duration": 10,
    "start_time": "2024-03-05T16:47:47.798Z"
   },
   {
    "duration": 8,
    "start_time": "2024-03-05T16:49:51.515Z"
   },
   {
    "duration": 6,
    "start_time": "2024-03-05T16:49:59.100Z"
   },
   {
    "duration": 39,
    "start_time": "2024-03-05T16:50:19.322Z"
   },
   {
    "duration": 38,
    "start_time": "2024-03-05T16:50:41.331Z"
   },
   {
    "duration": 42,
    "start_time": "2024-03-05T16:50:44.923Z"
   },
   {
    "duration": 3,
    "start_time": "2024-03-05T16:53:14.574Z"
   },
   {
    "duration": 192,
    "start_time": "2024-03-05T16:53:14.578Z"
   },
   {
    "duration": 10,
    "start_time": "2024-03-05T16:53:14.771Z"
   },
   {
    "duration": 31,
    "start_time": "2024-03-05T16:53:14.783Z"
   },
   {
    "duration": 3,
    "start_time": "2024-03-05T16:53:14.815Z"
   },
   {
    "duration": 15,
    "start_time": "2024-03-05T16:53:14.819Z"
   },
   {
    "duration": 9,
    "start_time": "2024-03-05T16:53:14.836Z"
   },
   {
    "duration": 19,
    "start_time": "2024-03-05T16:53:14.847Z"
   },
   {
    "duration": 27,
    "start_time": "2024-03-05T16:53:14.869Z"
   },
   {
    "duration": 33,
    "start_time": "2024-03-05T16:53:14.898Z"
   },
   {
    "duration": 44,
    "start_time": "2024-03-05T16:53:14.933Z"
   },
   {
    "duration": 64,
    "start_time": "2024-03-05T16:53:14.979Z"
   },
   {
    "duration": 73,
    "start_time": "2024-03-05T16:53:15.045Z"
   },
   {
    "duration": 63,
    "start_time": "2024-03-05T16:53:15.120Z"
   },
   {
    "duration": 40,
    "start_time": "2024-03-05T16:53:15.184Z"
   },
   {
    "duration": 9,
    "start_time": "2024-03-05T16:53:15.226Z"
   },
   {
    "duration": 48,
    "start_time": "2024-03-05T16:53:15.236Z"
   },
   {
    "duration": 17,
    "start_time": "2024-03-05T16:53:15.286Z"
   },
   {
    "duration": 24,
    "start_time": "2024-03-05T16:53:15.304Z"
   },
   {
    "duration": 97,
    "start_time": "2024-03-05T16:53:15.330Z"
   },
   {
    "duration": 0,
    "start_time": "2024-03-05T16:53:15.429Z"
   },
   {
    "duration": 0,
    "start_time": "2024-03-05T16:53:15.430Z"
   },
   {
    "duration": 0,
    "start_time": "2024-03-05T16:53:15.431Z"
   },
   {
    "duration": 0,
    "start_time": "2024-03-05T16:53:15.432Z"
   },
   {
    "duration": 0,
    "start_time": "2024-03-05T16:53:15.434Z"
   },
   {
    "duration": 0,
    "start_time": "2024-03-05T16:53:15.435Z"
   },
   {
    "duration": 0,
    "start_time": "2024-03-05T16:53:15.436Z"
   },
   {
    "duration": 0,
    "start_time": "2024-03-05T16:53:15.437Z"
   },
   {
    "duration": 0,
    "start_time": "2024-03-05T16:53:15.438Z"
   },
   {
    "duration": 0,
    "start_time": "2024-03-05T16:53:15.440Z"
   },
   {
    "duration": 0,
    "start_time": "2024-03-05T16:53:15.441Z"
   },
   {
    "duration": 0,
    "start_time": "2024-03-05T16:53:15.442Z"
   },
   {
    "duration": 0,
    "start_time": "2024-03-05T16:53:15.443Z"
   },
   {
    "duration": 0,
    "start_time": "2024-03-05T16:53:15.444Z"
   },
   {
    "duration": 0,
    "start_time": "2024-03-05T16:53:15.445Z"
   },
   {
    "duration": 0,
    "start_time": "2024-03-05T16:53:15.446Z"
   },
   {
    "duration": 0,
    "start_time": "2024-03-05T16:53:15.447Z"
   },
   {
    "duration": 0,
    "start_time": "2024-03-05T16:53:15.448Z"
   },
   {
    "duration": 3,
    "start_time": "2024-03-05T16:58:51.784Z"
   },
   {
    "duration": 172,
    "start_time": "2024-03-05T16:58:51.788Z"
   },
   {
    "duration": 10,
    "start_time": "2024-03-05T16:58:51.962Z"
   },
   {
    "duration": 36,
    "start_time": "2024-03-05T16:58:51.973Z"
   },
   {
    "duration": 2,
    "start_time": "2024-03-05T16:58:52.011Z"
   },
   {
    "duration": 13,
    "start_time": "2024-03-05T16:58:52.015Z"
   },
   {
    "duration": 42,
    "start_time": "2024-03-05T16:58:52.029Z"
   },
   {
    "duration": 7,
    "start_time": "2024-03-05T16:58:52.072Z"
   },
   {
    "duration": 30,
    "start_time": "2024-03-05T16:58:52.081Z"
   },
   {
    "duration": 59,
    "start_time": "2024-03-05T16:58:52.113Z"
   },
   {
    "duration": 27,
    "start_time": "2024-03-05T16:58:52.175Z"
   },
   {
    "duration": 76,
    "start_time": "2024-03-05T16:58:52.203Z"
   },
   {
    "duration": 62,
    "start_time": "2024-03-05T16:58:52.281Z"
   },
   {
    "duration": 64,
    "start_time": "2024-03-05T16:58:52.345Z"
   },
   {
    "duration": 56,
    "start_time": "2024-03-05T16:58:52.410Z"
   },
   {
    "duration": 2,
    "start_time": "2024-03-05T16:58:52.468Z"
   },
   {
    "duration": 9,
    "start_time": "2024-03-05T16:58:52.471Z"
   },
   {
    "duration": 4,
    "start_time": "2024-03-05T16:58:52.481Z"
   },
   {
    "duration": 4,
    "start_time": "2024-03-05T16:58:52.486Z"
   },
   {
    "duration": 74,
    "start_time": "2024-03-05T16:58:52.491Z"
   },
   {
    "duration": 0,
    "start_time": "2024-03-05T16:58:52.566Z"
   },
   {
    "duration": 0,
    "start_time": "2024-03-05T16:58:52.567Z"
   },
   {
    "duration": 0,
    "start_time": "2024-03-05T16:58:52.568Z"
   },
   {
    "duration": 0,
    "start_time": "2024-03-05T16:58:52.569Z"
   },
   {
    "duration": 0,
    "start_time": "2024-03-05T16:58:52.570Z"
   },
   {
    "duration": 0,
    "start_time": "2024-03-05T16:58:52.571Z"
   },
   {
    "duration": 0,
    "start_time": "2024-03-05T16:58:52.572Z"
   },
   {
    "duration": 0,
    "start_time": "2024-03-05T16:58:52.573Z"
   },
   {
    "duration": 0,
    "start_time": "2024-03-05T16:58:52.574Z"
   },
   {
    "duration": 0,
    "start_time": "2024-03-05T16:58:52.575Z"
   },
   {
    "duration": 0,
    "start_time": "2024-03-05T16:58:52.576Z"
   },
   {
    "duration": 0,
    "start_time": "2024-03-05T16:58:52.577Z"
   },
   {
    "duration": 0,
    "start_time": "2024-03-05T16:58:52.578Z"
   },
   {
    "duration": 0,
    "start_time": "2024-03-05T16:58:52.579Z"
   },
   {
    "duration": 0,
    "start_time": "2024-03-05T16:58:52.580Z"
   },
   {
    "duration": 0,
    "start_time": "2024-03-05T16:58:52.581Z"
   },
   {
    "duration": 0,
    "start_time": "2024-03-05T16:58:52.582Z"
   },
   {
    "duration": 0,
    "start_time": "2024-03-05T16:58:52.583Z"
   },
   {
    "duration": 5,
    "start_time": "2024-03-05T17:03:21.266Z"
   },
   {
    "duration": 11,
    "start_time": "2024-03-05T17:07:58.345Z"
   },
   {
    "duration": 41,
    "start_time": "2024-03-05T17:09:35.516Z"
   },
   {
    "duration": 10,
    "start_time": "2024-03-05T17:12:04.938Z"
   },
   {
    "duration": 13,
    "start_time": "2024-03-05T17:15:39.964Z"
   },
   {
    "duration": 4,
    "start_time": "2024-03-05T17:15:57.582Z"
   },
   {
    "duration": 6,
    "start_time": "2024-03-05T17:16:08.327Z"
   },
   {
    "duration": 4,
    "start_time": "2024-03-05T17:16:13.315Z"
   },
   {
    "duration": 9,
    "start_time": "2024-03-05T17:16:37.155Z"
   },
   {
    "duration": 4,
    "start_time": "2024-03-05T17:16:59.539Z"
   },
   {
    "duration": 34,
    "start_time": "2024-03-05T17:17:16.260Z"
   },
   {
    "duration": 14,
    "start_time": "2024-03-05T17:18:20.046Z"
   },
   {
    "duration": 12,
    "start_time": "2024-03-05T17:22:30.296Z"
   },
   {
    "duration": 10,
    "start_time": "2024-03-05T17:29:11.883Z"
   },
   {
    "duration": 9,
    "start_time": "2024-03-05T17:30:11.181Z"
   },
   {
    "duration": 10,
    "start_time": "2024-03-05T17:30:21.177Z"
   },
   {
    "duration": 4,
    "start_time": "2024-03-05T17:30:29.594Z"
   },
   {
    "duration": 10,
    "start_time": "2024-03-05T17:30:47.310Z"
   },
   {
    "duration": 9,
    "start_time": "2024-03-05T17:30:58.391Z"
   },
   {
    "duration": 10,
    "start_time": "2024-03-05T17:31:04.386Z"
   },
   {
    "duration": 8,
    "start_time": "2024-03-05T17:31:57.322Z"
   },
   {
    "duration": 10,
    "start_time": "2024-03-05T17:32:23.617Z"
   },
   {
    "duration": 1215,
    "start_time": "2024-03-05T17:34:59.584Z"
   },
   {
    "duration": 9,
    "start_time": "2024-03-05T17:35:26.686Z"
   },
   {
    "duration": 35,
    "start_time": "2024-03-05T17:35:41.999Z"
   },
   {
    "duration": 16,
    "start_time": "2024-03-05T17:35:59.148Z"
   },
   {
    "duration": 10,
    "start_time": "2024-03-05T17:36:58.892Z"
   },
   {
    "duration": 9,
    "start_time": "2024-03-05T17:37:11.117Z"
   },
   {
    "duration": 11,
    "start_time": "2024-03-05T17:42:01.630Z"
   },
   {
    "duration": 4,
    "start_time": "2024-03-05T17:42:07.909Z"
   },
   {
    "duration": 4,
    "start_time": "2024-03-05T17:42:21.721Z"
   },
   {
    "duration": 33,
    "start_time": "2024-03-05T17:42:27.374Z"
   },
   {
    "duration": 12,
    "start_time": "2024-03-05T17:43:40.544Z"
   },
   {
    "duration": 19,
    "start_time": "2024-03-05T17:50:38.665Z"
   },
   {
    "duration": 12,
    "start_time": "2024-03-05T17:51:06.476Z"
   },
   {
    "duration": 17,
    "start_time": "2024-03-05T17:52:57.467Z"
   },
   {
    "duration": 18,
    "start_time": "2024-03-05T17:53:06.104Z"
   },
   {
    "duration": 16,
    "start_time": "2024-03-05T17:56:16.241Z"
   },
   {
    "duration": 18,
    "start_time": "2024-03-05T17:56:26.814Z"
   },
   {
    "duration": 13,
    "start_time": "2024-03-05T17:56:45.568Z"
   },
   {
    "duration": 70,
    "start_time": "2024-03-05T17:56:55.842Z"
   },
   {
    "duration": 3,
    "start_time": "2024-03-05T17:59:40.422Z"
   },
   {
    "duration": 2,
    "start_time": "2024-03-05T18:17:03.774Z"
   },
   {
    "duration": 162,
    "start_time": "2024-03-05T18:17:03.778Z"
   },
   {
    "duration": 10,
    "start_time": "2024-03-05T18:17:03.942Z"
   },
   {
    "duration": 32,
    "start_time": "2024-03-05T18:17:03.954Z"
   },
   {
    "duration": 3,
    "start_time": "2024-03-05T18:17:03.987Z"
   },
   {
    "duration": 5,
    "start_time": "2024-03-05T18:17:03.991Z"
   },
   {
    "duration": 8,
    "start_time": "2024-03-05T18:17:03.997Z"
   },
   {
    "duration": 4,
    "start_time": "2024-03-05T18:17:04.006Z"
   },
   {
    "duration": 27,
    "start_time": "2024-03-05T18:17:04.012Z"
   },
   {
    "duration": 33,
    "start_time": "2024-03-05T18:17:04.065Z"
   },
   {
    "duration": 25,
    "start_time": "2024-03-05T18:17:04.099Z"
   },
   {
    "duration": 78,
    "start_time": "2024-03-05T18:17:04.125Z"
   },
   {
    "duration": 75,
    "start_time": "2024-03-05T18:17:04.204Z"
   },
   {
    "duration": 54,
    "start_time": "2024-03-05T18:17:04.280Z"
   },
   {
    "duration": 56,
    "start_time": "2024-03-05T18:17:04.336Z"
   },
   {
    "duration": 10,
    "start_time": "2024-03-05T18:17:04.394Z"
   },
   {
    "duration": 41,
    "start_time": "2024-03-05T18:17:04.405Z"
   },
   {
    "duration": 26,
    "start_time": "2024-03-05T18:17:04.448Z"
   },
   {
    "duration": 12,
    "start_time": "2024-03-05T18:17:04.475Z"
   },
   {
    "duration": 4,
    "start_time": "2024-03-05T18:17:04.488Z"
   },
   {
    "duration": 7,
    "start_time": "2024-03-05T18:17:04.493Z"
   },
   {
    "duration": 6,
    "start_time": "2024-03-05T18:17:04.502Z"
   },
   {
    "duration": 26,
    "start_time": "2024-03-05T18:17:04.510Z"
   },
   {
    "duration": 6,
    "start_time": "2024-03-05T18:17:04.539Z"
   },
   {
    "duration": 4,
    "start_time": "2024-03-05T18:17:04.547Z"
   },
   {
    "duration": 9,
    "start_time": "2024-03-05T18:17:04.553Z"
   },
   {
    "duration": 5,
    "start_time": "2024-03-05T18:17:04.564Z"
   },
   {
    "duration": 12,
    "start_time": "2024-03-05T18:17:04.571Z"
   },
   {
    "duration": 5,
    "start_time": "2024-03-05T18:17:04.585Z"
   },
   {
    "duration": 71,
    "start_time": "2024-03-05T18:17:04.591Z"
   },
   {
    "duration": 0,
    "start_time": "2024-03-05T18:17:04.664Z"
   },
   {
    "duration": 0,
    "start_time": "2024-03-05T18:17:04.665Z"
   },
   {
    "duration": 0,
    "start_time": "2024-03-05T18:17:04.667Z"
   },
   {
    "duration": 0,
    "start_time": "2024-03-05T18:17:04.668Z"
   },
   {
    "duration": 0,
    "start_time": "2024-03-05T18:17:04.669Z"
   },
   {
    "duration": 0,
    "start_time": "2024-03-05T18:17:04.670Z"
   },
   {
    "duration": 0,
    "start_time": "2024-03-05T18:17:04.671Z"
   },
   {
    "duration": 0,
    "start_time": "2024-03-05T18:17:04.672Z"
   },
   {
    "duration": 3,
    "start_time": "2024-03-05T18:19:13.789Z"
   },
   {
    "duration": 17,
    "start_time": "2024-03-05T18:26:41.632Z"
   },
   {
    "duration": 3,
    "start_time": "2024-03-05T18:26:55.895Z"
   },
   {
    "duration": 15,
    "start_time": "2024-03-05T18:27:03.199Z"
   },
   {
    "duration": 16,
    "start_time": "2024-03-05T18:27:04.503Z"
   },
   {
    "duration": 15,
    "start_time": "2024-03-05T18:27:14.199Z"
   },
   {
    "duration": 2,
    "start_time": "2024-03-05T18:27:17.383Z"
   },
   {
    "duration": 17,
    "start_time": "2024-03-05T18:27:22.263Z"
   },
   {
    "duration": 17,
    "start_time": "2024-03-05T18:27:29.966Z"
   },
   {
    "duration": 8,
    "start_time": "2024-03-05T18:28:40.518Z"
   },
   {
    "duration": 3,
    "start_time": "2024-03-05T18:29:18.206Z"
   },
   {
    "duration": 188,
    "start_time": "2024-03-05T18:29:18.211Z"
   },
   {
    "duration": 10,
    "start_time": "2024-03-05T18:29:18.400Z"
   },
   {
    "duration": 44,
    "start_time": "2024-03-05T18:29:18.411Z"
   },
   {
    "duration": 15,
    "start_time": "2024-03-05T18:29:18.457Z"
   },
   {
    "duration": 19,
    "start_time": "2024-03-05T18:29:18.473Z"
   },
   {
    "duration": 20,
    "start_time": "2024-03-05T18:29:18.493Z"
   },
   {
    "duration": 10,
    "start_time": "2024-03-05T18:29:18.515Z"
   },
   {
    "duration": 56,
    "start_time": "2024-03-05T18:29:18.526Z"
   },
   {
    "duration": 51,
    "start_time": "2024-03-05T18:29:18.583Z"
   },
   {
    "duration": 27,
    "start_time": "2024-03-05T18:29:18.635Z"
   },
   {
    "duration": 83,
    "start_time": "2024-03-05T18:29:18.664Z"
   },
   {
    "duration": 77,
    "start_time": "2024-03-05T18:29:18.749Z"
   },
   {
    "duration": 86,
    "start_time": "2024-03-05T18:29:18.829Z"
   },
   {
    "duration": 58,
    "start_time": "2024-03-05T18:29:18.917Z"
   },
   {
    "duration": 10,
    "start_time": "2024-03-05T18:29:18.976Z"
   },
   {
    "duration": 52,
    "start_time": "2024-03-05T18:29:18.988Z"
   },
   {
    "duration": 23,
    "start_time": "2024-03-05T18:29:19.042Z"
   },
   {
    "duration": 11,
    "start_time": "2024-03-05T18:29:19.067Z"
   },
   {
    "duration": 14,
    "start_time": "2024-03-05T18:29:19.079Z"
   },
   {
    "duration": 25,
    "start_time": "2024-03-05T18:29:19.094Z"
   },
   {
    "duration": 13,
    "start_time": "2024-03-05T18:29:19.121Z"
   },
   {
    "duration": 19,
    "start_time": "2024-03-05T18:29:19.135Z"
   },
   {
    "duration": 27,
    "start_time": "2024-03-05T18:29:19.155Z"
   },
   {
    "duration": 22,
    "start_time": "2024-03-05T18:29:19.184Z"
   },
   {
    "duration": 25,
    "start_time": "2024-03-05T18:29:19.207Z"
   },
   {
    "duration": 13,
    "start_time": "2024-03-05T18:29:19.234Z"
   },
   {
    "duration": 0,
    "start_time": "2024-03-05T18:29:19.248Z"
   },
   {
    "duration": 0,
    "start_time": "2024-03-05T18:29:19.249Z"
   },
   {
    "duration": 0,
    "start_time": "2024-03-05T18:29:19.250Z"
   },
   {
    "duration": 0,
    "start_time": "2024-03-05T18:29:19.252Z"
   },
   {
    "duration": 0,
    "start_time": "2024-03-05T18:29:19.252Z"
   },
   {
    "duration": 0,
    "start_time": "2024-03-05T18:29:19.253Z"
   },
   {
    "duration": 0,
    "start_time": "2024-03-05T18:29:19.254Z"
   },
   {
    "duration": 0,
    "start_time": "2024-03-05T18:29:19.255Z"
   },
   {
    "duration": 0,
    "start_time": "2024-03-05T18:29:19.256Z"
   },
   {
    "duration": 0,
    "start_time": "2024-03-05T18:29:19.257Z"
   },
   {
    "duration": 0,
    "start_time": "2024-03-05T18:29:19.257Z"
   },
   {
    "duration": 7,
    "start_time": "2024-03-05T18:29:34.166Z"
   },
   {
    "duration": 8,
    "start_time": "2024-03-05T18:29:41.284Z"
   },
   {
    "duration": 8,
    "start_time": "2024-03-05T18:30:34.101Z"
   },
   {
    "duration": 8,
    "start_time": "2024-03-05T18:31:41.494Z"
   },
   {
    "duration": 8,
    "start_time": "2024-03-05T18:32:00.285Z"
   },
   {
    "duration": 8,
    "start_time": "2024-03-05T18:36:34.158Z"
   },
   {
    "duration": 8,
    "start_time": "2024-03-05T18:38:30.836Z"
   },
   {
    "duration": 9,
    "start_time": "2024-03-05T18:38:44.243Z"
   },
   {
    "duration": 7,
    "start_time": "2024-03-05T18:38:59.348Z"
   },
   {
    "duration": 5,
    "start_time": "2024-03-05T18:39:28.259Z"
   },
   {
    "duration": 5,
    "start_time": "2024-03-05T18:39:42.451Z"
   },
   {
    "duration": 9,
    "start_time": "2024-03-05T18:39:52.267Z"
   },
   {
    "duration": 8,
    "start_time": "2024-03-05T18:39:59.218Z"
   },
   {
    "duration": 12,
    "start_time": "2024-03-05T18:41:16.202Z"
   },
   {
    "duration": 9,
    "start_time": "2024-03-05T18:41:36.779Z"
   },
   {
    "duration": 70,
    "start_time": "2024-03-05T18:41:45.683Z"
   },
   {
    "duration": 61,
    "start_time": "2024-03-05T18:41:53.434Z"
   },
   {
    "duration": 27,
    "start_time": "2024-03-05T18:42:00.458Z"
   },
   {
    "duration": 75,
    "start_time": "2024-03-05T18:45:39.193Z"
   },
   {
    "duration": 4,
    "start_time": "2024-03-05T18:45:46.032Z"
   },
   {
    "duration": 4,
    "start_time": "2024-03-05T18:47:06.096Z"
   },
   {
    "duration": 2,
    "start_time": "2024-03-05T18:51:52.238Z"
   },
   {
    "duration": 18,
    "start_time": "2024-03-05T18:53:17.611Z"
   },
   {
    "duration": 12,
    "start_time": "2024-03-05T18:53:19.388Z"
   },
   {
    "duration": 70,
    "start_time": "2024-03-05T18:53:22.357Z"
   },
   {
    "duration": 77,
    "start_time": "2024-03-05T18:53:52.948Z"
   },
   {
    "duration": 74,
    "start_time": "2024-03-05T18:53:55.926Z"
   },
   {
    "duration": 12,
    "start_time": "2024-03-05T18:54:08.035Z"
   },
   {
    "duration": 72,
    "start_time": "2024-03-05T18:54:09.771Z"
   },
   {
    "duration": 2,
    "start_time": "2024-03-05T18:54:11.985Z"
   },
   {
    "duration": 181,
    "start_time": "2024-03-05T18:54:11.989Z"
   },
   {
    "duration": 9,
    "start_time": "2024-03-05T18:54:12.172Z"
   },
   {
    "duration": 29,
    "start_time": "2024-03-05T18:54:12.182Z"
   },
   {
    "duration": 3,
    "start_time": "2024-03-05T18:54:12.212Z"
   },
   {
    "duration": 5,
    "start_time": "2024-03-05T18:54:12.216Z"
   },
   {
    "duration": 6,
    "start_time": "2024-03-05T18:54:12.222Z"
   },
   {
    "duration": 4,
    "start_time": "2024-03-05T18:54:12.230Z"
   },
   {
    "duration": 51,
    "start_time": "2024-03-05T18:54:12.236Z"
   },
   {
    "duration": 34,
    "start_time": "2024-03-05T18:54:12.289Z"
   },
   {
    "duration": 44,
    "start_time": "2024-03-05T18:54:12.325Z"
   },
   {
    "duration": 60,
    "start_time": "2024-03-05T18:54:12.371Z"
   },
   {
    "duration": 84,
    "start_time": "2024-03-05T18:54:12.432Z"
   },
   {
    "duration": 57,
    "start_time": "2024-03-05T18:54:12.519Z"
   },
   {
    "duration": 40,
    "start_time": "2024-03-05T18:54:12.578Z"
   },
   {
    "duration": 9,
    "start_time": "2024-03-05T18:54:12.620Z"
   },
   {
    "duration": 68,
    "start_time": "2024-03-05T18:54:12.631Z"
   },
   {
    "duration": 11,
    "start_time": "2024-03-05T18:54:12.701Z"
   },
   {
    "duration": 11,
    "start_time": "2024-03-05T18:54:12.713Z"
   },
   {
    "duration": 3,
    "start_time": "2024-03-05T18:54:12.726Z"
   },
   {
    "duration": 48,
    "start_time": "2024-03-05T18:54:12.730Z"
   },
   {
    "duration": 19,
    "start_time": "2024-03-05T18:54:12.783Z"
   },
   {
    "duration": 15,
    "start_time": "2024-03-05T18:54:12.803Z"
   },
   {
    "duration": 14,
    "start_time": "2024-03-05T18:54:12.819Z"
   },
   {
    "duration": 40,
    "start_time": "2024-03-05T18:54:12.834Z"
   },
   {
    "duration": 15,
    "start_time": "2024-03-05T18:54:12.876Z"
   },
   {
    "duration": 9,
    "start_time": "2024-03-05T18:54:12.892Z"
   },
   {
    "duration": 11,
    "start_time": "2024-03-05T18:54:12.903Z"
   },
   {
    "duration": 36,
    "start_time": "2024-03-05T18:54:12.915Z"
   },
   {
    "duration": 5,
    "start_time": "2024-03-05T18:54:12.953Z"
   },
   {
    "duration": 16,
    "start_time": "2024-03-05T18:54:12.966Z"
   },
   {
    "duration": 12,
    "start_time": "2024-03-05T18:54:12.983Z"
   },
   {
    "duration": 69,
    "start_time": "2024-03-05T18:54:12.996Z"
   },
   {
    "duration": 0,
    "start_time": "2024-03-05T18:54:13.067Z"
   },
   {
    "duration": 0,
    "start_time": "2024-03-05T18:54:13.068Z"
   },
   {
    "duration": 0,
    "start_time": "2024-03-05T18:54:13.070Z"
   },
   {
    "duration": 0,
    "start_time": "2024-03-05T18:54:13.071Z"
   },
   {
    "duration": 0,
    "start_time": "2024-03-05T18:54:13.073Z"
   },
   {
    "duration": 26,
    "start_time": "2024-03-05T18:55:26.436Z"
   },
   {
    "duration": 13,
    "start_time": "2024-03-05T18:55:27.715Z"
   },
   {
    "duration": 7,
    "start_time": "2024-03-05T19:05:51.867Z"
   },
   {
    "duration": 9,
    "start_time": "2024-03-05T19:06:07.707Z"
   },
   {
    "duration": 12,
    "start_time": "2024-03-05T19:06:18.898Z"
   },
   {
    "duration": 12,
    "start_time": "2024-03-05T19:06:54.297Z"
   },
   {
    "duration": 9,
    "start_time": "2024-03-05T19:07:24.049Z"
   },
   {
    "duration": 10,
    "start_time": "2024-03-05T19:07:29.449Z"
   },
   {
    "duration": 27,
    "start_time": "2024-03-05T19:08:03.145Z"
   },
   {
    "duration": 8,
    "start_time": "2024-03-05T19:08:13.096Z"
   },
   {
    "duration": 4,
    "start_time": "2024-03-05T19:08:26.295Z"
   },
   {
    "duration": 4,
    "start_time": "2024-03-05T19:08:48.847Z"
   },
   {
    "duration": 7,
    "start_time": "2024-03-05T19:12:54.770Z"
   },
   {
    "duration": 6,
    "start_time": "2024-03-05T19:13:20.161Z"
   },
   {
    "duration": 5,
    "start_time": "2024-03-05T19:13:48.104Z"
   },
   {
    "duration": 445,
    "start_time": "2024-05-08T09:56:08.907Z"
   },
   {
    "duration": 200,
    "start_time": "2024-05-08T09:56:09.354Z"
   },
   {
    "duration": 25,
    "start_time": "2024-05-08T09:56:09.556Z"
   },
   {
    "duration": 41,
    "start_time": "2024-05-08T09:56:09.583Z"
   },
   {
    "duration": 10,
    "start_time": "2024-05-08T09:56:09.625Z"
   },
   {
    "duration": 5,
    "start_time": "2024-05-08T09:56:09.637Z"
   },
   {
    "duration": 12,
    "start_time": "2024-05-08T09:56:09.643Z"
   },
   {
    "duration": 25,
    "start_time": "2024-05-08T09:56:09.656Z"
   },
   {
    "duration": 32,
    "start_time": "2024-05-08T09:56:09.683Z"
   },
   {
    "duration": 42,
    "start_time": "2024-05-08T09:56:09.717Z"
   },
   {
    "duration": 45,
    "start_time": "2024-05-08T09:56:09.760Z"
   },
   {
    "duration": 86,
    "start_time": "2024-05-08T09:56:09.807Z"
   },
   {
    "duration": 94,
    "start_time": "2024-05-08T09:56:09.895Z"
   },
   {
    "duration": 66,
    "start_time": "2024-05-08T09:56:09.990Z"
   },
   {
    "duration": 57,
    "start_time": "2024-05-08T09:56:10.058Z"
   },
   {
    "duration": 11,
    "start_time": "2024-05-08T09:56:10.117Z"
   },
   {
    "duration": 65,
    "start_time": "2024-05-08T09:56:10.130Z"
   },
   {
    "duration": 20,
    "start_time": "2024-05-08T09:56:10.197Z"
   },
   {
    "duration": 30,
    "start_time": "2024-05-08T09:56:10.219Z"
   },
   {
    "duration": 17,
    "start_time": "2024-05-08T09:56:10.250Z"
   },
   {
    "duration": 45,
    "start_time": "2024-05-08T09:56:10.269Z"
   },
   {
    "duration": 31,
    "start_time": "2024-05-08T09:56:10.315Z"
   },
   {
    "duration": 32,
    "start_time": "2024-05-08T09:56:10.348Z"
   },
   {
    "duration": 45,
    "start_time": "2024-05-08T09:56:10.382Z"
   },
   {
    "duration": 24,
    "start_time": "2024-05-08T09:56:10.429Z"
   },
   {
    "duration": 35,
    "start_time": "2024-05-08T09:56:10.455Z"
   },
   {
    "duration": 11,
    "start_time": "2024-05-08T09:56:10.492Z"
   },
   {
    "duration": 29,
    "start_time": "2024-05-08T09:56:10.506Z"
   },
   {
    "duration": 21,
    "start_time": "2024-05-08T09:56:10.538Z"
   },
   {
    "duration": 36,
    "start_time": "2024-05-08T09:56:10.561Z"
   },
   {
    "duration": 55,
    "start_time": "2024-05-08T09:56:10.599Z"
   },
   {
    "duration": 13,
    "start_time": "2024-05-08T09:56:10.656Z"
   },
   {
    "duration": 31,
    "start_time": "2024-05-08T09:56:10.671Z"
   },
   {
    "duration": 21,
    "start_time": "2024-05-08T09:56:10.704Z"
   },
   {
    "duration": 30,
    "start_time": "2024-05-08T09:56:10.727Z"
   },
   {
    "duration": 29,
    "start_time": "2024-05-08T09:56:10.758Z"
   },
   {
    "duration": 29,
    "start_time": "2024-05-08T09:56:10.788Z"
   },
   {
    "duration": 34,
    "start_time": "2024-05-08T09:56:10.819Z"
   }
  ],
  "celltoolbar": "Отсутствует",
  "colab": {
   "collapsed_sections": [
    "E0vqbgi9ay0H",
    "VUC88oWjTJw2"
   ],
   "provenance": []
  },
  "kernelspec": {
   "display_name": "Python 3 (ipykernel)",
   "language": "python",
   "name": "python3"
  },
  "language_info": {
   "codemirror_mode": {
    "name": "ipython",
    "version": 3
   },
   "file_extension": ".py",
   "mimetype": "text/x-python",
   "name": "python",
   "nbconvert_exporter": "python",
   "pygments_lexer": "ipython3",
   "version": "3.9.5"
  },
  "toc": {
   "base_numbering": 1,
   "nav_menu": {
    "height": "215px",
    "width": "403px"
   },
   "number_sections": true,
   "sideBar": true,
   "skip_h1_title": true,
   "title_cell": "Table of Contents",
   "title_sidebar": "Contents",
   "toc_cell": false,
   "toc_position": {
    "height": "calc(100% - 180px)",
    "left": "10px",
    "top": "150px",
    "width": "285.825px"
   },
   "toc_section_display": true,
   "toc_window_display": false
  }
 },
 "nbformat": 4,
 "nbformat_minor": 1
}
