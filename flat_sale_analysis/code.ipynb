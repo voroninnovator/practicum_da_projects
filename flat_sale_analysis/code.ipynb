{
 "cells": [
  {
   "cell_type": "code",
   "execution_count": 1,
   "metadata": {
    "id": "7MZxY65pAwb9"
   },
   "outputs": [],
   "source": [
    "import pandas as pd\n",
    "import matplotlib.pyplot as plt"
   ]
  },
  {
   "cell_type": "code",
   "execution_count": 2,
   "metadata": {},
   "outputs": [
    {
     "data": {
      "text/html": [
       "<div>\n",
       "<style scoped>\n",
       "    .dataframe tbody tr th:only-of-type {\n",
       "        vertical-align: middle;\n",
       "    }\n",
       "\n",
       "    .dataframe tbody tr th {\n",
       "        vertical-align: top;\n",
       "    }\n",
       "\n",
       "    .dataframe thead th {\n",
       "        text-align: right;\n",
       "    }\n",
       "</style>\n",
       "<table border=\"1\" class=\"dataframe\">\n",
       "  <thead>\n",
       "    <tr style=\"text-align: right;\">\n",
       "      <th></th>\n",
       "      <th>total_images</th>\n",
       "      <th>last_price</th>\n",
       "      <th>total_area</th>\n",
       "      <th>first_day_exposition</th>\n",
       "      <th>rooms</th>\n",
       "      <th>ceiling_height</th>\n",
       "      <th>floors_total</th>\n",
       "      <th>living_area</th>\n",
       "      <th>floor</th>\n",
       "      <th>is_apartment</th>\n",
       "      <th>...</th>\n",
       "      <th>kitchen_area</th>\n",
       "      <th>balcony</th>\n",
       "      <th>locality_name</th>\n",
       "      <th>airports_nearest</th>\n",
       "      <th>cityCenters_nearest</th>\n",
       "      <th>parks_around3000</th>\n",
       "      <th>parks_nearest</th>\n",
       "      <th>ponds_around3000</th>\n",
       "      <th>ponds_nearest</th>\n",
       "      <th>days_exposition</th>\n",
       "    </tr>\n",
       "  </thead>\n",
       "  <tbody>\n",
       "    <tr>\n",
       "      <th>0</th>\n",
       "      <td>20</td>\n",
       "      <td>13000000.0</td>\n",
       "      <td>108.00</td>\n",
       "      <td>2019-03-07T00:00:00</td>\n",
       "      <td>3</td>\n",
       "      <td>2.70</td>\n",
       "      <td>16.0</td>\n",
       "      <td>51.00</td>\n",
       "      <td>8</td>\n",
       "      <td>NaN</td>\n",
       "      <td>...</td>\n",
       "      <td>25.00</td>\n",
       "      <td>NaN</td>\n",
       "      <td>Санкт-Петербург</td>\n",
       "      <td>18863.0</td>\n",
       "      <td>16028.0</td>\n",
       "      <td>1.0</td>\n",
       "      <td>482.0</td>\n",
       "      <td>2.0</td>\n",
       "      <td>755.0</td>\n",
       "      <td>NaN</td>\n",
       "    </tr>\n",
       "    <tr>\n",
       "      <th>1</th>\n",
       "      <td>7</td>\n",
       "      <td>3350000.0</td>\n",
       "      <td>40.40</td>\n",
       "      <td>2018-12-04T00:00:00</td>\n",
       "      <td>1</td>\n",
       "      <td>NaN</td>\n",
       "      <td>11.0</td>\n",
       "      <td>18.60</td>\n",
       "      <td>1</td>\n",
       "      <td>NaN</td>\n",
       "      <td>...</td>\n",
       "      <td>11.00</td>\n",
       "      <td>2.0</td>\n",
       "      <td>посёлок Шушары</td>\n",
       "      <td>12817.0</td>\n",
       "      <td>18603.0</td>\n",
       "      <td>0.0</td>\n",
       "      <td>NaN</td>\n",
       "      <td>0.0</td>\n",
       "      <td>NaN</td>\n",
       "      <td>81.0</td>\n",
       "    </tr>\n",
       "    <tr>\n",
       "      <th>2</th>\n",
       "      <td>10</td>\n",
       "      <td>5196000.0</td>\n",
       "      <td>56.00</td>\n",
       "      <td>2015-08-20T00:00:00</td>\n",
       "      <td>2</td>\n",
       "      <td>NaN</td>\n",
       "      <td>5.0</td>\n",
       "      <td>34.30</td>\n",
       "      <td>4</td>\n",
       "      <td>NaN</td>\n",
       "      <td>...</td>\n",
       "      <td>8.30</td>\n",
       "      <td>0.0</td>\n",
       "      <td>Санкт-Петербург</td>\n",
       "      <td>21741.0</td>\n",
       "      <td>13933.0</td>\n",
       "      <td>1.0</td>\n",
       "      <td>90.0</td>\n",
       "      <td>2.0</td>\n",
       "      <td>574.0</td>\n",
       "      <td>558.0</td>\n",
       "    </tr>\n",
       "    <tr>\n",
       "      <th>3</th>\n",
       "      <td>0</td>\n",
       "      <td>64900000.0</td>\n",
       "      <td>159.00</td>\n",
       "      <td>2015-07-24T00:00:00</td>\n",
       "      <td>3</td>\n",
       "      <td>NaN</td>\n",
       "      <td>14.0</td>\n",
       "      <td>NaN</td>\n",
       "      <td>9</td>\n",
       "      <td>NaN</td>\n",
       "      <td>...</td>\n",
       "      <td>NaN</td>\n",
       "      <td>0.0</td>\n",
       "      <td>Санкт-Петербург</td>\n",
       "      <td>28098.0</td>\n",
       "      <td>6800.0</td>\n",
       "      <td>2.0</td>\n",
       "      <td>84.0</td>\n",
       "      <td>3.0</td>\n",
       "      <td>234.0</td>\n",
       "      <td>424.0</td>\n",
       "    </tr>\n",
       "    <tr>\n",
       "      <th>4</th>\n",
       "      <td>2</td>\n",
       "      <td>10000000.0</td>\n",
       "      <td>100.00</td>\n",
       "      <td>2018-06-19T00:00:00</td>\n",
       "      <td>2</td>\n",
       "      <td>3.03</td>\n",
       "      <td>14.0</td>\n",
       "      <td>32.00</td>\n",
       "      <td>13</td>\n",
       "      <td>NaN</td>\n",
       "      <td>...</td>\n",
       "      <td>41.00</td>\n",
       "      <td>NaN</td>\n",
       "      <td>Санкт-Петербург</td>\n",
       "      <td>31856.0</td>\n",
       "      <td>8098.0</td>\n",
       "      <td>2.0</td>\n",
       "      <td>112.0</td>\n",
       "      <td>1.0</td>\n",
       "      <td>48.0</td>\n",
       "      <td>121.0</td>\n",
       "    </tr>\n",
       "    <tr>\n",
       "      <th>5</th>\n",
       "      <td>10</td>\n",
       "      <td>2890000.0</td>\n",
       "      <td>30.40</td>\n",
       "      <td>2018-09-10T00:00:00</td>\n",
       "      <td>1</td>\n",
       "      <td>NaN</td>\n",
       "      <td>12.0</td>\n",
       "      <td>14.40</td>\n",
       "      <td>5</td>\n",
       "      <td>NaN</td>\n",
       "      <td>...</td>\n",
       "      <td>9.10</td>\n",
       "      <td>NaN</td>\n",
       "      <td>городской посёлок Янино-1</td>\n",
       "      <td>NaN</td>\n",
       "      <td>NaN</td>\n",
       "      <td>NaN</td>\n",
       "      <td>NaN</td>\n",
       "      <td>NaN</td>\n",
       "      <td>NaN</td>\n",
       "      <td>55.0</td>\n",
       "    </tr>\n",
       "    <tr>\n",
       "      <th>6</th>\n",
       "      <td>6</td>\n",
       "      <td>3700000.0</td>\n",
       "      <td>37.30</td>\n",
       "      <td>2017-11-02T00:00:00</td>\n",
       "      <td>1</td>\n",
       "      <td>NaN</td>\n",
       "      <td>26.0</td>\n",
       "      <td>10.60</td>\n",
       "      <td>6</td>\n",
       "      <td>NaN</td>\n",
       "      <td>...</td>\n",
       "      <td>14.40</td>\n",
       "      <td>1.0</td>\n",
       "      <td>посёлок Парголово</td>\n",
       "      <td>52996.0</td>\n",
       "      <td>19143.0</td>\n",
       "      <td>0.0</td>\n",
       "      <td>NaN</td>\n",
       "      <td>0.0</td>\n",
       "      <td>NaN</td>\n",
       "      <td>155.0</td>\n",
       "    </tr>\n",
       "    <tr>\n",
       "      <th>7</th>\n",
       "      <td>5</td>\n",
       "      <td>7915000.0</td>\n",
       "      <td>71.60</td>\n",
       "      <td>2019-04-18T00:00:00</td>\n",
       "      <td>2</td>\n",
       "      <td>NaN</td>\n",
       "      <td>24.0</td>\n",
       "      <td>NaN</td>\n",
       "      <td>22</td>\n",
       "      <td>NaN</td>\n",
       "      <td>...</td>\n",
       "      <td>18.90</td>\n",
       "      <td>2.0</td>\n",
       "      <td>Санкт-Петербург</td>\n",
       "      <td>23982.0</td>\n",
       "      <td>11634.0</td>\n",
       "      <td>0.0</td>\n",
       "      <td>NaN</td>\n",
       "      <td>0.0</td>\n",
       "      <td>NaN</td>\n",
       "      <td>NaN</td>\n",
       "    </tr>\n",
       "    <tr>\n",
       "      <th>8</th>\n",
       "      <td>20</td>\n",
       "      <td>2900000.0</td>\n",
       "      <td>33.16</td>\n",
       "      <td>2018-05-23T00:00:00</td>\n",
       "      <td>1</td>\n",
       "      <td>NaN</td>\n",
       "      <td>27.0</td>\n",
       "      <td>15.43</td>\n",
       "      <td>26</td>\n",
       "      <td>NaN</td>\n",
       "      <td>...</td>\n",
       "      <td>8.81</td>\n",
       "      <td>NaN</td>\n",
       "      <td>посёлок Мурино</td>\n",
       "      <td>NaN</td>\n",
       "      <td>NaN</td>\n",
       "      <td>NaN</td>\n",
       "      <td>NaN</td>\n",
       "      <td>NaN</td>\n",
       "      <td>NaN</td>\n",
       "      <td>189.0</td>\n",
       "    </tr>\n",
       "    <tr>\n",
       "      <th>9</th>\n",
       "      <td>18</td>\n",
       "      <td>5400000.0</td>\n",
       "      <td>61.00</td>\n",
       "      <td>2017-02-26T00:00:00</td>\n",
       "      <td>3</td>\n",
       "      <td>2.50</td>\n",
       "      <td>9.0</td>\n",
       "      <td>43.60</td>\n",
       "      <td>7</td>\n",
       "      <td>NaN</td>\n",
       "      <td>...</td>\n",
       "      <td>6.50</td>\n",
       "      <td>2.0</td>\n",
       "      <td>Санкт-Петербург</td>\n",
       "      <td>50898.0</td>\n",
       "      <td>15008.0</td>\n",
       "      <td>0.0</td>\n",
       "      <td>NaN</td>\n",
       "      <td>0.0</td>\n",
       "      <td>NaN</td>\n",
       "      <td>289.0</td>\n",
       "    </tr>\n",
       "    <tr>\n",
       "      <th>10</th>\n",
       "      <td>5</td>\n",
       "      <td>5050000.0</td>\n",
       "      <td>39.60</td>\n",
       "      <td>2017-11-16T00:00:00</td>\n",
       "      <td>1</td>\n",
       "      <td>2.67</td>\n",
       "      <td>12.0</td>\n",
       "      <td>20.30</td>\n",
       "      <td>3</td>\n",
       "      <td>NaN</td>\n",
       "      <td>...</td>\n",
       "      <td>8.50</td>\n",
       "      <td>NaN</td>\n",
       "      <td>Санкт-Петербург</td>\n",
       "      <td>38357.0</td>\n",
       "      <td>13878.0</td>\n",
       "      <td>1.0</td>\n",
       "      <td>310.0</td>\n",
       "      <td>2.0</td>\n",
       "      <td>553.0</td>\n",
       "      <td>137.0</td>\n",
       "    </tr>\n",
       "    <tr>\n",
       "      <th>11</th>\n",
       "      <td>9</td>\n",
       "      <td>3300000.0</td>\n",
       "      <td>44.00</td>\n",
       "      <td>2018-08-27T00:00:00</td>\n",
       "      <td>2</td>\n",
       "      <td>NaN</td>\n",
       "      <td>5.0</td>\n",
       "      <td>31.00</td>\n",
       "      <td>4</td>\n",
       "      <td>False</td>\n",
       "      <td>...</td>\n",
       "      <td>6.00</td>\n",
       "      <td>1.0</td>\n",
       "      <td>Ломоносов</td>\n",
       "      <td>48252.0</td>\n",
       "      <td>51677.0</td>\n",
       "      <td>0.0</td>\n",
       "      <td>NaN</td>\n",
       "      <td>0.0</td>\n",
       "      <td>NaN</td>\n",
       "      <td>7.0</td>\n",
       "    </tr>\n",
       "    <tr>\n",
       "      <th>12</th>\n",
       "      <td>10</td>\n",
       "      <td>3890000.0</td>\n",
       "      <td>54.00</td>\n",
       "      <td>2016-06-30T00:00:00</td>\n",
       "      <td>2</td>\n",
       "      <td>NaN</td>\n",
       "      <td>5.0</td>\n",
       "      <td>30.00</td>\n",
       "      <td>5</td>\n",
       "      <td>NaN</td>\n",
       "      <td>...</td>\n",
       "      <td>9.00</td>\n",
       "      <td>0.0</td>\n",
       "      <td>Сертолово</td>\n",
       "      <td>NaN</td>\n",
       "      <td>NaN</td>\n",
       "      <td>NaN</td>\n",
       "      <td>NaN</td>\n",
       "      <td>NaN</td>\n",
       "      <td>NaN</td>\n",
       "      <td>90.0</td>\n",
       "    </tr>\n",
       "    <tr>\n",
       "      <th>13</th>\n",
       "      <td>20</td>\n",
       "      <td>3550000.0</td>\n",
       "      <td>42.80</td>\n",
       "      <td>2017-07-01T00:00:00</td>\n",
       "      <td>2</td>\n",
       "      <td>2.56</td>\n",
       "      <td>5.0</td>\n",
       "      <td>27.00</td>\n",
       "      <td>5</td>\n",
       "      <td>NaN</td>\n",
       "      <td>...</td>\n",
       "      <td>5.20</td>\n",
       "      <td>1.0</td>\n",
       "      <td>Петергоф</td>\n",
       "      <td>37868.0</td>\n",
       "      <td>33058.0</td>\n",
       "      <td>1.0</td>\n",
       "      <td>294.0</td>\n",
       "      <td>3.0</td>\n",
       "      <td>298.0</td>\n",
       "      <td>366.0</td>\n",
       "    </tr>\n",
       "    <tr>\n",
       "      <th>14</th>\n",
       "      <td>1</td>\n",
       "      <td>4400000.0</td>\n",
       "      <td>36.00</td>\n",
       "      <td>2016-06-23T00:00:00</td>\n",
       "      <td>1</td>\n",
       "      <td>NaN</td>\n",
       "      <td>6.0</td>\n",
       "      <td>17.00</td>\n",
       "      <td>1</td>\n",
       "      <td>NaN</td>\n",
       "      <td>...</td>\n",
       "      <td>8.00</td>\n",
       "      <td>0.0</td>\n",
       "      <td>Пушкин</td>\n",
       "      <td>20782.0</td>\n",
       "      <td>30759.0</td>\n",
       "      <td>0.0</td>\n",
       "      <td>NaN</td>\n",
       "      <td>1.0</td>\n",
       "      <td>96.0</td>\n",
       "      <td>203.0</td>\n",
       "    </tr>\n",
       "    <tr>\n",
       "      <th>15</th>\n",
       "      <td>16</td>\n",
       "      <td>4650000.0</td>\n",
       "      <td>39.00</td>\n",
       "      <td>2017-11-18T00:00:00</td>\n",
       "      <td>1</td>\n",
       "      <td>NaN</td>\n",
       "      <td>14.0</td>\n",
       "      <td>20.50</td>\n",
       "      <td>5</td>\n",
       "      <td>NaN</td>\n",
       "      <td>...</td>\n",
       "      <td>7.60</td>\n",
       "      <td>1.0</td>\n",
       "      <td>Санкт-Петербург</td>\n",
       "      <td>12900.0</td>\n",
       "      <td>14259.0</td>\n",
       "      <td>1.0</td>\n",
       "      <td>590.0</td>\n",
       "      <td>1.0</td>\n",
       "      <td>296.0</td>\n",
       "      <td>19.0</td>\n",
       "    </tr>\n",
       "    <tr>\n",
       "      <th>16</th>\n",
       "      <td>11</td>\n",
       "      <td>6700000.0</td>\n",
       "      <td>82.00</td>\n",
       "      <td>2017-11-23T00:00:00</td>\n",
       "      <td>3</td>\n",
       "      <td>3.05</td>\n",
       "      <td>5.0</td>\n",
       "      <td>55.60</td>\n",
       "      <td>1</td>\n",
       "      <td>NaN</td>\n",
       "      <td>...</td>\n",
       "      <td>9.00</td>\n",
       "      <td>NaN</td>\n",
       "      <td>Санкт-Петербург</td>\n",
       "      <td>22108.0</td>\n",
       "      <td>10698.0</td>\n",
       "      <td>3.0</td>\n",
       "      <td>420.0</td>\n",
       "      <td>0.0</td>\n",
       "      <td>NaN</td>\n",
       "      <td>397.0</td>\n",
       "    </tr>\n",
       "    <tr>\n",
       "      <th>17</th>\n",
       "      <td>6</td>\n",
       "      <td>4180000.0</td>\n",
       "      <td>36.00</td>\n",
       "      <td>2016-09-09T00:00:00</td>\n",
       "      <td>1</td>\n",
       "      <td>NaN</td>\n",
       "      <td>17.0</td>\n",
       "      <td>16.50</td>\n",
       "      <td>7</td>\n",
       "      <td>NaN</td>\n",
       "      <td>...</td>\n",
       "      <td>11.00</td>\n",
       "      <td>1.0</td>\n",
       "      <td>Санкт-Петербург</td>\n",
       "      <td>33564.0</td>\n",
       "      <td>14616.0</td>\n",
       "      <td>0.0</td>\n",
       "      <td>NaN</td>\n",
       "      <td>1.0</td>\n",
       "      <td>859.0</td>\n",
       "      <td>571.0</td>\n",
       "    </tr>\n",
       "    <tr>\n",
       "      <th>18</th>\n",
       "      <td>8</td>\n",
       "      <td>3250000.0</td>\n",
       "      <td>31.00</td>\n",
       "      <td>2017-01-27T00:00:00</td>\n",
       "      <td>1</td>\n",
       "      <td>2.50</td>\n",
       "      <td>5.0</td>\n",
       "      <td>19.40</td>\n",
       "      <td>2</td>\n",
       "      <td>NaN</td>\n",
       "      <td>...</td>\n",
       "      <td>5.60</td>\n",
       "      <td>1.0</td>\n",
       "      <td>Санкт-Петербург</td>\n",
       "      <td>44060.0</td>\n",
       "      <td>10842.0</td>\n",
       "      <td>1.0</td>\n",
       "      <td>759.0</td>\n",
       "      <td>0.0</td>\n",
       "      <td>NaN</td>\n",
       "      <td>168.0</td>\n",
       "    </tr>\n",
       "    <tr>\n",
       "      <th>19</th>\n",
       "      <td>16</td>\n",
       "      <td>14200000.0</td>\n",
       "      <td>121.00</td>\n",
       "      <td>2019-01-09T00:00:00</td>\n",
       "      <td>3</td>\n",
       "      <td>2.75</td>\n",
       "      <td>16.0</td>\n",
       "      <td>76.00</td>\n",
       "      <td>8</td>\n",
       "      <td>NaN</td>\n",
       "      <td>...</td>\n",
       "      <td>12.00</td>\n",
       "      <td>NaN</td>\n",
       "      <td>Санкт-Петербург</td>\n",
       "      <td>38900.0</td>\n",
       "      <td>12843.0</td>\n",
       "      <td>0.0</td>\n",
       "      <td>NaN</td>\n",
       "      <td>0.0</td>\n",
       "      <td>NaN</td>\n",
       "      <td>97.0</td>\n",
       "    </tr>\n",
       "  </tbody>\n",
       "</table>\n",
       "<p>20 rows × 22 columns</p>\n",
       "</div>"
      ],
      "text/plain": [
       "    total_images  last_price  total_area first_day_exposition  rooms  \\\n",
       "0             20  13000000.0      108.00  2019-03-07T00:00:00      3   \n",
       "1              7   3350000.0       40.40  2018-12-04T00:00:00      1   \n",
       "2             10   5196000.0       56.00  2015-08-20T00:00:00      2   \n",
       "3              0  64900000.0      159.00  2015-07-24T00:00:00      3   \n",
       "4              2  10000000.0      100.00  2018-06-19T00:00:00      2   \n",
       "5             10   2890000.0       30.40  2018-09-10T00:00:00      1   \n",
       "6              6   3700000.0       37.30  2017-11-02T00:00:00      1   \n",
       "7              5   7915000.0       71.60  2019-04-18T00:00:00      2   \n",
       "8             20   2900000.0       33.16  2018-05-23T00:00:00      1   \n",
       "9             18   5400000.0       61.00  2017-02-26T00:00:00      3   \n",
       "10             5   5050000.0       39.60  2017-11-16T00:00:00      1   \n",
       "11             9   3300000.0       44.00  2018-08-27T00:00:00      2   \n",
       "12            10   3890000.0       54.00  2016-06-30T00:00:00      2   \n",
       "13            20   3550000.0       42.80  2017-07-01T00:00:00      2   \n",
       "14             1   4400000.0       36.00  2016-06-23T00:00:00      1   \n",
       "15            16   4650000.0       39.00  2017-11-18T00:00:00      1   \n",
       "16            11   6700000.0       82.00  2017-11-23T00:00:00      3   \n",
       "17             6   4180000.0       36.00  2016-09-09T00:00:00      1   \n",
       "18             8   3250000.0       31.00  2017-01-27T00:00:00      1   \n",
       "19            16  14200000.0      121.00  2019-01-09T00:00:00      3   \n",
       "\n",
       "    ceiling_height  floors_total  living_area  floor is_apartment  ...  \\\n",
       "0             2.70          16.0        51.00      8          NaN  ...   \n",
       "1              NaN          11.0        18.60      1          NaN  ...   \n",
       "2              NaN           5.0        34.30      4          NaN  ...   \n",
       "3              NaN          14.0          NaN      9          NaN  ...   \n",
       "4             3.03          14.0        32.00     13          NaN  ...   \n",
       "5              NaN          12.0        14.40      5          NaN  ...   \n",
       "6              NaN          26.0        10.60      6          NaN  ...   \n",
       "7              NaN          24.0          NaN     22          NaN  ...   \n",
       "8              NaN          27.0        15.43     26          NaN  ...   \n",
       "9             2.50           9.0        43.60      7          NaN  ...   \n",
       "10            2.67          12.0        20.30      3          NaN  ...   \n",
       "11             NaN           5.0        31.00      4        False  ...   \n",
       "12             NaN           5.0        30.00      5          NaN  ...   \n",
       "13            2.56           5.0        27.00      5          NaN  ...   \n",
       "14             NaN           6.0        17.00      1          NaN  ...   \n",
       "15             NaN          14.0        20.50      5          NaN  ...   \n",
       "16            3.05           5.0        55.60      1          NaN  ...   \n",
       "17             NaN          17.0        16.50      7          NaN  ...   \n",
       "18            2.50           5.0        19.40      2          NaN  ...   \n",
       "19            2.75          16.0        76.00      8          NaN  ...   \n",
       "\n",
       "    kitchen_area  balcony              locality_name  airports_nearest  \\\n",
       "0          25.00      NaN            Санкт-Петербург           18863.0   \n",
       "1          11.00      2.0             посёлок Шушары           12817.0   \n",
       "2           8.30      0.0            Санкт-Петербург           21741.0   \n",
       "3            NaN      0.0            Санкт-Петербург           28098.0   \n",
       "4          41.00      NaN            Санкт-Петербург           31856.0   \n",
       "5           9.10      NaN  городской посёлок Янино-1               NaN   \n",
       "6          14.40      1.0          посёлок Парголово           52996.0   \n",
       "7          18.90      2.0            Санкт-Петербург           23982.0   \n",
       "8           8.81      NaN             посёлок Мурино               NaN   \n",
       "9           6.50      2.0            Санкт-Петербург           50898.0   \n",
       "10          8.50      NaN            Санкт-Петербург           38357.0   \n",
       "11          6.00      1.0                  Ломоносов           48252.0   \n",
       "12          9.00      0.0                  Сертолово               NaN   \n",
       "13          5.20      1.0                   Петергоф           37868.0   \n",
       "14          8.00      0.0                     Пушкин           20782.0   \n",
       "15          7.60      1.0            Санкт-Петербург           12900.0   \n",
       "16          9.00      NaN            Санкт-Петербург           22108.0   \n",
       "17         11.00      1.0            Санкт-Петербург           33564.0   \n",
       "18          5.60      1.0            Санкт-Петербург           44060.0   \n",
       "19         12.00      NaN            Санкт-Петербург           38900.0   \n",
       "\n",
       "   cityCenters_nearest  parks_around3000  parks_nearest  ponds_around3000  \\\n",
       "0              16028.0               1.0          482.0               2.0   \n",
       "1              18603.0               0.0            NaN               0.0   \n",
       "2              13933.0               1.0           90.0               2.0   \n",
       "3               6800.0               2.0           84.0               3.0   \n",
       "4               8098.0               2.0          112.0               1.0   \n",
       "5                  NaN               NaN            NaN               NaN   \n",
       "6              19143.0               0.0            NaN               0.0   \n",
       "7              11634.0               0.0            NaN               0.0   \n",
       "8                  NaN               NaN            NaN               NaN   \n",
       "9              15008.0               0.0            NaN               0.0   \n",
       "10             13878.0               1.0          310.0               2.0   \n",
       "11             51677.0               0.0            NaN               0.0   \n",
       "12                 NaN               NaN            NaN               NaN   \n",
       "13             33058.0               1.0          294.0               3.0   \n",
       "14             30759.0               0.0            NaN               1.0   \n",
       "15             14259.0               1.0          590.0               1.0   \n",
       "16             10698.0               3.0          420.0               0.0   \n",
       "17             14616.0               0.0            NaN               1.0   \n",
       "18             10842.0               1.0          759.0               0.0   \n",
       "19             12843.0               0.0            NaN               0.0   \n",
       "\n",
       "    ponds_nearest  days_exposition  \n",
       "0           755.0              NaN  \n",
       "1             NaN             81.0  \n",
       "2           574.0            558.0  \n",
       "3           234.0            424.0  \n",
       "4            48.0            121.0  \n",
       "5             NaN             55.0  \n",
       "6             NaN            155.0  \n",
       "7             NaN              NaN  \n",
       "8             NaN            189.0  \n",
       "9             NaN            289.0  \n",
       "10          553.0            137.0  \n",
       "11            NaN              7.0  \n",
       "12            NaN             90.0  \n",
       "13          298.0            366.0  \n",
       "14           96.0            203.0  \n",
       "15          296.0             19.0  \n",
       "16            NaN            397.0  \n",
       "17          859.0            571.0  \n",
       "18            NaN            168.0  \n",
       "19            NaN             97.0  \n",
       "\n",
       "[20 rows x 22 columns]"
      ]
     },
     "execution_count": 2,
     "metadata": {},
     "output_type": "execute_result"
    }
   ],
   "source": [
    "try:\n",
    "    data = pd.read_csv('/datasets/real_estate_data.csv', sep='\\t')\n",
    "except:\n",
    "    data = pd.read_csv('real_estate_data.csv', sep='\\t')\n",
    "    \n",
    "data.head(20)"
   ]
  },
  {
   "cell_type": "code",
   "execution_count": 3,
   "metadata": {
    "scrolled": true
   },
   "outputs": [
    {
     "name": "stdout",
     "output_type": "stream",
     "text": [
      "<class 'pandas.core.frame.DataFrame'>\n",
      "RangeIndex: 23699 entries, 0 to 23698\n",
      "Data columns (total 22 columns):\n",
      " #   Column                Non-Null Count  Dtype  \n",
      "---  ------                --------------  -----  \n",
      " 0   total_images          23699 non-null  int64  \n",
      " 1   last_price            23699 non-null  float64\n",
      " 2   total_area            23699 non-null  float64\n",
      " 3   first_day_exposition  23699 non-null  object \n",
      " 4   rooms                 23699 non-null  int64  \n",
      " 5   ceiling_height        14504 non-null  float64\n",
      " 6   floors_total          23613 non-null  float64\n",
      " 7   living_area           21796 non-null  float64\n",
      " 8   floor                 23699 non-null  int64  \n",
      " 9   is_apartment          2775 non-null   object \n",
      " 10  studio                23699 non-null  bool   \n",
      " 11  open_plan             23699 non-null  bool   \n",
      " 12  kitchen_area          21421 non-null  float64\n",
      " 13  balcony               12180 non-null  float64\n",
      " 14  locality_name         23650 non-null  object \n",
      " 15  airports_nearest      18157 non-null  float64\n",
      " 16  cityCenters_nearest   18180 non-null  float64\n",
      " 17  parks_around3000      18181 non-null  float64\n",
      " 18  parks_nearest         8079 non-null   float64\n",
      " 19  ponds_around3000      18181 non-null  float64\n",
      " 20  ponds_nearest         9110 non-null   float64\n",
      " 21  days_exposition       20518 non-null  float64\n",
      "dtypes: bool(2), float64(14), int64(3), object(3)\n",
      "memory usage: 3.7+ MB\n"
     ]
    }
   ],
   "source": [
    "data.info()"
   ]
  },
  {
   "cell_type": "code",
   "execution_count": 4,
   "metadata": {},
   "outputs": [
    {
     "data": {
      "text/plain": [
       "array([[<AxesSubplot:title={'center':'total_images'}>,\n",
       "        <AxesSubplot:title={'center':'last_price'}>,\n",
       "        <AxesSubplot:title={'center':'total_area'}>,\n",
       "        <AxesSubplot:title={'center':'rooms'}>],\n",
       "       [<AxesSubplot:title={'center':'ceiling_height'}>,\n",
       "        <AxesSubplot:title={'center':'floors_total'}>,\n",
       "        <AxesSubplot:title={'center':'living_area'}>,\n",
       "        <AxesSubplot:title={'center':'floor'}>],\n",
       "       [<AxesSubplot:title={'center':'kitchen_area'}>,\n",
       "        <AxesSubplot:title={'center':'balcony'}>,\n",
       "        <AxesSubplot:title={'center':'airports_nearest'}>,\n",
       "        <AxesSubplot:title={'center':'cityCenters_nearest'}>],\n",
       "       [<AxesSubplot:title={'center':'parks_around3000'}>,\n",
       "        <AxesSubplot:title={'center':'parks_nearest'}>,\n",
       "        <AxesSubplot:title={'center':'ponds_around3000'}>,\n",
       "        <AxesSubplot:title={'center':'ponds_nearest'}>],\n",
       "       [<AxesSubplot:title={'center':'days_exposition'}>, <AxesSubplot:>,\n",
       "        <AxesSubplot:>, <AxesSubplot:>]], dtype=object)"
      ]
     },
     "execution_count": 4,
     "metadata": {},
     "output_type": "execute_result"
    },
    {
     "data": {
      "image/png": "[encoded data removed]",
      "text/plain": [
       "<Figure size 1080x1440 with 20 Axes>"
      ]
     },
     "metadata": {
      "needs_background": "light"
     },
     "output_type": "display_data"
    }
   ],
   "source": [
    "data.hist(figsize=(15, 20))"
   ]
  },
  {
   "cell_type": "code",
   "execution_count": 5,
   "metadata": {
    "id": "7v3vAeTuAwb-",
    "scrolled": true
   },
   "outputs": [
    {
     "data": {
      "text/plain": [
       "total_images                0\n",
       "last_price                  0\n",
       "total_area                  0\n",
       "first_day_exposition        0\n",
       "rooms                       0\n",
       "ceiling_height           9195\n",
       "floors_total               86\n",
       "living_area              1903\n",
       "floor                       0\n",
       "is_apartment            20924\n",
       "studio                      0\n",
       "open_plan                   0\n",
       "kitchen_area             2278\n",
       "balcony                 11519\n",
       "locality_name              49\n",
       "airports_nearest         5542\n",
       "cityCenters_nearest      5519\n",
       "parks_around3000         5518\n",
       "parks_nearest           15620\n",
       "ponds_around3000         5518\n",
       "ponds_nearest           14589\n",
       "days_exposition          3181\n",
       "dtype: int64"
      ]
     },
     "execution_count": 5,
     "metadata": {},
     "output_type": "execute_result"
    }
   ],
   "source": [
    "data.isnull().sum()"
   ]
  },
  {
   "cell_type": "code",
   "execution_count": 6,
   "metadata": {},
   "outputs": [],
   "source": [
    "def missing_percentage(column):\n",
    "    return ((data[column].isna().sum()) / len(data) * 100).round(2).astype(str) + '%'"
   ]
  },
  {
   "cell_type": "code",
   "execution_count": 7,
   "metadata": {},
   "outputs": [
    {
     "name": "stdout",
     "output_type": "stream",
     "text": [
      "13.42%\n"
     ]
    }
   ],
   "source": [
    "print(missing_percentage('days_exposition'))"
   ]
  },
  {
   "cell_type": "code",
   "execution_count": 8,
   "metadata": {
    "scrolled": true
   },
   "outputs": [],
   "source": [
    "data['first_day_exposition'] = pd.to_datetime(data['first_day_exposition'])\n",
    "\n",
    "data['ceiling_height'].fillna(data['ceiling_height'].median(), inplace=True)\n",
    "\n",
    "data['floors_total'] = data['floors_total'].astype('Int32')\n",
    "\n",
    "data['balcony'] = data['balcony'].fillna(0)\n",
    "\n",
    "data['days_exposition'] = data['days_exposition'].fillna(0).astype('int')\n",
    "\n",
    "data.dropna(subset=['locality_name'], inplace=True)\n",
    "data.dropna(subset=['floors_total'], inplace=True)\n",
    "\n",
    "tmp_living_room = data.groupby(['locality_name', 'rooms'])[['total_area', 'living_area']].transform('mean')\n",
    "tmp_living_room['ratio'] = tmp_living_room['living_area'] / tmp_living_room['total_area']\n",
    "data['living_area'] = data['living_area'].fillna(data['total_area'] * tmp_living_room['ratio'])\n",
    "\n",
    "tmp_kitchen = data.groupby(['locality_name', 'rooms'])[['living_area', 'kitchen_area']].transform('mean')\n",
    "tmp_kitchen['ratio'] = tmp_kitchen['kitchen_area'] / tmp_kitchen['living_area']\n",
    "data['kitchen_area'] = data['kitchen_area'].fillna(data['living_area'] * tmp_kitchen['ratio'])"
   ]
  },
  {
   "cell_type": "code",
   "execution_count": 9,
   "metadata": {},
   "outputs": [
    {
     "name": "stdout",
     "output_type": "stream",
     "text": [
      "<class 'pandas.core.frame.DataFrame'>\n",
      "Int64Index: 23565 entries, 0 to 23698\n",
      "Data columns (total 22 columns):\n",
      " #   Column                Non-Null Count  Dtype         \n",
      "---  ------                --------------  -----         \n",
      " 0   total_images          23565 non-null  int64         \n",
      " 1   last_price            23565 non-null  float64       \n",
      " 2   total_area            23565 non-null  float64       \n",
      " 3   first_day_exposition  23565 non-null  datetime64[ns]\n",
      " 4   rooms                 23565 non-null  int64         \n",
      " 5   ceiling_height        23565 non-null  float64       \n",
      " 6   floors_total          23565 non-null  Int32         \n",
      " 7   living_area           23510 non-null  float64       \n",
      " 8   floor                 23565 non-null  int64         \n",
      " 9   is_apartment          2760 non-null   object        \n",
      " 10  studio                23565 non-null  bool          \n",
      " 11  open_plan             23565 non-null  bool          \n",
      " 12  kitchen_area          23322 non-null  float64       \n",
      " 13  balcony               23565 non-null  float64       \n",
      " 14  locality_name         23565 non-null  object        \n",
      " 15  airports_nearest      18041 non-null  float64       \n",
      " 16  cityCenters_nearest   18064 non-null  float64       \n",
      " 17  parks_around3000      18065 non-null  float64       \n",
      " 18  parks_nearest         8030 non-null   float64       \n",
      " 19  ponds_around3000      18065 non-null  float64       \n",
      " 20  ponds_nearest         9036 non-null   float64       \n",
      " 21  days_exposition       23565 non-null  int64         \n",
      "dtypes: Int32(1), bool(2), datetime64[ns](1), float64(12), int64(4), object(2)\n",
      "memory usage: 3.8+ MB\n"
     ]
    }
   ],
   "source": [
    "data.info()"
   ]
  },
  {
   "cell_type": "code",
   "execution_count": 10,
   "metadata": {
    "scrolled": true
   },
   "outputs": [
    {
     "data": {
      "text/plain": [
       "array(['Санкт-Петербург', 'поселок Шушары', 'поселок Янино-1',\n",
       "       'поселок Парголово', 'поселок Мурино', 'Ломоносов', 'Сертолово',\n",
       "       'Петергоф', 'Пушкин', 'деревня Кудрово', 'Коммунар', 'Колпино',\n",
       "       'поселок Красный Бор', 'Гатчина', 'деревня Федоровское', 'Выборг',\n",
       "       'Кронштадт', 'Кировск', 'деревня Новое Девяткино',\n",
       "       'поселок Металлострой', 'поселок Лебяжье', 'поселок Сиверский',\n",
       "       'поселок Молодцово', 'поселок Кузьмоловский',\n",
       "       'садовое товарищество Новая Ропша', 'Павловск',\n",
       "       'деревня Пикколово', 'Всеволожск', 'Волхов', 'Кингисепп',\n",
       "       'Приозерск', 'Сестрорецк', 'деревня Куттузи', 'поселок Аннино',\n",
       "       'поселок Ефимовский', 'поселок Плодовое', 'деревня Заклинье',\n",
       "       'поселок Торковичи', 'поселок Первомайское', 'Красное Село',\n",
       "       'поселок Понтонный', 'Сясьстрой', 'деревня Старая',\n",
       "       'деревня Лесколово', 'поселок Новый Свет', 'Сланцы',\n",
       "       'село Путилово', 'Ивангород', 'Мурино', 'Шлиссельбург',\n",
       "       'Никольское', 'Зеленогорск', 'Сосновый Бор', 'деревня Оржицы',\n",
       "       'деревня Кальтино', 'Кудрово', 'поселок Романовка',\n",
       "       'поселок Бугры', 'поселок Рощино', 'Кириши', 'Луга', 'Волосово',\n",
       "       'Отрадное', 'село Павлово', 'поселок Оредеж', 'село Копорье',\n",
       "       'поселок Молодежное', 'Тихвин', 'поселок Победа', 'деревня Нурма',\n",
       "       'поселок Синявино', 'Тосно', 'поселок Стрельна', 'Бокситогорск',\n",
       "       'поселок Александровская', 'деревня Лопухинка', 'Пикалево',\n",
       "       'поселок Терволово', 'поселок Советский', 'Подпорожье',\n",
       "       'поселок Петровское', 'поселок Токсово', 'поселок Сельцо',\n",
       "       'поселок Вырица', 'деревня Кипень', 'деревня Келози',\n",
       "       'деревня Вартемяги', 'поселок Тельмана', 'поселок Севастьяново',\n",
       "       'поселок Большая Ижора', 'поселок Павлово', 'деревня Агалатово',\n",
       "       'поселок Новогорелово', 'поселок Лесогорский', 'деревня Лаголово',\n",
       "       'поселок Цвелодубово', 'поселок Рахья', 'деревня Белогорка',\n",
       "       'поселок Заводской', 'поселок Новоселье',\n",
       "       'деревня Большие Колпаны', 'деревня Горбунки', 'деревня Батово',\n",
       "       'деревня Заневка', 'деревня Иссад', 'Приморск',\n",
       "       'поселок Федоровское', 'деревня Мистолово', 'Новая Ладога',\n",
       "       'поселок Зимитицы', 'поселок Барышево', 'деревня Разметелево',\n",
       "       'поселок имени Свердлова', 'деревня Пеники', 'поселок Рябово',\n",
       "       'деревня Пудомяги', 'поселок станции Корнево', 'деревня Низино',\n",
       "       'деревня Бегуницы', 'поселок Поляны', 'поселок Мга',\n",
       "       'поселок Елизаветино', 'поселок Кузнечное', 'деревня Колтуши',\n",
       "       'поселок Запорожское', 'деревня Гостилицы',\n",
       "       'деревня Малое Карлино', 'поселок Мичуринское',\n",
       "       'поселок имени Морозова', 'поселок Песочный', 'поселок Сосново',\n",
       "       'деревня Аро', 'поселок Ильичево', 'поселок Тайцы',\n",
       "       'деревня Малое Верево', 'деревня Извара', 'поселок станции Вещево',\n",
       "       'село Паша', 'деревня Калитино', 'поселок Ульяновка',\n",
       "       'деревня Чудской Бор', 'поселок Дубровка', 'деревня Мины',\n",
       "       'поселок Войсковицы', 'деревня Коркино', 'поселок Ропша',\n",
       "       'поселок Приладожский', 'поселок Щеглово', 'поселок Гаврилово',\n",
       "       'Лодейное Поле', 'деревня Рабитицы', 'поселок Никольский',\n",
       "       'деревня Кузьмолово', 'деревня Малые Колпаны',\n",
       "       'поселок Петро-Славянка', 'поселок Назия', 'поселок Репино',\n",
       "       'поселок Углово', 'поселок Старая Малукса',\n",
       "       'садовое товарищество Рахья', 'деревня Меньково',\n",
       "       'деревня Старые Бегуницы', 'поселок Саперный', 'поселок Семрино',\n",
       "       'поселок Глажево', 'поселок Кобринское', 'деревня Гарболово',\n",
       "       'деревня Юкки', 'поселок станции Приветнинское',\n",
       "       'деревня Мануйлово', 'деревня Пчева', 'поселок Цвылево',\n",
       "       'поселок Мельниково', 'поселок Пудость', 'поселок Усть-Луга',\n",
       "       'Светогорск', 'Любань', 'поселок Селезнево', 'Каменногорск',\n",
       "       'деревня Кривко', 'поселок Глебычево', 'деревня Парицы',\n",
       "       'поселок Жилпоселок', 'поселок Войскорово', 'село Никольское',\n",
       "       'поселок Стеклянный', 'поселок Важины', 'поселок Мыза-Ивановка',\n",
       "       'село Русско-Высоцкое', 'поселок Форносово', 'село Старая Ладога',\n",
       "       'поселок Житково', 'поселок Виллози', 'деревня Лампово',\n",
       "       'деревня Шпаньково', 'деревня Лаврики', 'поселок Сумино',\n",
       "       'поселок Возрождение', 'деревня Старосиверская',\n",
       "       'поселок Кикерино', 'деревня Старое Хинколово',\n",
       "       'поселок Пригородный', 'поселок Торфяное', 'поселок Будогощь',\n",
       "       'поселок Суходолье', 'поселок Красная Долина', 'деревня Хапо-Ое',\n",
       "       'поселок Дружная Горка', 'поселок Лисий Нос', 'деревня Яльгелево',\n",
       "       'село Рождествено', 'деревня Старополье', 'поселок Левашово',\n",
       "       'деревня Сяськелево', 'деревня Камышовка',\n",
       "       'садоводческое некоммерческое товарищество Лесная Поляна',\n",
       "       'деревня Хязельки', 'поселок Жилгородок', 'деревня Ялгино',\n",
       "       'поселок Новый Учхоз', 'поселок Гончарово', 'поселок Почап',\n",
       "       'поселок Саперное', 'поселок Платформа 69-й километр',\n",
       "       'поселок Каложицы', 'деревня Фалилеево', 'деревня Пельгора',\n",
       "       'деревня Торошковичи', 'поселок Белоостров', 'поселок Алексеевка',\n",
       "       'поселок Серебрянский', 'поселок Лукаши', 'деревня Щеглово',\n",
       "       'деревня Тарасово', 'поселок Кингисеппский',\n",
       "       'поселок при железнодорожной станции Вещево', 'поселок Ушаки',\n",
       "       'деревня Котлы', 'деревня Сижно', 'деревня Торосово',\n",
       "       'поселок Форт Красная Горка', 'деревня Новолисино',\n",
       "       'поселок станции Громово', 'деревня Глинка',\n",
       "       'деревня Старая Пустошь', 'поселок Коммунары', 'поселок Починок',\n",
       "       'поселок Вознесенье', 'деревня Разбегаево', 'поселок Гладкое',\n",
       "       'поселок при железнодорожной станции Приветнинское',\n",
       "       'поселок Тесово-4', 'деревня Бор', 'поселок Коробицыно',\n",
       "       'деревня Большая Вруда', 'деревня Курковицы', 'поселок Кобралово',\n",
       "       'деревня Суоранда', 'поселок Кондратьево',\n",
       "       'коттеджный поселок Счастье', 'поселок Любань', 'деревня Реброво',\n",
       "       'деревня Зимитицы', 'деревня Тойворово', 'поселок Семиозерье',\n",
       "       'поселок Лесное', 'поселок Совхозный', 'поселок Ленинское',\n",
       "       'поселок Суйда', 'деревня Нижние Осельки', 'поселок станции Свирь',\n",
       "       'поселок Перово', 'Высоцк', 'поселок Гарболово', 'село Шум',\n",
       "       'поселок Котельский', 'поселок станции Лужайка',\n",
       "       'деревня Большая Пустомержа', 'поселок Красносельское',\n",
       "       'деревня Вахнова Кара', 'деревня Пижма',\n",
       "       'коттеджный поселок Кивеннапа Север', 'поселок Ромашки',\n",
       "       'деревня Каськово', 'деревня Куровицы', 'поселок Плоское',\n",
       "       'поселок Кирпичное', 'деревня Ям-Тесово', 'деревня Раздолье',\n",
       "       'деревня Терпилицы', 'поселок Шугозеро', 'деревня Ваганово',\n",
       "       'поселок Пушное', 'садовое товарищество Садко',\n",
       "       'поселок Усть-Ижора', 'деревня Выскатка', 'поселок Свирьстрой',\n",
       "       'поселок Громово', 'деревня Кисельня', 'деревня Трубников Бор',\n",
       "       'поселок Калитино', 'поселок Высокоключевой',\n",
       "       'садовое товарищество Приладожский',\n",
       "       'поселок Пансионат Зеленый Бор', 'деревня Ненимяки',\n",
       "       'деревня Снегиревка', 'деревня Рапполово', 'деревня Пустынка',\n",
       "       'поселок Рабитицы', 'деревня Большой Сабск', 'деревня Русско',\n",
       "       'деревня Лупполово', 'деревня Большое Рейзино',\n",
       "       'деревня Малая Романовка', 'поселок Дружноселье', 'поселок Пчевжа',\n",
       "       'поселок Володарское', 'деревня Нижняя',\n",
       "       'коттеджный поселок Лесное', 'деревня Тихковицы',\n",
       "       'деревня Борисова Грива', 'поселок Дзержинского'], dtype=object)"
      ]
     },
     "execution_count": 10,
     "metadata": {},
     "output_type": "execute_result"
    }
   ],
   "source": [
    "data['locality_name'] = (\n",
    "    data['locality_name']\n",
    "    .str.replace('ё', 'е')\n",
    "    .replace(['поселок городского типа', 'городской поселок'], 'поселок', regex=True)\n",
    ")\n",
    "data['locality_name'].unique()"
   ]
  },
  {
   "cell_type": "code",
   "execution_count": 11,
   "metadata": {},
   "outputs": [
    {
     "data": {
      "text/plain": [
       "total_images                0\n",
       "last_price                  0\n",
       "total_area                  0\n",
       "first_day_exposition        0\n",
       "rooms                       0\n",
       "ceiling_height              0\n",
       "floors_total                0\n",
       "living_area                55\n",
       "floor                       0\n",
       "is_apartment            20805\n",
       "studio                      0\n",
       "open_plan                   0\n",
       "kitchen_area              243\n",
       "balcony                     0\n",
       "locality_name               0\n",
       "airports_nearest         5524\n",
       "cityCenters_nearest      5501\n",
       "parks_around3000         5500\n",
       "parks_nearest           15535\n",
       "ponds_around3000         5500\n",
       "ponds_nearest           14529\n",
       "days_exposition             0\n",
       "dtype: int64"
      ]
     },
     "execution_count": 11,
     "metadata": {},
     "output_type": "execute_result"
    }
   ],
   "source": [
    "data.isna().sum()"
   ]
  },
  {
   "cell_type": "code",
   "execution_count": 12,
   "metadata": {},
   "outputs": [
    {
     "data": {
      "text/plain": [
       "total_images                0\n",
       "last_price                  0\n",
       "total_area                  0\n",
       "first_day_exposition        0\n",
       "rooms                       0\n",
       "ceiling_height              0\n",
       "floors_total                0\n",
       "living_area                55\n",
       "floor                       0\n",
       "is_apartment            20805\n",
       "studio                      0\n",
       "open_plan                   0\n",
       "kitchen_area              243\n",
       "balcony                     0\n",
       "locality_name               0\n",
       "airports_nearest         5524\n",
       "cityCenters_nearest      5501\n",
       "parks_around3000         5500\n",
       "parks_nearest           15535\n",
       "ponds_around3000         5500\n",
       "ponds_nearest           14529\n",
       "days_exposition             0\n",
       "dtype: int64"
      ]
     },
     "execution_count": 12,
     "metadata": {},
     "output_type": "execute_result"
    }
   ],
   "source": [
    "data = data.dropna(subset=['locality_name'])\n",
    "data.isna().sum()"
   ]
  },
  {
   "cell_type": "code",
   "execution_count": 13,
   "metadata": {},
   "outputs": [
    {
     "data": {
      "text/plain": [
       "<AxesSubplot:>"
      ]
     },
     "execution_count": 13,
     "metadata": {},
     "output_type": "execute_result"
    },
    {
     "data": {
      "image/png": "[encoded data removed]",
      "text/plain": [
       "<Figure size 720x720 with 1 Axes>"
      ]
     },
     "metadata": {
      "needs_background": "light"
     },
     "output_type": "display_data"
    }
   ],
   "source": [
    "plt.figure(figsize=(10, 10))\n",
    "plt.ylim(0, 5)\n",
    "data.boxplot(column='ceiling_height')"
   ]
  },
  {
   "cell_type": "code",
   "execution_count": 14,
   "metadata": {
    "scrolled": false
   },
   "outputs": [
    {
     "data": {
      "text/plain": [
       "array([  2.7 ,   2.65,   3.03,   2.5 ,   2.67,   2.56,   3.05,   2.75,\n",
       "         2.6 ,   2.9 ,   2.8 ,   2.55,   3.  ,   3.2 ,   2.61,   3.25,\n",
       "         3.45,   2.77,   2.85,   2.64,   2.57,   4.15,   3.5 ,   3.3 ,\n",
       "         2.71,   4.  ,   2.47,   2.73,   2.84,   3.1 ,   2.34,   3.4 ,\n",
       "         3.06,   2.72,   2.54,   2.51,   2.78,   2.76,  25.  ,   2.58,\n",
       "         3.7 ,   2.52,   5.2 ,   2.87,   2.66,   2.59,   2.  ,   2.45,\n",
       "         3.6 ,   2.92,   3.11,   3.13,   3.8 ,   3.15,   3.55,   3.16,\n",
       "         3.62,   3.12,   2.53,   2.74,   2.96,   2.46,   5.3 ,   5.  ,\n",
       "         2.79,   2.95,   4.06,   2.94,   3.82,   3.54,   3.53,   2.83,\n",
       "         4.7 ,   2.4 ,   3.38,   3.01,   5.6 ,   3.65,   3.9 ,   3.18,\n",
       "         3.35,   2.3 ,   3.57,   2.48,   2.62,   2.82,   3.98,   2.63,\n",
       "         3.83,   3.52,   3.95,   3.75,   2.88,   3.67,   3.87,   3.66,\n",
       "         3.85,   3.86,   4.19,   3.24,   4.8 ,   4.5 ,   4.2 ,   3.36,\n",
       "        32.  ,   3.08,   3.68,   3.07,   3.37,   3.09,   8.  ,   3.26,\n",
       "         3.34,   2.81,   3.44,   2.97,   3.14,   4.37,   2.68,   3.22,\n",
       "         3.27,  27.  ,   4.1 ,   2.93,   3.46,  24.  ,   3.47,   3.33,\n",
       "         3.63,   3.32,  26.  ,   1.2 ,   8.3 ,   2.98,   2.86,   3.17,\n",
       "         4.4 ,   3.28,   3.04,   4.45,   5.5 ,   3.84,   3.23,   3.02,\n",
       "         3.21,   3.43,   3.78,   4.3 ,   3.39,   2.69,   3.31,   4.65,\n",
       "         3.56,   2.2 ,   3.51,   3.93,   3.42,   2.99,   3.49,  14.  ,\n",
       "         4.14,   2.91,   3.88,   1.75,   4.25,   3.29,  20.  ,   2.25,\n",
       "         3.76,   3.69,   6.  ,  22.6 ,   2.89,   3.58,   5.8 ,  27.5 ,\n",
       "         2.49,   4.9 ,   3.48,  10.3 ,   1.  , 100.  ,   3.59])"
      ]
     },
     "execution_count": 14,
     "metadata": {},
     "output_type": "execute_result"
    },
    {
     "data": {
      "image/png": "[encoded data removed]",
      "text/plain": [
       "<Figure size 432x288 with 1 Axes>"
      ]
     },
     "metadata": {
      "needs_background": "light"
     },
     "output_type": "display_data"
    }
   ],
   "source": [
    "data.plot(y='ceiling_height', kind='hist', bins=20, range=(2,10), grid=True)\n",
    "data['ceiling_height'].unique()"
   ]
  },
  {
   "cell_type": "code",
   "execution_count": 15,
   "metadata": {},
   "outputs": [
    {
     "data": {
      "text/plain": [
       "count    23565.000000\n",
       "mean         2.724530\n",
       "std          0.991026\n",
       "min          1.000000\n",
       "25%          2.600000\n",
       "50%          2.650000\n",
       "75%          2.700000\n",
       "max        100.000000\n",
       "Name: ceiling_height, dtype: float64"
      ]
     },
     "execution_count": 15,
     "metadata": {},
     "output_type": "execute_result"
    }
   ],
   "source": [
    "data['ceiling_height'].describe()"
   ]
  },
  {
   "cell_type": "code",
   "execution_count": 16,
   "metadata": {},
   "outputs": [
    {
     "data": {
      "text/plain": [
       "<AxesSubplot:>"
      ]
     },
     "execution_count": 16,
     "metadata": {},
     "output_type": "execute_result"
    },
    {
     "data": {
      "image/png": "[encoded data removed]",
      "text/plain": [
       "<Figure size 432x288 with 1 Axes>"
      ]
     },
     "metadata": {
      "needs_background": "light"
     },
     "output_type": "display_data"
    }
   ],
   "source": [
    "data.loc[data['ceiling_height'] > 20, 'ceiling_height'] /= 10\n",
    "plt.ylim(2, 5)\n",
    "data.boxplot(column='ceiling_height', figsize=(10, 7))"
   ]
  },
  {
   "cell_type": "code",
   "execution_count": 17,
   "metadata": {},
   "outputs": [
    {
     "name": "stdout",
     "output_type": "stream",
     "text": [
      "       total_images  last_price  total_area first_day_exposition  rooms  \\\n",
      "0                20  13000000.0      108.00           2019-03-07      3   \n",
      "1                 7   3350000.0       40.40           2018-12-04      1   \n",
      "2                10   5196000.0       56.00           2015-08-20      2   \n",
      "3                 0  64900000.0      159.00           2015-07-24      3   \n",
      "4                 2  10000000.0      100.00           2018-06-19      2   \n",
      "...             ...         ...         ...                  ...    ...   \n",
      "23694             9   9700000.0      133.81           2017-03-21      3   \n",
      "23695            14   3100000.0       59.00           2018-01-15      3   \n",
      "23696            18   2500000.0       56.70           2018-02-11      2   \n",
      "23697            13  11475000.0       76.75           2017-03-28      2   \n",
      "23698             4   1350000.0       32.30           2017-07-21      1   \n",
      "\n",
      "       ceiling_height  floors_total  living_area  floor is_apartment  ...  \\\n",
      "0                2.70            16    51.000000      8          NaN  ...   \n",
      "1                2.65            11    18.600000      1          NaN  ...   \n",
      "2                2.65             5    34.300000      4          NaN  ...   \n",
      "3                2.65            14    95.698076      9          NaN  ...   \n",
      "4                3.03            14    32.000000     13          NaN  ...   \n",
      "...               ...           ...          ...    ...          ...  ...   \n",
      "23694            3.70             5    73.300000      3          NaN  ...   \n",
      "23695            2.65             5    38.000000      4          NaN  ...   \n",
      "23696            2.65             3    29.700000      1          NaN  ...   \n",
      "23697            3.00            17    43.114030     12          NaN  ...   \n",
      "23698            2.50             5    12.300000      1          NaN  ...   \n",
      "\n",
      "       kitchen_area  balcony        locality_name  airports_nearest  \\\n",
      "0         25.000000      0.0      Санкт-Петербург           18863.0   \n",
      "1         11.000000      2.0       поселок Шушары           12817.0   \n",
      "2          8.300000      0.0      Санкт-Петербург           21741.0   \n",
      "3         23.416694      0.0      Санкт-Петербург           28098.0   \n",
      "4         41.000000      0.0      Санкт-Петербург           31856.0   \n",
      "...             ...      ...                  ...               ...   \n",
      "23694     13.830000      0.0      Санкт-Петербург           24665.0   \n",
      "23695      8.500000      0.0                Тосно               NaN   \n",
      "23696      8.258291      0.0     село Рождествено               NaN   \n",
      "23697     23.300000      2.0      Санкт-Петербург           39140.0   \n",
      "23698      9.000000      0.0  поселок Новый Учхоз               NaN   \n",
      "\n",
      "      cityCenters_nearest  parks_around3000  parks_nearest  ponds_around3000  \\\n",
      "0                 16028.0               1.0          482.0               2.0   \n",
      "1                 18603.0               0.0            NaN               0.0   \n",
      "2                 13933.0               1.0           90.0               2.0   \n",
      "3                  6800.0               2.0           84.0               3.0   \n",
      "4                  8098.0               2.0          112.0               1.0   \n",
      "...                   ...               ...            ...               ...   \n",
      "23694              4232.0               1.0          796.0               3.0   \n",
      "23695                 NaN               NaN            NaN               NaN   \n",
      "23696                 NaN               NaN            NaN               NaN   \n",
      "23697             10364.0               2.0          173.0               3.0   \n",
      "23698                 NaN               NaN            NaN               NaN   \n",
      "\n",
      "       ponds_nearest  days_exposition  \n",
      "0              755.0                0  \n",
      "1                NaN               81  \n",
      "2              574.0              558  \n",
      "3              234.0              424  \n",
      "4               48.0              121  \n",
      "...              ...              ...  \n",
      "23694          381.0                0  \n",
      "23695            NaN               45  \n",
      "23696            NaN                0  \n",
      "23697          196.0              602  \n",
      "23698            NaN                0  \n",
      "\n",
      "[23436 rows x 22 columns]\n"
     ]
    }
   ],
   "source": [
    "data = data.query('2.5 <= ceiling_height <= 4')\n",
    "print(data)"
   ]
  },
  {
   "cell_type": "code",
   "execution_count": 18,
   "metadata": {},
   "outputs": [],
   "source": [
    "import warnings\n",
    "warnings.filterwarnings('ignore')"
   ]
  },
  {
   "cell_type": "code",
   "execution_count": 19,
   "metadata": {
    "scrolled": false
   },
   "outputs": [
    {
     "data": {
      "text/html": [
       "<div>\n",
       "<style scoped>\n",
       "    .dataframe tbody tr th:only-of-type {\n",
       "        vertical-align: middle;\n",
       "    }\n",
       "\n",
       "    .dataframe tbody tr th {\n",
       "        vertical-align: top;\n",
       "    }\n",
       "\n",
       "    .dataframe thead th {\n",
       "        text-align: right;\n",
       "    }\n",
       "</style>\n",
       "<table border=\"1\" class=\"dataframe\">\n",
       "  <thead>\n",
       "    <tr style=\"text-align: right;\">\n",
       "      <th></th>\n",
       "      <th>total_images</th>\n",
       "      <th>last_price</th>\n",
       "      <th>total_area</th>\n",
       "      <th>first_day_exposition</th>\n",
       "      <th>rooms</th>\n",
       "      <th>ceiling_height</th>\n",
       "      <th>floors_total</th>\n",
       "      <th>living_area</th>\n",
       "      <th>floor</th>\n",
       "      <th>is_apartment</th>\n",
       "      <th>...</th>\n",
       "      <th>balcony</th>\n",
       "      <th>locality_name</th>\n",
       "      <th>airports_nearest</th>\n",
       "      <th>cityCenters_nearest</th>\n",
       "      <th>parks_around3000</th>\n",
       "      <th>parks_nearest</th>\n",
       "      <th>ponds_around3000</th>\n",
       "      <th>ponds_nearest</th>\n",
       "      <th>days_exposition</th>\n",
       "      <th>price_per_square_meter</th>\n",
       "    </tr>\n",
       "  </thead>\n",
       "  <tbody>\n",
       "    <tr>\n",
       "      <th>0</th>\n",
       "      <td>20</td>\n",
       "      <td>13000000.0</td>\n",
       "      <td>108.0</td>\n",
       "      <td>2019-03-07</td>\n",
       "      <td>3</td>\n",
       "      <td>2.70</td>\n",
       "      <td>16</td>\n",
       "      <td>51.000000</td>\n",
       "      <td>8</td>\n",
       "      <td>NaN</td>\n",
       "      <td>...</td>\n",
       "      <td>0.0</td>\n",
       "      <td>Санкт-Петербург</td>\n",
       "      <td>18863.0</td>\n",
       "      <td>16028.0</td>\n",
       "      <td>1.0</td>\n",
       "      <td>482.0</td>\n",
       "      <td>2.0</td>\n",
       "      <td>755.0</td>\n",
       "      <td>0</td>\n",
       "      <td>120370.37</td>\n",
       "    </tr>\n",
       "    <tr>\n",
       "      <th>1</th>\n",
       "      <td>7</td>\n",
       "      <td>3350000.0</td>\n",
       "      <td>40.4</td>\n",
       "      <td>2018-12-04</td>\n",
       "      <td>1</td>\n",
       "      <td>2.65</td>\n",
       "      <td>11</td>\n",
       "      <td>18.600000</td>\n",
       "      <td>1</td>\n",
       "      <td>NaN</td>\n",
       "      <td>...</td>\n",
       "      <td>2.0</td>\n",
       "      <td>поселок Шушары</td>\n",
       "      <td>12817.0</td>\n",
       "      <td>18603.0</td>\n",
       "      <td>0.0</td>\n",
       "      <td>NaN</td>\n",
       "      <td>0.0</td>\n",
       "      <td>NaN</td>\n",
       "      <td>81</td>\n",
       "      <td>82920.79</td>\n",
       "    </tr>\n",
       "    <tr>\n",
       "      <th>2</th>\n",
       "      <td>10</td>\n",
       "      <td>5196000.0</td>\n",
       "      <td>56.0</td>\n",
       "      <td>2015-08-20</td>\n",
       "      <td>2</td>\n",
       "      <td>2.65</td>\n",
       "      <td>5</td>\n",
       "      <td>34.300000</td>\n",
       "      <td>4</td>\n",
       "      <td>NaN</td>\n",
       "      <td>...</td>\n",
       "      <td>0.0</td>\n",
       "      <td>Санкт-Петербург</td>\n",
       "      <td>21741.0</td>\n",
       "      <td>13933.0</td>\n",
       "      <td>1.0</td>\n",
       "      <td>90.0</td>\n",
       "      <td>2.0</td>\n",
       "      <td>574.0</td>\n",
       "      <td>558</td>\n",
       "      <td>92785.71</td>\n",
       "    </tr>\n",
       "    <tr>\n",
       "      <th>3</th>\n",
       "      <td>0</td>\n",
       "      <td>64900000.0</td>\n",
       "      <td>159.0</td>\n",
       "      <td>2015-07-24</td>\n",
       "      <td>3</td>\n",
       "      <td>2.65</td>\n",
       "      <td>14</td>\n",
       "      <td>95.698076</td>\n",
       "      <td>9</td>\n",
       "      <td>NaN</td>\n",
       "      <td>...</td>\n",
       "      <td>0.0</td>\n",
       "      <td>Санкт-Петербург</td>\n",
       "      <td>28098.0</td>\n",
       "      <td>6800.0</td>\n",
       "      <td>2.0</td>\n",
       "      <td>84.0</td>\n",
       "      <td>3.0</td>\n",
       "      <td>234.0</td>\n",
       "      <td>424</td>\n",
       "      <td>408176.10</td>\n",
       "    </tr>\n",
       "    <tr>\n",
       "      <th>4</th>\n",
       "      <td>2</td>\n",
       "      <td>10000000.0</td>\n",
       "      <td>100.0</td>\n",
       "      <td>2018-06-19</td>\n",
       "      <td>2</td>\n",
       "      <td>3.03</td>\n",
       "      <td>14</td>\n",
       "      <td>32.000000</td>\n",
       "      <td>13</td>\n",
       "      <td>NaN</td>\n",
       "      <td>...</td>\n",
       "      <td>0.0</td>\n",
       "      <td>Санкт-Петербург</td>\n",
       "      <td>31856.0</td>\n",
       "      <td>8098.0</td>\n",
       "      <td>2.0</td>\n",
       "      <td>112.0</td>\n",
       "      <td>1.0</td>\n",
       "      <td>48.0</td>\n",
       "      <td>121</td>\n",
       "      <td>100000.00</td>\n",
       "    </tr>\n",
       "  </tbody>\n",
       "</table>\n",
       "<p>5 rows × 23 columns</p>\n",
       "</div>"
      ],
      "text/plain": [
       "   total_images  last_price  total_area first_day_exposition  rooms  \\\n",
       "0            20  13000000.0       108.0           2019-03-07      3   \n",
       "1             7   3350000.0        40.4           2018-12-04      1   \n",
       "2            10   5196000.0        56.0           2015-08-20      2   \n",
       "3             0  64900000.0       159.0           2015-07-24      3   \n",
       "4             2  10000000.0       100.0           2018-06-19      2   \n",
       "\n",
       "   ceiling_height  floors_total  living_area  floor is_apartment  ...  \\\n",
       "0            2.70            16    51.000000      8          NaN  ...   \n",
       "1            2.65            11    18.600000      1          NaN  ...   \n",
       "2            2.65             5    34.300000      4          NaN  ...   \n",
       "3            2.65            14    95.698076      9          NaN  ...   \n",
       "4            3.03            14    32.000000     13          NaN  ...   \n",
       "\n",
       "   balcony    locality_name  airports_nearest  cityCenters_nearest  \\\n",
       "0      0.0  Санкт-Петербург           18863.0              16028.0   \n",
       "1      2.0   поселок Шушары           12817.0              18603.0   \n",
       "2      0.0  Санкт-Петербург           21741.0              13933.0   \n",
       "3      0.0  Санкт-Петербург           28098.0               6800.0   \n",
       "4      0.0  Санкт-Петербург           31856.0               8098.0   \n",
       "\n",
       "  parks_around3000  parks_nearest  ponds_around3000  ponds_nearest  \\\n",
       "0              1.0          482.0               2.0          755.0   \n",
       "1              0.0            NaN               0.0            NaN   \n",
       "2              1.0           90.0               2.0          574.0   \n",
       "3              2.0           84.0               3.0          234.0   \n",
       "4              2.0          112.0               1.0           48.0   \n",
       "\n",
       "   days_exposition  price_per_square_meter  \n",
       "0                0               120370.37  \n",
       "1               81                82920.79  \n",
       "2              558                92785.71  \n",
       "3              424               408176.10  \n",
       "4              121               100000.00  \n",
       "\n",
       "[5 rows x 23 columns]"
      ]
     },
     "execution_count": 19,
     "metadata": {},
     "output_type": "execute_result"
    }
   ],
   "source": [
    "data['price_per_square_meter'] = (data['last_price'] / data['total_area']).round(2)\n",
    "data.head()"
   ]
  },
  {
   "cell_type": "code",
   "execution_count": 20,
   "metadata": {},
   "outputs": [
    {
     "data": {
      "text/html": [
       "<div>\n",
       "<style scoped>\n",
       "    .dataframe tbody tr th:only-of-type {\n",
       "        vertical-align: middle;\n",
       "    }\n",
       "\n",
       "    .dataframe tbody tr th {\n",
       "        vertical-align: top;\n",
       "    }\n",
       "\n",
       "    .dataframe thead th {\n",
       "        text-align: right;\n",
       "    }\n",
       "</style>\n",
       "<table border=\"1\" class=\"dataframe\">\n",
       "  <thead>\n",
       "    <tr style=\"text-align: right;\">\n",
       "      <th></th>\n",
       "      <th>total_images</th>\n",
       "      <th>last_price</th>\n",
       "      <th>total_area</th>\n",
       "      <th>first_day_exposition</th>\n",
       "      <th>rooms</th>\n",
       "      <th>ceiling_height</th>\n",
       "      <th>floors_total</th>\n",
       "      <th>living_area</th>\n",
       "      <th>floor</th>\n",
       "      <th>is_apartment</th>\n",
       "      <th>...</th>\n",
       "      <th>cityCenters_nearest</th>\n",
       "      <th>parks_around3000</th>\n",
       "      <th>parks_nearest</th>\n",
       "      <th>ponds_around3000</th>\n",
       "      <th>ponds_nearest</th>\n",
       "      <th>days_exposition</th>\n",
       "      <th>price_per_square_meter</th>\n",
       "      <th>weekday</th>\n",
       "      <th>month</th>\n",
       "      <th>year</th>\n",
       "    </tr>\n",
       "  </thead>\n",
       "  <tbody>\n",
       "    <tr>\n",
       "      <th>0</th>\n",
       "      <td>20</td>\n",
       "      <td>13000000.0</td>\n",
       "      <td>108.0</td>\n",
       "      <td>2019-03-07</td>\n",
       "      <td>3</td>\n",
       "      <td>2.70</td>\n",
       "      <td>16</td>\n",
       "      <td>51.000000</td>\n",
       "      <td>8</td>\n",
       "      <td>NaN</td>\n",
       "      <td>...</td>\n",
       "      <td>16028.0</td>\n",
       "      <td>1.0</td>\n",
       "      <td>482.0</td>\n",
       "      <td>2.0</td>\n",
       "      <td>755.0</td>\n",
       "      <td>0</td>\n",
       "      <td>120370.37</td>\n",
       "      <td>3</td>\n",
       "      <td>3</td>\n",
       "      <td>2019</td>\n",
       "    </tr>\n",
       "    <tr>\n",
       "      <th>1</th>\n",
       "      <td>7</td>\n",
       "      <td>3350000.0</td>\n",
       "      <td>40.4</td>\n",
       "      <td>2018-12-04</td>\n",
       "      <td>1</td>\n",
       "      <td>2.65</td>\n",
       "      <td>11</td>\n",
       "      <td>18.600000</td>\n",
       "      <td>1</td>\n",
       "      <td>NaN</td>\n",
       "      <td>...</td>\n",
       "      <td>18603.0</td>\n",
       "      <td>0.0</td>\n",
       "      <td>NaN</td>\n",
       "      <td>0.0</td>\n",
       "      <td>NaN</td>\n",
       "      <td>81</td>\n",
       "      <td>82920.79</td>\n",
       "      <td>1</td>\n",
       "      <td>12</td>\n",
       "      <td>2018</td>\n",
       "    </tr>\n",
       "    <tr>\n",
       "      <th>2</th>\n",
       "      <td>10</td>\n",
       "      <td>5196000.0</td>\n",
       "      <td>56.0</td>\n",
       "      <td>2015-08-20</td>\n",
       "      <td>2</td>\n",
       "      <td>2.65</td>\n",
       "      <td>5</td>\n",
       "      <td>34.300000</td>\n",
       "      <td>4</td>\n",
       "      <td>NaN</td>\n",
       "      <td>...</td>\n",
       "      <td>13933.0</td>\n",
       "      <td>1.0</td>\n",
       "      <td>90.0</td>\n",
       "      <td>2.0</td>\n",
       "      <td>574.0</td>\n",
       "      <td>558</td>\n",
       "      <td>92785.71</td>\n",
       "      <td>3</td>\n",
       "      <td>8</td>\n",
       "      <td>2015</td>\n",
       "    </tr>\n",
       "    <tr>\n",
       "      <th>3</th>\n",
       "      <td>0</td>\n",
       "      <td>64900000.0</td>\n",
       "      <td>159.0</td>\n",
       "      <td>2015-07-24</td>\n",
       "      <td>3</td>\n",
       "      <td>2.65</td>\n",
       "      <td>14</td>\n",
       "      <td>95.698076</td>\n",
       "      <td>9</td>\n",
       "      <td>NaN</td>\n",
       "      <td>...</td>\n",
       "      <td>6800.0</td>\n",
       "      <td>2.0</td>\n",
       "      <td>84.0</td>\n",
       "      <td>3.0</td>\n",
       "      <td>234.0</td>\n",
       "      <td>424</td>\n",
       "      <td>408176.10</td>\n",
       "      <td>4</td>\n",
       "      <td>7</td>\n",
       "      <td>2015</td>\n",
       "    </tr>\n",
       "    <tr>\n",
       "      <th>4</th>\n",
       "      <td>2</td>\n",
       "      <td>10000000.0</td>\n",
       "      <td>100.0</td>\n",
       "      <td>2018-06-19</td>\n",
       "      <td>2</td>\n",
       "      <td>3.03</td>\n",
       "      <td>14</td>\n",
       "      <td>32.000000</td>\n",
       "      <td>13</td>\n",
       "      <td>NaN</td>\n",
       "      <td>...</td>\n",
       "      <td>8098.0</td>\n",
       "      <td>2.0</td>\n",
       "      <td>112.0</td>\n",
       "      <td>1.0</td>\n",
       "      <td>48.0</td>\n",
       "      <td>121</td>\n",
       "      <td>100000.00</td>\n",
       "      <td>1</td>\n",
       "      <td>6</td>\n",
       "      <td>2018</td>\n",
       "    </tr>\n",
       "  </tbody>\n",
       "</table>\n",
       "<p>5 rows × 26 columns</p>\n",
       "</div>"
      ],
      "text/plain": [
       "   total_images  last_price  total_area first_day_exposition  rooms  \\\n",
       "0            20  13000000.0       108.0           2019-03-07      3   \n",
       "1             7   3350000.0        40.4           2018-12-04      1   \n",
       "2            10   5196000.0        56.0           2015-08-20      2   \n",
       "3             0  64900000.0       159.0           2015-07-24      3   \n",
       "4             2  10000000.0       100.0           2018-06-19      2   \n",
       "\n",
       "   ceiling_height  floors_total  living_area  floor is_apartment  ...  \\\n",
       "0            2.70            16    51.000000      8          NaN  ...   \n",
       "1            2.65            11    18.600000      1          NaN  ...   \n",
       "2            2.65             5    34.300000      4          NaN  ...   \n",
       "3            2.65            14    95.698076      9          NaN  ...   \n",
       "4            3.03            14    32.000000     13          NaN  ...   \n",
       "\n",
       "   cityCenters_nearest  parks_around3000  parks_nearest  ponds_around3000  \\\n",
       "0              16028.0               1.0          482.0               2.0   \n",
       "1              18603.0               0.0            NaN               0.0   \n",
       "2              13933.0               1.0           90.0               2.0   \n",
       "3               6800.0               2.0           84.0               3.0   \n",
       "4               8098.0               2.0          112.0               1.0   \n",
       "\n",
       "  ponds_nearest  days_exposition  price_per_square_meter  weekday  month  year  \n",
       "0         755.0                0               120370.37        3      3  2019  \n",
       "1           NaN               81                82920.79        1     12  2018  \n",
       "2         574.0              558                92785.71        3      8  2015  \n",
       "3         234.0              424               408176.10        4      7  2015  \n",
       "4          48.0              121               100000.00        1      6  2018  \n",
       "\n",
       "[5 rows x 26 columns]"
      ]
     },
     "execution_count": 20,
     "metadata": {},
     "output_type": "execute_result"
    }
   ],
   "source": [
    "data['weekday'] = data['first_day_exposition'].dt.weekday\n",
    "data['month'] = data['first_day_exposition'].dt.month\n",
    "data['year'] = data['first_day_exposition'].dt.year\n",
    "data.head(5)"
   ]
  },
  {
   "cell_type": "code",
   "execution_count": 21,
   "metadata": {},
   "outputs": [
    {
     "data": {
      "text/html": [
       "<div>\n",
       "<style scoped>\n",
       "    .dataframe tbody tr th:only-of-type {\n",
       "        vertical-align: middle;\n",
       "    }\n",
       "\n",
       "    .dataframe tbody tr th {\n",
       "        vertical-align: top;\n",
       "    }\n",
       "\n",
       "    .dataframe thead th {\n",
       "        text-align: right;\n",
       "    }\n",
       "</style>\n",
       "<table border=\"1\" class=\"dataframe\">\n",
       "  <thead>\n",
       "    <tr style=\"text-align: right;\">\n",
       "      <th></th>\n",
       "      <th>total_images</th>\n",
       "      <th>last_price</th>\n",
       "      <th>total_area</th>\n",
       "      <th>first_day_exposition</th>\n",
       "      <th>rooms</th>\n",
       "      <th>ceiling_height</th>\n",
       "      <th>floors_total</th>\n",
       "      <th>living_area</th>\n",
       "      <th>floor</th>\n",
       "      <th>is_apartment</th>\n",
       "      <th>...</th>\n",
       "      <th>parks_around3000</th>\n",
       "      <th>parks_nearest</th>\n",
       "      <th>ponds_around3000</th>\n",
       "      <th>ponds_nearest</th>\n",
       "      <th>days_exposition</th>\n",
       "      <th>price_per_square_meter</th>\n",
       "      <th>weekday</th>\n",
       "      <th>month</th>\n",
       "      <th>year</th>\n",
       "      <th>floor_type</th>\n",
       "    </tr>\n",
       "  </thead>\n",
       "  <tbody>\n",
       "    <tr>\n",
       "      <th>0</th>\n",
       "      <td>20</td>\n",
       "      <td>13000000.0</td>\n",
       "      <td>108.0</td>\n",
       "      <td>2019-03-07</td>\n",
       "      <td>3</td>\n",
       "      <td>2.70</td>\n",
       "      <td>16</td>\n",
       "      <td>51.000000</td>\n",
       "      <td>8</td>\n",
       "      <td>NaN</td>\n",
       "      <td>...</td>\n",
       "      <td>1.0</td>\n",
       "      <td>482.0</td>\n",
       "      <td>2.0</td>\n",
       "      <td>755.0</td>\n",
       "      <td>0</td>\n",
       "      <td>120370.37</td>\n",
       "      <td>3</td>\n",
       "      <td>3</td>\n",
       "      <td>2019</td>\n",
       "      <td>другой</td>\n",
       "    </tr>\n",
       "    <tr>\n",
       "      <th>1</th>\n",
       "      <td>7</td>\n",
       "      <td>3350000.0</td>\n",
       "      <td>40.4</td>\n",
       "      <td>2018-12-04</td>\n",
       "      <td>1</td>\n",
       "      <td>2.65</td>\n",
       "      <td>11</td>\n",
       "      <td>18.600000</td>\n",
       "      <td>1</td>\n",
       "      <td>NaN</td>\n",
       "      <td>...</td>\n",
       "      <td>0.0</td>\n",
       "      <td>NaN</td>\n",
       "      <td>0.0</td>\n",
       "      <td>NaN</td>\n",
       "      <td>81</td>\n",
       "      <td>82920.79</td>\n",
       "      <td>1</td>\n",
       "      <td>12</td>\n",
       "      <td>2018</td>\n",
       "      <td>первый</td>\n",
       "    </tr>\n",
       "    <tr>\n",
       "      <th>2</th>\n",
       "      <td>10</td>\n",
       "      <td>5196000.0</td>\n",
       "      <td>56.0</td>\n",
       "      <td>2015-08-20</td>\n",
       "      <td>2</td>\n",
       "      <td>2.65</td>\n",
       "      <td>5</td>\n",
       "      <td>34.300000</td>\n",
       "      <td>4</td>\n",
       "      <td>NaN</td>\n",
       "      <td>...</td>\n",
       "      <td>1.0</td>\n",
       "      <td>90.0</td>\n",
       "      <td>2.0</td>\n",
       "      <td>574.0</td>\n",
       "      <td>558</td>\n",
       "      <td>92785.71</td>\n",
       "      <td>3</td>\n",
       "      <td>8</td>\n",
       "      <td>2015</td>\n",
       "      <td>другой</td>\n",
       "    </tr>\n",
       "    <tr>\n",
       "      <th>3</th>\n",
       "      <td>0</td>\n",
       "      <td>64900000.0</td>\n",
       "      <td>159.0</td>\n",
       "      <td>2015-07-24</td>\n",
       "      <td>3</td>\n",
       "      <td>2.65</td>\n",
       "      <td>14</td>\n",
       "      <td>95.698076</td>\n",
       "      <td>9</td>\n",
       "      <td>NaN</td>\n",
       "      <td>...</td>\n",
       "      <td>2.0</td>\n",
       "      <td>84.0</td>\n",
       "      <td>3.0</td>\n",
       "      <td>234.0</td>\n",
       "      <td>424</td>\n",
       "      <td>408176.10</td>\n",
       "      <td>4</td>\n",
       "      <td>7</td>\n",
       "      <td>2015</td>\n",
       "      <td>другой</td>\n",
       "    </tr>\n",
       "    <tr>\n",
       "      <th>4</th>\n",
       "      <td>2</td>\n",
       "      <td>10000000.0</td>\n",
       "      <td>100.0</td>\n",
       "      <td>2018-06-19</td>\n",
       "      <td>2</td>\n",
       "      <td>3.03</td>\n",
       "      <td>14</td>\n",
       "      <td>32.000000</td>\n",
       "      <td>13</td>\n",
       "      <td>NaN</td>\n",
       "      <td>...</td>\n",
       "      <td>2.0</td>\n",
       "      <td>112.0</td>\n",
       "      <td>1.0</td>\n",
       "      <td>48.0</td>\n",
       "      <td>121</td>\n",
       "      <td>100000.00</td>\n",
       "      <td>1</td>\n",
       "      <td>6</td>\n",
       "      <td>2018</td>\n",
       "      <td>другой</td>\n",
       "    </tr>\n",
       "  </tbody>\n",
       "</table>\n",
       "<p>5 rows × 27 columns</p>\n",
       "</div>"
      ],
      "text/plain": [
       "   total_images  last_price  total_area first_day_exposition  rooms  \\\n",
       "0            20  13000000.0       108.0           2019-03-07      3   \n",
       "1             7   3350000.0        40.4           2018-12-04      1   \n",
       "2            10   5196000.0        56.0           2015-08-20      2   \n",
       "3             0  64900000.0       159.0           2015-07-24      3   \n",
       "4             2  10000000.0       100.0           2018-06-19      2   \n",
       "\n",
       "   ceiling_height  floors_total  living_area  floor is_apartment  ...  \\\n",
       "0            2.70            16    51.000000      8          NaN  ...   \n",
       "1            2.65            11    18.600000      1          NaN  ...   \n",
       "2            2.65             5    34.300000      4          NaN  ...   \n",
       "3            2.65            14    95.698076      9          NaN  ...   \n",
       "4            3.03            14    32.000000     13          NaN  ...   \n",
       "\n",
       "   parks_around3000  parks_nearest  ponds_around3000  ponds_nearest  \\\n",
       "0               1.0          482.0               2.0          755.0   \n",
       "1               0.0            NaN               0.0            NaN   \n",
       "2               1.0           90.0               2.0          574.0   \n",
       "3               2.0           84.0               3.0          234.0   \n",
       "4               2.0          112.0               1.0           48.0   \n",
       "\n",
       "  days_exposition  price_per_square_meter  weekday  month  year  floor_type  \n",
       "0               0               120370.37        3      3  2019      другой  \n",
       "1              81                82920.79        1     12  2018      первый  \n",
       "2             558                92785.71        3      8  2015      другой  \n",
       "3             424               408176.10        4      7  2015      другой  \n",
       "4             121               100000.00        1      6  2018      другой  \n",
       "\n",
       "[5 rows x 27 columns]"
      ]
     },
     "execution_count": 21,
     "metadata": {},
     "output_type": "execute_result"
    }
   ],
   "source": [
    "def floor_type(row):\n",
    "    if row['floor'] == 1:\n",
    "        return 'первый'\n",
    "    elif row['floor'] == row['floors_total']:\n",
    "        return 'последний'\n",
    "    else:\n",
    "        return 'другой'\n",
    "data['floor_type'] = data.apply(floor_type, axis=1)\n",
    "data.head(5)"
   ]
  },
  {
   "cell_type": "code",
   "execution_count": 22,
   "metadata": {},
   "outputs": [
    {
     "data": {
      "text/plain": [
       "0    16\n",
       "1    19\n",
       "2    14\n",
       "3     7\n",
       "4     8\n",
       "Name: distance_city_center_km, dtype: Int32"
      ]
     },
     "execution_count": 22,
     "metadata": {},
     "output_type": "execute_result"
    }
   ],
   "source": [
    "data['distance_city_center_km'] = (data['cityCenters_nearest'] / 1000).round().astype('Int32')\n",
    "data['distance_city_center_km'].head(5)"
   ]
  },
  {
   "cell_type": "code",
   "execution_count": 23,
   "metadata": {
    "scrolled": true
   },
   "outputs": [
    {
     "data": {
      "text/html": [
       "<div>\n",
       "<style scoped>\n",
       "    .dataframe tbody tr th:only-of-type {\n",
       "        vertical-align: middle;\n",
       "    }\n",
       "\n",
       "    .dataframe tbody tr th {\n",
       "        vertical-align: top;\n",
       "    }\n",
       "\n",
       "    .dataframe thead th {\n",
       "        text-align: right;\n",
       "    }\n",
       "</style>\n",
       "<table border=\"1\" class=\"dataframe\">\n",
       "  <thead>\n",
       "    <tr style=\"text-align: right;\">\n",
       "      <th></th>\n",
       "      <th>total_images</th>\n",
       "      <th>last_price</th>\n",
       "      <th>total_area</th>\n",
       "      <th>first_day_exposition</th>\n",
       "      <th>rooms</th>\n",
       "      <th>ceiling_height</th>\n",
       "      <th>floors_total</th>\n",
       "      <th>living_area</th>\n",
       "      <th>floor</th>\n",
       "      <th>is_apartment</th>\n",
       "      <th>...</th>\n",
       "      <th>parks_nearest</th>\n",
       "      <th>ponds_around3000</th>\n",
       "      <th>ponds_nearest</th>\n",
       "      <th>days_exposition</th>\n",
       "      <th>price_per_square_meter</th>\n",
       "      <th>weekday</th>\n",
       "      <th>month</th>\n",
       "      <th>year</th>\n",
       "      <th>floor_type</th>\n",
       "      <th>distance_city_center_km</th>\n",
       "    </tr>\n",
       "  </thead>\n",
       "  <tbody>\n",
       "    <tr>\n",
       "      <th>0</th>\n",
       "      <td>20</td>\n",
       "      <td>13000000.0</td>\n",
       "      <td>108.00</td>\n",
       "      <td>2019-03-07</td>\n",
       "      <td>3</td>\n",
       "      <td>2.70</td>\n",
       "      <td>16</td>\n",
       "      <td>51.000000</td>\n",
       "      <td>8</td>\n",
       "      <td>NaN</td>\n",
       "      <td>...</td>\n",
       "      <td>482.0</td>\n",
       "      <td>2.0</td>\n",
       "      <td>755.0</td>\n",
       "      <td>0</td>\n",
       "      <td>120370.37</td>\n",
       "      <td>3</td>\n",
       "      <td>3</td>\n",
       "      <td>2019</td>\n",
       "      <td>другой</td>\n",
       "      <td>16</td>\n",
       "    </tr>\n",
       "    <tr>\n",
       "      <th>1</th>\n",
       "      <td>7</td>\n",
       "      <td>3350000.0</td>\n",
       "      <td>40.40</td>\n",
       "      <td>2018-12-04</td>\n",
       "      <td>1</td>\n",
       "      <td>2.65</td>\n",
       "      <td>11</td>\n",
       "      <td>18.600000</td>\n",
       "      <td>1</td>\n",
       "      <td>NaN</td>\n",
       "      <td>...</td>\n",
       "      <td>NaN</td>\n",
       "      <td>0.0</td>\n",
       "      <td>NaN</td>\n",
       "      <td>81</td>\n",
       "      <td>82920.79</td>\n",
       "      <td>1</td>\n",
       "      <td>12</td>\n",
       "      <td>2018</td>\n",
       "      <td>первый</td>\n",
       "      <td>19</td>\n",
       "    </tr>\n",
       "    <tr>\n",
       "      <th>2</th>\n",
       "      <td>10</td>\n",
       "      <td>5196000.0</td>\n",
       "      <td>56.00</td>\n",
       "      <td>2015-08-20</td>\n",
       "      <td>2</td>\n",
       "      <td>2.65</td>\n",
       "      <td>5</td>\n",
       "      <td>34.300000</td>\n",
       "      <td>4</td>\n",
       "      <td>NaN</td>\n",
       "      <td>...</td>\n",
       "      <td>90.0</td>\n",
       "      <td>2.0</td>\n",
       "      <td>574.0</td>\n",
       "      <td>558</td>\n",
       "      <td>92785.71</td>\n",
       "      <td>3</td>\n",
       "      <td>8</td>\n",
       "      <td>2015</td>\n",
       "      <td>другой</td>\n",
       "      <td>14</td>\n",
       "    </tr>\n",
       "    <tr>\n",
       "      <th>3</th>\n",
       "      <td>0</td>\n",
       "      <td>64900000.0</td>\n",
       "      <td>159.00</td>\n",
       "      <td>2015-07-24</td>\n",
       "      <td>3</td>\n",
       "      <td>2.65</td>\n",
       "      <td>14</td>\n",
       "      <td>95.698076</td>\n",
       "      <td>9</td>\n",
       "      <td>NaN</td>\n",
       "      <td>...</td>\n",
       "      <td>84.0</td>\n",
       "      <td>3.0</td>\n",
       "      <td>234.0</td>\n",
       "      <td>424</td>\n",
       "      <td>408176.10</td>\n",
       "      <td>4</td>\n",
       "      <td>7</td>\n",
       "      <td>2015</td>\n",
       "      <td>другой</td>\n",
       "      <td>7</td>\n",
       "    </tr>\n",
       "    <tr>\n",
       "      <th>4</th>\n",
       "      <td>2</td>\n",
       "      <td>10000000.0</td>\n",
       "      <td>100.00</td>\n",
       "      <td>2018-06-19</td>\n",
       "      <td>2</td>\n",
       "      <td>3.03</td>\n",
       "      <td>14</td>\n",
       "      <td>32.000000</td>\n",
       "      <td>13</td>\n",
       "      <td>NaN</td>\n",
       "      <td>...</td>\n",
       "      <td>112.0</td>\n",
       "      <td>1.0</td>\n",
       "      <td>48.0</td>\n",
       "      <td>121</td>\n",
       "      <td>100000.00</td>\n",
       "      <td>1</td>\n",
       "      <td>6</td>\n",
       "      <td>2018</td>\n",
       "      <td>другой</td>\n",
       "      <td>8</td>\n",
       "    </tr>\n",
       "    <tr>\n",
       "      <th>5</th>\n",
       "      <td>10</td>\n",
       "      <td>2890000.0</td>\n",
       "      <td>30.40</td>\n",
       "      <td>2018-09-10</td>\n",
       "      <td>1</td>\n",
       "      <td>2.65</td>\n",
       "      <td>12</td>\n",
       "      <td>14.400000</td>\n",
       "      <td>5</td>\n",
       "      <td>NaN</td>\n",
       "      <td>...</td>\n",
       "      <td>NaN</td>\n",
       "      <td>NaN</td>\n",
       "      <td>NaN</td>\n",
       "      <td>55</td>\n",
       "      <td>95065.79</td>\n",
       "      <td>0</td>\n",
       "      <td>9</td>\n",
       "      <td>2018</td>\n",
       "      <td>другой</td>\n",
       "      <td>&lt;NA&gt;</td>\n",
       "    </tr>\n",
       "    <tr>\n",
       "      <th>6</th>\n",
       "      <td>6</td>\n",
       "      <td>3700000.0</td>\n",
       "      <td>37.30</td>\n",
       "      <td>2017-11-02</td>\n",
       "      <td>1</td>\n",
       "      <td>2.65</td>\n",
       "      <td>26</td>\n",
       "      <td>10.600000</td>\n",
       "      <td>6</td>\n",
       "      <td>NaN</td>\n",
       "      <td>...</td>\n",
       "      <td>NaN</td>\n",
       "      <td>0.0</td>\n",
       "      <td>NaN</td>\n",
       "      <td>155</td>\n",
       "      <td>99195.71</td>\n",
       "      <td>3</td>\n",
       "      <td>11</td>\n",
       "      <td>2017</td>\n",
       "      <td>другой</td>\n",
       "      <td>19</td>\n",
       "    </tr>\n",
       "    <tr>\n",
       "      <th>7</th>\n",
       "      <td>5</td>\n",
       "      <td>7915000.0</td>\n",
       "      <td>71.60</td>\n",
       "      <td>2019-04-18</td>\n",
       "      <td>2</td>\n",
       "      <td>2.65</td>\n",
       "      <td>24</td>\n",
       "      <td>40.221036</td>\n",
       "      <td>22</td>\n",
       "      <td>NaN</td>\n",
       "      <td>...</td>\n",
       "      <td>NaN</td>\n",
       "      <td>0.0</td>\n",
       "      <td>NaN</td>\n",
       "      <td>0</td>\n",
       "      <td>110544.69</td>\n",
       "      <td>3</td>\n",
       "      <td>4</td>\n",
       "      <td>2019</td>\n",
       "      <td>другой</td>\n",
       "      <td>12</td>\n",
       "    </tr>\n",
       "    <tr>\n",
       "      <th>8</th>\n",
       "      <td>20</td>\n",
       "      <td>2900000.0</td>\n",
       "      <td>33.16</td>\n",
       "      <td>2018-05-23</td>\n",
       "      <td>1</td>\n",
       "      <td>2.65</td>\n",
       "      <td>27</td>\n",
       "      <td>15.430000</td>\n",
       "      <td>26</td>\n",
       "      <td>NaN</td>\n",
       "      <td>...</td>\n",
       "      <td>NaN</td>\n",
       "      <td>NaN</td>\n",
       "      <td>NaN</td>\n",
       "      <td>189</td>\n",
       "      <td>87454.76</td>\n",
       "      <td>2</td>\n",
       "      <td>5</td>\n",
       "      <td>2018</td>\n",
       "      <td>другой</td>\n",
       "      <td>&lt;NA&gt;</td>\n",
       "    </tr>\n",
       "    <tr>\n",
       "      <th>9</th>\n",
       "      <td>18</td>\n",
       "      <td>5400000.0</td>\n",
       "      <td>61.00</td>\n",
       "      <td>2017-02-26</td>\n",
       "      <td>3</td>\n",
       "      <td>2.50</td>\n",
       "      <td>9</td>\n",
       "      <td>43.600000</td>\n",
       "      <td>7</td>\n",
       "      <td>NaN</td>\n",
       "      <td>...</td>\n",
       "      <td>NaN</td>\n",
       "      <td>0.0</td>\n",
       "      <td>NaN</td>\n",
       "      <td>289</td>\n",
       "      <td>88524.59</td>\n",
       "      <td>6</td>\n",
       "      <td>2</td>\n",
       "      <td>2017</td>\n",
       "      <td>другой</td>\n",
       "      <td>15</td>\n",
       "    </tr>\n",
       "    <tr>\n",
       "      <th>10</th>\n",
       "      <td>5</td>\n",
       "      <td>5050000.0</td>\n",
       "      <td>39.60</td>\n",
       "      <td>2017-11-16</td>\n",
       "      <td>1</td>\n",
       "      <td>2.67</td>\n",
       "      <td>12</td>\n",
       "      <td>20.300000</td>\n",
       "      <td>3</td>\n",
       "      <td>NaN</td>\n",
       "      <td>...</td>\n",
       "      <td>310.0</td>\n",
       "      <td>2.0</td>\n",
       "      <td>553.0</td>\n",
       "      <td>137</td>\n",
       "      <td>127525.25</td>\n",
       "      <td>3</td>\n",
       "      <td>11</td>\n",
       "      <td>2017</td>\n",
       "      <td>другой</td>\n",
       "      <td>14</td>\n",
       "    </tr>\n",
       "    <tr>\n",
       "      <th>11</th>\n",
       "      <td>9</td>\n",
       "      <td>3300000.0</td>\n",
       "      <td>44.00</td>\n",
       "      <td>2018-08-27</td>\n",
       "      <td>2</td>\n",
       "      <td>2.65</td>\n",
       "      <td>5</td>\n",
       "      <td>31.000000</td>\n",
       "      <td>4</td>\n",
       "      <td>False</td>\n",
       "      <td>...</td>\n",
       "      <td>NaN</td>\n",
       "      <td>0.0</td>\n",
       "      <td>NaN</td>\n",
       "      <td>7</td>\n",
       "      <td>75000.00</td>\n",
       "      <td>0</td>\n",
       "      <td>8</td>\n",
       "      <td>2018</td>\n",
       "      <td>другой</td>\n",
       "      <td>52</td>\n",
       "    </tr>\n",
       "    <tr>\n",
       "      <th>12</th>\n",
       "      <td>10</td>\n",
       "      <td>3890000.0</td>\n",
       "      <td>54.00</td>\n",
       "      <td>2016-06-30</td>\n",
       "      <td>2</td>\n",
       "      <td>2.65</td>\n",
       "      <td>5</td>\n",
       "      <td>30.000000</td>\n",
       "      <td>5</td>\n",
       "      <td>NaN</td>\n",
       "      <td>...</td>\n",
       "      <td>NaN</td>\n",
       "      <td>NaN</td>\n",
       "      <td>NaN</td>\n",
       "      <td>90</td>\n",
       "      <td>72037.04</td>\n",
       "      <td>3</td>\n",
       "      <td>6</td>\n",
       "      <td>2016</td>\n",
       "      <td>последний</td>\n",
       "      <td>&lt;NA&gt;</td>\n",
       "    </tr>\n",
       "    <tr>\n",
       "      <th>13</th>\n",
       "      <td>20</td>\n",
       "      <td>3550000.0</td>\n",
       "      <td>42.80</td>\n",
       "      <td>2017-07-01</td>\n",
       "      <td>2</td>\n",
       "      <td>2.56</td>\n",
       "      <td>5</td>\n",
       "      <td>27.000000</td>\n",
       "      <td>5</td>\n",
       "      <td>NaN</td>\n",
       "      <td>...</td>\n",
       "      <td>294.0</td>\n",
       "      <td>3.0</td>\n",
       "      <td>298.0</td>\n",
       "      <td>366</td>\n",
       "      <td>82943.93</td>\n",
       "      <td>5</td>\n",
       "      <td>7</td>\n",
       "      <td>2017</td>\n",
       "      <td>последний</td>\n",
       "      <td>33</td>\n",
       "    </tr>\n",
       "    <tr>\n",
       "      <th>14</th>\n",
       "      <td>1</td>\n",
       "      <td>4400000.0</td>\n",
       "      <td>36.00</td>\n",
       "      <td>2016-06-23</td>\n",
       "      <td>1</td>\n",
       "      <td>2.65</td>\n",
       "      <td>6</td>\n",
       "      <td>17.000000</td>\n",
       "      <td>1</td>\n",
       "      <td>NaN</td>\n",
       "      <td>...</td>\n",
       "      <td>NaN</td>\n",
       "      <td>1.0</td>\n",
       "      <td>96.0</td>\n",
       "      <td>203</td>\n",
       "      <td>122222.22</td>\n",
       "      <td>3</td>\n",
       "      <td>6</td>\n",
       "      <td>2016</td>\n",
       "      <td>первый</td>\n",
       "      <td>31</td>\n",
       "    </tr>\n",
       "    <tr>\n",
       "      <th>15</th>\n",
       "      <td>16</td>\n",
       "      <td>4650000.0</td>\n",
       "      <td>39.00</td>\n",
       "      <td>2017-11-18</td>\n",
       "      <td>1</td>\n",
       "      <td>2.65</td>\n",
       "      <td>14</td>\n",
       "      <td>20.500000</td>\n",
       "      <td>5</td>\n",
       "      <td>NaN</td>\n",
       "      <td>...</td>\n",
       "      <td>590.0</td>\n",
       "      <td>1.0</td>\n",
       "      <td>296.0</td>\n",
       "      <td>19</td>\n",
       "      <td>119230.77</td>\n",
       "      <td>5</td>\n",
       "      <td>11</td>\n",
       "      <td>2017</td>\n",
       "      <td>другой</td>\n",
       "      <td>14</td>\n",
       "    </tr>\n",
       "    <tr>\n",
       "      <th>16</th>\n",
       "      <td>11</td>\n",
       "      <td>6700000.0</td>\n",
       "      <td>82.00</td>\n",
       "      <td>2017-11-23</td>\n",
       "      <td>3</td>\n",
       "      <td>3.05</td>\n",
       "      <td>5</td>\n",
       "      <td>55.600000</td>\n",
       "      <td>1</td>\n",
       "      <td>NaN</td>\n",
       "      <td>...</td>\n",
       "      <td>420.0</td>\n",
       "      <td>0.0</td>\n",
       "      <td>NaN</td>\n",
       "      <td>397</td>\n",
       "      <td>81707.32</td>\n",
       "      <td>3</td>\n",
       "      <td>11</td>\n",
       "      <td>2017</td>\n",
       "      <td>первый</td>\n",
       "      <td>11</td>\n",
       "    </tr>\n",
       "    <tr>\n",
       "      <th>17</th>\n",
       "      <td>6</td>\n",
       "      <td>4180000.0</td>\n",
       "      <td>36.00</td>\n",
       "      <td>2016-09-09</td>\n",
       "      <td>1</td>\n",
       "      <td>2.65</td>\n",
       "      <td>17</td>\n",
       "      <td>16.500000</td>\n",
       "      <td>7</td>\n",
       "      <td>NaN</td>\n",
       "      <td>...</td>\n",
       "      <td>NaN</td>\n",
       "      <td>1.0</td>\n",
       "      <td>859.0</td>\n",
       "      <td>571</td>\n",
       "      <td>116111.11</td>\n",
       "      <td>4</td>\n",
       "      <td>9</td>\n",
       "      <td>2016</td>\n",
       "      <td>другой</td>\n",
       "      <td>15</td>\n",
       "    </tr>\n",
       "    <tr>\n",
       "      <th>18</th>\n",
       "      <td>8</td>\n",
       "      <td>3250000.0</td>\n",
       "      <td>31.00</td>\n",
       "      <td>2017-01-27</td>\n",
       "      <td>1</td>\n",
       "      <td>2.50</td>\n",
       "      <td>5</td>\n",
       "      <td>19.400000</td>\n",
       "      <td>2</td>\n",
       "      <td>NaN</td>\n",
       "      <td>...</td>\n",
       "      <td>759.0</td>\n",
       "      <td>0.0</td>\n",
       "      <td>NaN</td>\n",
       "      <td>168</td>\n",
       "      <td>104838.71</td>\n",
       "      <td>4</td>\n",
       "      <td>1</td>\n",
       "      <td>2017</td>\n",
       "      <td>другой</td>\n",
       "      <td>11</td>\n",
       "    </tr>\n",
       "    <tr>\n",
       "      <th>19</th>\n",
       "      <td>16</td>\n",
       "      <td>14200000.0</td>\n",
       "      <td>121.00</td>\n",
       "      <td>2019-01-09</td>\n",
       "      <td>3</td>\n",
       "      <td>2.75</td>\n",
       "      <td>16</td>\n",
       "      <td>76.000000</td>\n",
       "      <td>8</td>\n",
       "      <td>NaN</td>\n",
       "      <td>...</td>\n",
       "      <td>NaN</td>\n",
       "      <td>0.0</td>\n",
       "      <td>NaN</td>\n",
       "      <td>97</td>\n",
       "      <td>117355.37</td>\n",
       "      <td>2</td>\n",
       "      <td>1</td>\n",
       "      <td>2019</td>\n",
       "      <td>другой</td>\n",
       "      <td>13</td>\n",
       "    </tr>\n",
       "  </tbody>\n",
       "</table>\n",
       "<p>20 rows × 28 columns</p>\n",
       "</div>"
      ],
      "text/plain": [
       "    total_images  last_price  total_area first_day_exposition  rooms  \\\n",
       "0             20  13000000.0      108.00           2019-03-07      3   \n",
       "1              7   3350000.0       40.40           2018-12-04      1   \n",
       "2             10   5196000.0       56.00           2015-08-20      2   \n",
       "3              0  64900000.0      159.00           2015-07-24      3   \n",
       "4              2  10000000.0      100.00           2018-06-19      2   \n",
       "5             10   2890000.0       30.40           2018-09-10      1   \n",
       "6              6   3700000.0       37.30           2017-11-02      1   \n",
       "7              5   7915000.0       71.60           2019-04-18      2   \n",
       "8             20   2900000.0       33.16           2018-05-23      1   \n",
       "9             18   5400000.0       61.00           2017-02-26      3   \n",
       "10             5   5050000.0       39.60           2017-11-16      1   \n",
       "11             9   3300000.0       44.00           2018-08-27      2   \n",
       "12            10   3890000.0       54.00           2016-06-30      2   \n",
       "13            20   3550000.0       42.80           2017-07-01      2   \n",
       "14             1   4400000.0       36.00           2016-06-23      1   \n",
       "15            16   4650000.0       39.00           2017-11-18      1   \n",
       "16            11   6700000.0       82.00           2017-11-23      3   \n",
       "17             6   4180000.0       36.00           2016-09-09      1   \n",
       "18             8   3250000.0       31.00           2017-01-27      1   \n",
       "19            16  14200000.0      121.00           2019-01-09      3   \n",
       "\n",
       "    ceiling_height  floors_total  living_area  floor is_apartment  ...  \\\n",
       "0             2.70            16    51.000000      8          NaN  ...   \n",
       "1             2.65            11    18.600000      1          NaN  ...   \n",
       "2             2.65             5    34.300000      4          NaN  ...   \n",
       "3             2.65            14    95.698076      9          NaN  ...   \n",
       "4             3.03            14    32.000000     13          NaN  ...   \n",
       "5             2.65            12    14.400000      5          NaN  ...   \n",
       "6             2.65            26    10.600000      6          NaN  ...   \n",
       "7             2.65            24    40.221036     22          NaN  ...   \n",
       "8             2.65            27    15.430000     26          NaN  ...   \n",
       "9             2.50             9    43.600000      7          NaN  ...   \n",
       "10            2.67            12    20.300000      3          NaN  ...   \n",
       "11            2.65             5    31.000000      4        False  ...   \n",
       "12            2.65             5    30.000000      5          NaN  ...   \n",
       "13            2.56             5    27.000000      5          NaN  ...   \n",
       "14            2.65             6    17.000000      1          NaN  ...   \n",
       "15            2.65            14    20.500000      5          NaN  ...   \n",
       "16            3.05             5    55.600000      1          NaN  ...   \n",
       "17            2.65            17    16.500000      7          NaN  ...   \n",
       "18            2.50             5    19.400000      2          NaN  ...   \n",
       "19            2.75            16    76.000000      8          NaN  ...   \n",
       "\n",
       "    parks_nearest  ponds_around3000  ponds_nearest  days_exposition  \\\n",
       "0           482.0               2.0          755.0                0   \n",
       "1             NaN               0.0            NaN               81   \n",
       "2            90.0               2.0          574.0              558   \n",
       "3            84.0               3.0          234.0              424   \n",
       "4           112.0               1.0           48.0              121   \n",
       "5             NaN               NaN            NaN               55   \n",
       "6             NaN               0.0            NaN              155   \n",
       "7             NaN               0.0            NaN                0   \n",
       "8             NaN               NaN            NaN              189   \n",
       "9             NaN               0.0            NaN              289   \n",
       "10          310.0               2.0          553.0              137   \n",
       "11            NaN               0.0            NaN                7   \n",
       "12            NaN               NaN            NaN               90   \n",
       "13          294.0               3.0          298.0              366   \n",
       "14            NaN               1.0           96.0              203   \n",
       "15          590.0               1.0          296.0               19   \n",
       "16          420.0               0.0            NaN              397   \n",
       "17            NaN               1.0          859.0              571   \n",
       "18          759.0               0.0            NaN              168   \n",
       "19            NaN               0.0            NaN               97   \n",
       "\n",
       "   price_per_square_meter  weekday  month  year  floor_type  \\\n",
       "0               120370.37        3      3  2019      другой   \n",
       "1                82920.79        1     12  2018      первый   \n",
       "2                92785.71        3      8  2015      другой   \n",
       "3               408176.10        4      7  2015      другой   \n",
       "4               100000.00        1      6  2018      другой   \n",
       "5                95065.79        0      9  2018      другой   \n",
       "6                99195.71        3     11  2017      другой   \n",
       "7               110544.69        3      4  2019      другой   \n",
       "8                87454.76        2      5  2018      другой   \n",
       "9                88524.59        6      2  2017      другой   \n",
       "10              127525.25        3     11  2017      другой   \n",
       "11               75000.00        0      8  2018      другой   \n",
       "12               72037.04        3      6  2016   последний   \n",
       "13               82943.93        5      7  2017   последний   \n",
       "14              122222.22        3      6  2016      первый   \n",
       "15              119230.77        5     11  2017      другой   \n",
       "16               81707.32        3     11  2017      первый   \n",
       "17              116111.11        4      9  2016      другой   \n",
       "18              104838.71        4      1  2017      другой   \n",
       "19              117355.37        2      1  2019      другой   \n",
       "\n",
       "    distance_city_center_km  \n",
       "0                        16  \n",
       "1                        19  \n",
       "2                        14  \n",
       "3                         7  \n",
       "4                         8  \n",
       "5                      <NA>  \n",
       "6                        19  \n",
       "7                        12  \n",
       "8                      <NA>  \n",
       "9                        15  \n",
       "10                       14  \n",
       "11                       52  \n",
       "12                     <NA>  \n",
       "13                       33  \n",
       "14                       31  \n",
       "15                       14  \n",
       "16                       11  \n",
       "17                       15  \n",
       "18                       11  \n",
       "19                       13  \n",
       "\n",
       "[20 rows x 28 columns]"
      ]
     },
     "execution_count": 23,
     "metadata": {},
     "output_type": "execute_result"
    }
   ],
   "source": [
    "data.head(20)"
   ]
  },
  {
   "cell_type": "code",
   "execution_count": 24,
   "metadata": {
    "scrolled": false
   },
   "outputs": [
    {
     "data": {
      "image/png": "[encoded data removed]",
      "text/plain": [
       "<Figure size 1080x720 with 9 Axes>"
      ]
     },
     "metadata": {
      "needs_background": "light"
     },
     "output_type": "display_data"
    }
   ],
   "source": [
    "plt.figure(figsize=(15, 10))\n",
    "\n",
    "plt.subplot(3, 3, 1)  \n",
    "plt.hist(data['total_area'], bins=20, color='skyblue')\n",
    "plt.title('total_area')\n",
    "\n",
    "plt.subplot(3, 3, 2)\n",
    "plt.hist(data['living_area'], bins=20, color='salmon')\n",
    "plt.title('living_area')\n",
    "\n",
    "plt.subplot(3, 3, 3)\n",
    "plt.hist(data['kitchen_area'], bins=20, color='lightgreen')\n",
    "plt.title('kitchen_area')\n",
    "\n",
    "plt.subplot(3, 3, 4)\n",
    "plt.hist(data['last_price'], bins=20, color='orange')\n",
    "plt.title('last_price')\n",
    "\n",
    "plt.subplot(3, 3, 5)\n",
    "plt.hist(data['rooms'], bins=20, color='lightcoral')\n",
    "plt.title('rooms')\n",
    "\n",
    "plt.subplot(3, 3, 6)\n",
    "plt.hist(data['ceiling_height'], bins=20, color='lightblue')\n",
    "plt.title('ceiling_height')\n",
    "\n",
    "plt.subplot(3, 3, 7)\n",
    "plt.hist(data['floor_type'], bins=20, color='purple')\n",
    "plt.title('floor_type')\n",
    "\n",
    "plt.subplot(3, 3, 8)\n",
    "plt.hist(data['floors_total'], bins=20, color='gray')\n",
    "plt.title('floors_total')\n",
    "\n",
    "plt.subplot(3, 3, 9)\n",
    "plt.hist(data['cityCenters_nearest'], bins=20, color='yellow')\n",
    "plt.title('cityCenters_nearest')\n",
    "plt.tight_layout()"
   ]
  },
  {
   "cell_type": "code",
   "execution_count": 25,
   "metadata": {},
   "outputs": [
    {
     "name": "stdout",
     "output_type": "stream",
     "text": [
      "0.9758917904079194\n"
     ]
    }
   ],
   "source": [
    "new_data = data.copy()\n",
    "new_data = new_data.query('total_area < 150')\n",
    "print(new_data.shape[0] / data.shape[0])"
   ]
  },
  {
   "cell_type": "code",
   "execution_count": 26,
   "metadata": {},
   "outputs": [
    {
     "data": {
      "text/plain": [
       "count    22871.000000\n",
       "mean        56.444362\n",
       "std         22.777532\n",
       "min         12.000000\n",
       "25%         40.000000\n",
       "50%         51.000000\n",
       "75%         67.600000\n",
       "max        149.600000\n",
       "Name: total_area, dtype: float64"
      ]
     },
     "execution_count": 26,
     "metadata": {},
     "output_type": "execute_result"
    },
    {
     "data": {
      "image/png": "[encoded data removed]",
      "text/plain": [
       "<Figure size 432x288 with 1 Axes>"
      ]
     },
     "metadata": {
      "needs_background": "light"
     },
     "output_type": "display_data"
    }
   ],
   "source": [
    "new_data.plot(\n",
    "    y='total_area', kind='hist', bins=100, \n",
    "    grid=True, range=(10, 150), \n",
    "    title='Площадь квартир', xlabel='Квадратные метры',\n",
    "    ylabel='Количество квартир')\n",
    "new_data['total_area'].describe()"
   ]
  },
  {
   "cell_type": "code",
   "execution_count": 27,
   "metadata": {},
   "outputs": [
    {
     "data": {
      "text/plain": [
       "count    23382.000000\n",
       "mean        34.497314\n",
       "std         22.246438\n",
       "min          2.000000\n",
       "25%         18.700000\n",
       "50%         30.000000\n",
       "75%         42.300000\n",
       "max        409.700000\n",
       "Name: living_area, dtype: float64"
      ]
     },
     "execution_count": 27,
     "metadata": {},
     "output_type": "execute_result"
    },
    {
     "data": {
      "image/png": "[encoded data removed]",
      "text/plain": [
       "<Figure size 432x288 with 1 Axes>"
      ]
     },
     "metadata": {
      "needs_background": "light"
     },
     "output_type": "display_data"
    }
   ],
   "source": [
    "plt.hist(data['living_area'], bins=100, range=(10,50))\n",
    "plt.title('Жилая площадь')\n",
    "plt.xlabel('Квадратные метры')\n",
    "plt.ylabel('Количество квартир')\n",
    "data['living_area'].describe()"
   ]
  },
  {
   "cell_type": "code",
   "execution_count": 28,
   "metadata": {},
   "outputs": [
    {
     "data": {
      "text/plain": [
       "count    23195.000000\n",
       "mean        10.564786\n",
       "std          5.794956\n",
       "min          1.300000\n",
       "25%          7.108327\n",
       "50%          9.300000\n",
       "75%         12.000000\n",
       "max        124.389336\n",
       "Name: kitchen_area, dtype: float64"
      ]
     },
     "execution_count": 28,
     "metadata": {},
     "output_type": "execute_result"
    },
    {
     "data": {
      "image/png": "[encoded data removed]",
      "text/plain": [
       "<Figure size 432x288 with 1 Axes>"
      ]
     },
     "metadata": {
      "needs_background": "light"
     },
     "output_type": "display_data"
    }
   ],
   "source": [
    "plt.hist(data['kitchen_area'], bins=100, range=(0,20))\n",
    "plt.title('Площадь кухни')\n",
    "plt.xlabel('Квадратные метры')\n",
    "plt.ylabel('Количество квартир')\n",
    "data['kitchen_area'].describe()"
   ]
  },
  {
   "cell_type": "code",
   "execution_count": 29,
   "metadata": {},
   "outputs": [
    {
     "name": "stdout",
     "output_type": "stream",
     "text": [
      "0.9155145929339478\n"
     ]
    }
   ],
   "source": [
    "new_data['last_price'] = new_data['last_price'] / 1_000_000\n",
    "# print(new_data['last_price'])\n",
    "new_data = new_data.query('last_price < 12')\n",
    "print(new_data.shape[0] / data.shape[0])"
   ]
  },
  {
   "cell_type": "code",
   "execution_count": 30,
   "metadata": {},
   "outputs": [
    {
     "data": {
      "text/plain": [
       "count    21456.000000\n",
       "mean         4.854116\n",
       "std          2.237468\n",
       "min          0.012190\n",
       "25%          3.300000\n",
       "50%          4.400000\n",
       "75%          6.000000\n",
       "max         11.999000\n",
       "Name: last_price, dtype: float64"
      ]
     },
     "execution_count": 30,
     "metadata": {},
     "output_type": "execute_result"
    },
    {
     "data": {
      "image/png": "[encoded data removed]",
      "text/plain": [
       "<Figure size 432x288 with 1 Axes>"
      ]
     },
     "metadata": {
      "needs_background": "light"
     },
     "output_type": "display_data"
    }
   ],
   "source": [
    "plt.hist(new_data['last_price'], bins=100, range=(0,12))\n",
    "plt.title('Цена объекта')\n",
    "plt.xlabel('Цена в млн.')\n",
    "plt.ylabel('Количество квартир')\n",
    "new_data['last_price'].describe()"
   ]
  },
  {
   "cell_type": "code",
   "execution_count": 31,
   "metadata": {},
   "outputs": [
    {
     "name": "stdout",
     "output_type": "stream",
     "text": [
      "0.9155145929339478\n"
     ]
    }
   ],
   "source": [
    "new_data = new_data.query('rooms < 10')\n",
    "print(new_data.shape[0] / data.shape[0])"
   ]
  },
  {
   "cell_type": "code",
   "execution_count": 32,
   "metadata": {},
   "outputs": [
    {
     "data": {
      "text/plain": [
       "count    21456.000000\n",
       "mean         1.930509\n",
       "std          0.910320\n",
       "min          0.000000\n",
       "25%          1.000000\n",
       "50%          2.000000\n",
       "75%          3.000000\n",
       "max          6.000000\n",
       "Name: rooms, dtype: float64"
      ]
     },
     "execution_count": 32,
     "metadata": {},
     "output_type": "execute_result"
    },
    {
     "data": {
      "image/png": "[encoded data removed]",
      "text/plain": [
       "<Figure size 432x288 with 1 Axes>"
      ]
     },
     "metadata": {
      "needs_background": "light"
     },
     "output_type": "display_data"
    }
   ],
   "source": [
    "plt.hist(new_data['rooms'], bins=20, range=(0, 6))\n",
    "plt.title('Количество комнат')\n",
    "new_data['rooms'].describe()"
   ]
  },
  {
   "cell_type": "code",
   "execution_count": 33,
   "metadata": {},
   "outputs": [
    {
     "data": {
      "text/plain": [
       "<AxesSubplot:>"
      ]
     },
     "execution_count": 33,
     "metadata": {},
     "output_type": "execute_result"
    },
    {
     "data": {
      "image/png": "[encoded data removed]",
      "text/plain": [
       "<Figure size 720x360 with 1 Axes>"
      ]
     },
     "metadata": {
      "needs_background": "light"
     },
     "output_type": "display_data"
    }
   ],
   "source": [
    "data.boxplot(column=['ceiling_height'], figsize=(10,5), grid=True)"
   ]
  },
  {
   "cell_type": "code",
   "execution_count": 34,
   "metadata": {},
   "outputs": [
    {
     "data": {
      "text/plain": [
       "count    23436.000000\n",
       "mean         2.694366\n",
       "std          0.204147\n",
       "min          2.500000\n",
       "25%          2.600000\n",
       "50%          2.650000\n",
       "75%          2.700000\n",
       "max          4.000000\n",
       "Name: ceiling_height, dtype: float64"
      ]
     },
     "execution_count": 34,
     "metadata": {},
     "output_type": "execute_result"
    },
    {
     "data": {
      "image/png": "[encoded data removed]",
      "text/plain": [
       "<Figure size 720x288 with 1 Axes>"
      ]
     },
     "metadata": {
      "needs_background": "light"
     },
     "output_type": "display_data"
    }
   ],
   "source": [
    "data.plot(kind='hist', title='Высота потолков', y='ceiling_height', bins=20, grid=True, figsize=(10,4))\n",
    "data['ceiling_height'].describe()"
   ]
  },
  {
   "cell_type": "code",
   "execution_count": 35,
   "metadata": {},
   "outputs": [
    {
     "data": {
      "text/plain": [
       "count      23436\n",
       "unique         3\n",
       "top       другой\n",
       "freq       17255\n",
       "Name: floor_type, dtype: object"
      ]
     },
     "execution_count": 35,
     "metadata": {},
     "output_type": "execute_result"
    },
    {
     "data": {
      "image/png": "[encoded data removed]",
      "text/plain": [
       "<Figure size 432x288 with 1 Axes>"
      ]
     },
     "metadata": {
      "needs_background": "light"
     },
     "output_type": "display_data"
    }
   ],
   "source": [
    "plt.hist(data['floor_type'], bins=10, range=(0, 3))\n",
    "plt.title('Тип этажа квартиры')\n",
    "plt.xlabel('Тип')\n",
    "plt.ylabel('Количество квартир')\n",
    "data['floor_type'].describe()"
   ]
  },
  {
   "cell_type": "code",
   "execution_count": 36,
   "metadata": {},
   "outputs": [
    {
     "data": {
      "text/plain": [
       "<AxesSubplot:>"
      ]
     },
     "execution_count": 36,
     "metadata": {},
     "output_type": "execute_result"
    },
    {
     "data": {
      "image/png": "[encoded data removed]",
      "text/plain": [
       "<Figure size 720x360 with 1 Axes>"
      ]
     },
     "metadata": {
      "needs_background": "light"
     },
     "output_type": "display_data"
    }
   ],
   "source": [
    "data.boxplot(column=['floors_total'], grid=True, figsize=(10,5))"
   ]
  },
  {
   "cell_type": "code",
   "execution_count": 37,
   "metadata": {},
   "outputs": [
    {
     "data": {
      "text/plain": [
       "count    23436.000000\n",
       "mean        10.695554\n",
       "std          6.597841\n",
       "min          1.000000\n",
       "25%          5.000000\n",
       "50%          9.000000\n",
       "75%         16.000000\n",
       "max         60.000000\n",
       "Name: floors_total, dtype: float64"
      ]
     },
     "execution_count": 37,
     "metadata": {},
     "output_type": "execute_result"
    },
    {
     "data": {
      "image/png": "[encoded data removed]",
      "text/plain": [
       "<Figure size 432x288 with 1 Axes>"
      ]
     },
     "metadata": {
      "needs_background": "light"
     },
     "output_type": "display_data"
    }
   ],
   "source": [
    "plt.hist(data['floors_total'], bins=100, range=(0, 30))\n",
    "data['floors_total'].describe()"
   ]
  },
  {
   "cell_type": "code",
   "execution_count": 38,
   "metadata": {
    "scrolled": true
   },
   "outputs": [
    {
     "data": {
      "text/plain": [
       "count    17971.00000\n",
       "mean     14209.74086\n",
       "std       8610.18075\n",
       "min        181.00000\n",
       "25%       9267.00000\n",
       "50%      13108.00000\n",
       "75%      16293.00000\n",
       "max      65968.00000\n",
       "Name: cityCenters_nearest, dtype: float64"
      ]
     },
     "execution_count": 38,
     "metadata": {},
     "output_type": "execute_result"
    },
    {
     "data": {
      "image/png": "[encoded data removed]",
      "text/plain": [
       "<Figure size 720x360 with 1 Axes>"
      ]
     },
     "metadata": {
      "needs_background": "light"
     },
     "output_type": "display_data"
    },
    {
     "data": {
      "image/png": "[encoded data removed]",
      "text/plain": [
       "<Figure size 720x360 with 1 Axes>"
      ]
     },
     "metadata": {
      "needs_background": "light"
     },
     "output_type": "display_data"
    }
   ],
   "source": [
    "data.boxplot('cityCenters_nearest', figsize=(10,5));\n",
    "data.hist('cityCenters_nearest', bins=200, figsize=(10,5));\n",
    "data['cityCenters_nearest'].describe()"
   ]
  },
  {
   "cell_type": "code",
   "execution_count": 39,
   "metadata": {},
   "outputs": [
    {
     "data": {
      "text/plain": [
       "count    7971.000000\n",
       "mean      490.709698\n",
       "std       342.289763\n",
       "min         1.000000\n",
       "25%       288.000000\n",
       "50%       454.000000\n",
       "75%       612.000000\n",
       "max      3190.000000\n",
       "Name: parks_nearest, dtype: float64"
      ]
     },
     "execution_count": 39,
     "metadata": {},
     "output_type": "execute_result"
    },
    {
     "data": {
      "image/png": "[encoded data removed]",
      "text/plain": [
       "<Figure size 720x360 with 1 Axes>"
      ]
     },
     "metadata": {
      "needs_background": "light"
     },
     "output_type": "display_data"
    },
    {
     "data": {
      "image/png": "[encoded data removed]",
      "text/plain": [
       "<Figure size 720x360 with 1 Axes>"
      ]
     },
     "metadata": {
      "needs_background": "light"
     },
     "output_type": "display_data"
    }
   ],
   "source": [
    "data.boxplot('parks_nearest', figsize=(10,5));\n",
    "data.hist('parks_nearest', bins=100, figsize=(10,5));\n",
    "data['parks_nearest'].describe()"
   ]
  },
  {
   "cell_type": "code",
   "execution_count": 40,
   "metadata": {},
   "outputs": [
    {
     "name": "stdout",
     "output_type": "stream",
     "text": [
      "0.9155145929339478\n"
     ]
    }
   ],
   "source": [
    "print(new_data.shape[0] / data.shape[0])"
   ]
  },
  {
   "cell_type": "code",
   "execution_count": 41,
   "metadata": {},
   "outputs": [
    {
     "data": {
      "text/plain": [
       "count    23436.000000\n",
       "mean       156.279954\n",
       "std        213.387907\n",
       "min          0.000000\n",
       "25%         22.000000\n",
       "50%         73.000000\n",
       "75%        198.000000\n",
       "max       1580.000000\n",
       "Name: days_exposition, dtype: float64"
      ]
     },
     "execution_count": 41,
     "metadata": {},
     "output_type": "execute_result"
    },
    {
     "data": {
      "image/png": "[encoded data removed]",
      "text/plain": [
       "<Figure size 720x360 with 1 Axes>"
      ]
     },
     "metadata": {
      "needs_background": "light"
     },
     "output_type": "display_data"
    },
    {
     "data": {
      "image/png": "[encoded data removed]",
      "text/plain": [
       "<Figure size 720x432 with 1 Axes>"
      ]
     },
     "metadata": {
      "needs_background": "light"
     },
     "output_type": "display_data"
    }
   ],
   "source": [
    "data.boxplot('days_exposition', figsize=(10,5))\n",
    "data.plot(kind='hist', title='Время продажи квартиры', y='days_exposition', bins=50, range=(0, 1000), grid=True, figsize=(10,6) )\n",
    "data.days_exposition.describe()"
   ]
  },
  {
   "cell_type": "code",
   "execution_count": 42,
   "metadata": {},
   "outputs": [
    {
     "name": "stdout",
     "output_type": "stream",
     "text": [
      "Среднее время продажи: 156.28 дней\n",
      "Медианное время продажи: 73.00 дней\n"
     ]
    }
   ],
   "source": [
    "mean_exposition_time = data['days_exposition'].mean()\n",
    "median_exposition_time = data['days_exposition'].median()\n",
    "\n",
    "print(\"Среднее время продажи: {:.2f} дней\".format(mean_exposition_time))\n",
    "print(\"Медианное время продажи: {:.2f} дней\".format(median_exposition_time))"
   ]
  },
  {
   "cell_type": "code",
   "execution_count": 43,
   "metadata": {},
   "outputs": [
    {
     "data": {
      "image/png": "[encoded data removed]",
      "text/plain": [
       "<Figure size 720x432 with 1 Axes>"
      ]
     },
     "metadata": {
      "needs_background": "light"
     },
     "output_type": "display_data"
    }
   ],
   "source": [
    "plt.figure(figsize=(10, 6))\n",
    "plt.scatter(data['total_area'], data['last_price'], alpha=0.3)\n",
    "plt.title('Зависимость цены от общей площади')\n",
    "plt.xlabel('Общая площадь, кв.м')\n",
    "plt.ylabel('Цена, млн руб.')\n",
    "plt.ylim(0, 100000000)\n",
    "plt.grid(True)"
   ]
  },
  {
   "cell_type": "code",
   "execution_count": 44,
   "metadata": {},
   "outputs": [
    {
     "name": "stdout",
     "output_type": "stream",
     "text": [
      "Коэффициент корреляции цены от общей площади 0.65\n"
     ]
    }
   ],
   "source": [
    "print('Коэффициент корреляции цены от общей площади', round(data['total_area'].corr(data['last_price']), 2))"
   ]
  },
  {
   "cell_type": "code",
   "execution_count": 45,
   "metadata": {
    "scrolled": false
   },
   "outputs": [
    {
     "data": {
      "image/png": "[encoded data removed]",
      "text/plain": [
       "<Figure size 720x432 with 1 Axes>"
      ]
     },
     "metadata": {
      "needs_background": "light"
     },
     "output_type": "display_data"
    }
   ],
   "source": [
    "plt.figure(figsize=(10, 6))\n",
    "plt.scatter(data['living_area'], data['last_price'], alpha=0.3)\n",
    "plt.title('Зависимость цены от жилой площади')\n",
    "plt.xlabel('Жилая площадь, кв.м')\n",
    "plt.ylabel('Цена, млн руб.')\n",
    "plt.ylim(0, 100000000)\n",
    "plt.grid(True)"
   ]
  },
  {
   "cell_type": "code",
   "execution_count": 46,
   "metadata": {},
   "outputs": [
    {
     "name": "stdout",
     "output_type": "stream",
     "text": [
      "Коэффициент корреляции цены от жилой площади 0.58\n"
     ]
    }
   ],
   "source": [
    "print('Коэффициент корреляции цены от жилой площади', round(data['living_area'].corr(data['last_price']), 2))"
   ]
  },
  {
   "cell_type": "code",
   "execution_count": 47,
   "metadata": {},
   "outputs": [
    {
     "data": {
      "image/png": "[encoded data removed]",
      "text/plain": [
       "<Figure size 720x432 with 1 Axes>"
      ]
     },
     "metadata": {
      "needs_background": "light"
     },
     "output_type": "display_data"
    }
   ],
   "source": [
    "plt.figure(figsize=(10, 6))\n",
    "plt.scatter(data['kitchen_area'], data['last_price'], alpha=0.3)\n",
    "plt.title('Зависимость цены от площади кухни')\n",
    "plt.xlabel('Площадь кухни, кв.м')\n",
    "plt.ylabel('Цена, млн руб.')\n",
    "plt.ylim(0, 100000000)\n",
    "plt.grid(True)"
   ]
  },
  {
   "cell_type": "code",
   "execution_count": 48,
   "metadata": {},
   "outputs": [
    {
     "name": "stdout",
     "output_type": "stream",
     "text": [
      "Коэффициент корреляции цены от площади кухни 0.48\n"
     ]
    }
   ],
   "source": [
    "print('Коэффициент корреляции цены от площади кухни', round(data['kitchen_area'].corr(data['last_price']), 2))"
   ]
  },
  {
   "cell_type": "code",
   "execution_count": 49,
   "metadata": {},
   "outputs": [
    {
     "data": {
      "image/png": "[encoded data removed]",
      "text/plain": [
       "<Figure size 720x432 with 1 Axes>"
      ]
     },
     "metadata": {
      "needs_background": "light"
     },
     "output_type": "display_data"
    }
   ],
   "source": [
    "plt.figure(figsize=(10, 6))\n",
    "plt.scatter(data['rooms'], data['last_price'], alpha=0.3)\n",
    "plt.title('Зависимость цены от комнат')\n",
    "plt.xlabel('Количество комнат')\n",
    "plt.ylabel('Количество квартир')\n",
    "plt.ylim(0, 100000000)\n",
    "plt.grid(True)"
   ]
  },
  {
   "cell_type": "code",
   "execution_count": 50,
   "metadata": {},
   "outputs": [
    {
     "name": "stdout",
     "output_type": "stream",
     "text": [
      "Коэффициент корреляции цены от комнат 0.36\n"
     ]
    }
   ],
   "source": [
    "print('Коэффициент корреляции цены от комнат', round(data['rooms'].corr(data['last_price']), 2))"
   ]
  },
  {
   "cell_type": "code",
   "execution_count": 51,
   "metadata": {
    "scrolled": false
   },
   "outputs": [
    {
     "data": {
      "text/plain": [
       "<AxesSubplot:xlabel='floor_type'>"
      ]
     },
     "execution_count": 51,
     "metadata": {},
     "output_type": "execute_result"
    },
    {
     "data": {
      "image/png": "[encoded data removed]",
      "text/plain": [
       "<Figure size 360x360 with 1 Axes>"
      ]
     },
     "metadata": {
      "needs_background": "light"
     },
     "output_type": "display_data"
    }
   ],
   "source": [
    "data.pivot_table(index='floor_type', values='last_price', aggfunc='median').plot(grid=True, style='o-', figsize=(5, 5))"
   ]
  },
  {
   "cell_type": "code",
   "execution_count": 52,
   "metadata": {},
   "outputs": [
    {
     "data": {
      "text/plain": [
       "<AxesSubplot:title={'center':'Зависимость средней цены от дня недели'}, xlabel='weekday'>"
      ]
     },
     "execution_count": 52,
     "metadata": {},
     "output_type": "execute_result"
    },
    {
     "data": {
      "image/png": "[encoded data removed]",
      "text/plain": [
       "<Figure size 720x288 with 1 Axes>"
      ]
     },
     "metadata": {
      "needs_background": "light"
     },
     "output_type": "display_data"
    }
   ],
   "source": [
    "data.pivot_table(index='weekday', values='last_price').plot(style='-',title='Зависимость средней цены от дня недели', figsize=(10,4))"
   ]
  },
  {
   "cell_type": "code",
   "execution_count": 53,
   "metadata": {},
   "outputs": [
    {
     "data": {
      "text/plain": [
       "<AxesSubplot:title={'center':'Зависимость средней цены от месяца'}, xlabel='month'>"
      ]
     },
     "execution_count": 53,
     "metadata": {},
     "output_type": "execute_result"
    },
    {
     "data": {
      "image/png": "[encoded data removed]",
      "text/plain": [
       "<Figure size 720x288 with 1 Axes>"
      ]
     },
     "metadata": {
      "needs_background": "light"
     },
     "output_type": "display_data"
    }
   ],
   "source": [
    "data.pivot_table(index='month', values='last_price').plot(style='-',title='Зависимость средней цены от месяца', figsize=(10,4))"
   ]
  },
  {
   "cell_type": "code",
   "execution_count": 54,
   "metadata": {},
   "outputs": [
    {
     "data": {
      "text/plain": [
       "<AxesSubplot:title={'center':'Зависимость средней цены от года'}, xlabel='year'>"
      ]
     },
     "execution_count": 54,
     "metadata": {},
     "output_type": "execute_result"
    },
    {
     "data": {
      "image/png": "[encoded data removed]",
      "text/plain": [
       "<Figure size 720x288 with 1 Axes>"
      ]
     },
     "metadata": {
      "needs_background": "light"
     },
     "output_type": "display_data"
    }
   ],
   "source": [
    "data.pivot_table(index='year', values='last_price').plot(style='-',title='Зависимость средней цены от года', figsize=(10,4))"
   ]
  },
  {
   "cell_type": "code",
   "execution_count": 55,
   "metadata": {},
   "outputs": [
    {
     "name": "stdout",
     "output_type": "stream",
     "text": [
      "                   abs_count  cost_per_meter_mean\n",
      "locality_name                                    \n",
      "Санкт-Петербург        15569        114661.924397\n",
      "поселок Мурино           552         85629.568641\n",
      "поселок Шушары           439         78551.344647\n",
      "Всеволожск               396         68670.459621\n",
      "Пушкин                   365        103079.873562\n",
      "Колпино                  337         75443.972849\n",
      "поселок Парголово        326         90205.423374\n",
      "Гатчина                  307         68746.146515\n",
      "деревня Кудрово          299         92473.547559\n",
      "Выборг                   234         58190.128162\n",
      "Населённый пункт с самой высокой стоимостью квадратного метра: Санкт-Петербург\n",
      "Населённый пункт с самой низкой стоимостью квадратного метра: Выборг\n"
     ]
    }
   ],
   "source": [
    "top10_localities = data.pivot_table(index='locality_name', values='price_per_square_meter', aggfunc=['count', 'mean'])\n",
    "top10_localities.columns = ['abs_count', 'cost_per_meter_mean']\n",
    "\n",
    "top10_localities = top10_localities.sort_values(by='abs_count', ascending=False)\n",
    "\n",
    "top10_localities = top10_localities.head(10)\n",
    "print(top10_localities)\n",
    "\n",
    "high_price_locality = top10_localities['cost_per_meter_mean'].idxmax()\n",
    "low_price_locality = top10_localities['cost_per_meter_mean'].idxmin()\n",
    "\n",
    "print(f'Населённый пункт с самой высокой стоимостью квадратного метра: {high_price_locality}')\n",
    "print(f'Населённый пункт с самой низкой стоимостью квадратного метра: {low_price_locality}')"
   ]
  },
  {
   "cell_type": "code",
   "execution_count": 56,
   "metadata": {
    "scrolled": true
   },
   "outputs": [
    {
     "data": {
      "image/png": "[encoded data removed]",
      "text/plain": [
       "<Figure size 720x432 with 1 Axes>"
      ]
     },
     "metadata": {
      "needs_background": "light"
     },
     "output_type": "display_data"
    }
   ],
   "source": [
    "plt.figure(figsize=(10, 6))\n",
    "plt.bar(top10_localities.index, top10_localities['cost_per_meter_mean'])\n",
    "plt.title('Топ 10 локаций со средней ценой за квадратный метр')\n",
    "plt.xlabel('Локации')\n",
    "plt.ylabel('Цена за квадратный метр')\n",
    "plt.xticks(rotation=45, ha='right')\n",
    "plt.tight_layout()"
   ]
  },
  {
   "cell_type": "code",
   "execution_count": 57,
   "metadata": {},
   "outputs": [
    {
     "data": {
      "text/html": [
       "<div>\n",
       "<style scoped>\n",
       "    .dataframe tbody tr th:only-of-type {\n",
       "        vertical-align: middle;\n",
       "    }\n",
       "\n",
       "    .dataframe tbody tr th {\n",
       "        vertical-align: top;\n",
       "    }\n",
       "\n",
       "    .dataframe thead th {\n",
       "        text-align: right;\n",
       "    }\n",
       "</style>\n",
       "<table border=\"1\" class=\"dataframe\">\n",
       "  <thead>\n",
       "    <tr style=\"text-align: right;\">\n",
       "      <th></th>\n",
       "      <th>total_images</th>\n",
       "      <th>last_price</th>\n",
       "      <th>total_area</th>\n",
       "      <th>first_day_exposition</th>\n",
       "      <th>rooms</th>\n",
       "      <th>ceiling_height</th>\n",
       "      <th>floors_total</th>\n",
       "      <th>living_area</th>\n",
       "      <th>floor</th>\n",
       "      <th>is_apartment</th>\n",
       "      <th>...</th>\n",
       "      <th>parks_nearest</th>\n",
       "      <th>ponds_around3000</th>\n",
       "      <th>ponds_nearest</th>\n",
       "      <th>days_exposition</th>\n",
       "      <th>price_per_square_meter</th>\n",
       "      <th>weekday</th>\n",
       "      <th>month</th>\n",
       "      <th>year</th>\n",
       "      <th>floor_type</th>\n",
       "      <th>distance_city_center_km</th>\n",
       "    </tr>\n",
       "  </thead>\n",
       "  <tbody>\n",
       "    <tr>\n",
       "      <th>0</th>\n",
       "      <td>20</td>\n",
       "      <td>13000000.0</td>\n",
       "      <td>108.0</td>\n",
       "      <td>2019-03-07</td>\n",
       "      <td>3</td>\n",
       "      <td>2.70</td>\n",
       "      <td>16</td>\n",
       "      <td>51.000000</td>\n",
       "      <td>8</td>\n",
       "      <td>NaN</td>\n",
       "      <td>...</td>\n",
       "      <td>482.0</td>\n",
       "      <td>2.0</td>\n",
       "      <td>755.0</td>\n",
       "      <td>0</td>\n",
       "      <td>120370.37</td>\n",
       "      <td>3</td>\n",
       "      <td>3</td>\n",
       "      <td>2019</td>\n",
       "      <td>другой</td>\n",
       "      <td>16</td>\n",
       "    </tr>\n",
       "    <tr>\n",
       "      <th>2</th>\n",
       "      <td>10</td>\n",
       "      <td>5196000.0</td>\n",
       "      <td>56.0</td>\n",
       "      <td>2015-08-20</td>\n",
       "      <td>2</td>\n",
       "      <td>2.65</td>\n",
       "      <td>5</td>\n",
       "      <td>34.300000</td>\n",
       "      <td>4</td>\n",
       "      <td>NaN</td>\n",
       "      <td>...</td>\n",
       "      <td>90.0</td>\n",
       "      <td>2.0</td>\n",
       "      <td>574.0</td>\n",
       "      <td>558</td>\n",
       "      <td>92785.71</td>\n",
       "      <td>3</td>\n",
       "      <td>8</td>\n",
       "      <td>2015</td>\n",
       "      <td>другой</td>\n",
       "      <td>14</td>\n",
       "    </tr>\n",
       "    <tr>\n",
       "      <th>3</th>\n",
       "      <td>0</td>\n",
       "      <td>64900000.0</td>\n",
       "      <td>159.0</td>\n",
       "      <td>2015-07-24</td>\n",
       "      <td>3</td>\n",
       "      <td>2.65</td>\n",
       "      <td>14</td>\n",
       "      <td>95.698076</td>\n",
       "      <td>9</td>\n",
       "      <td>NaN</td>\n",
       "      <td>...</td>\n",
       "      <td>84.0</td>\n",
       "      <td>3.0</td>\n",
       "      <td>234.0</td>\n",
       "      <td>424</td>\n",
       "      <td>408176.10</td>\n",
       "      <td>4</td>\n",
       "      <td>7</td>\n",
       "      <td>2015</td>\n",
       "      <td>другой</td>\n",
       "      <td>7</td>\n",
       "    </tr>\n",
       "    <tr>\n",
       "      <th>4</th>\n",
       "      <td>2</td>\n",
       "      <td>10000000.0</td>\n",
       "      <td>100.0</td>\n",
       "      <td>2018-06-19</td>\n",
       "      <td>2</td>\n",
       "      <td>3.03</td>\n",
       "      <td>14</td>\n",
       "      <td>32.000000</td>\n",
       "      <td>13</td>\n",
       "      <td>NaN</td>\n",
       "      <td>...</td>\n",
       "      <td>112.0</td>\n",
       "      <td>1.0</td>\n",
       "      <td>48.0</td>\n",
       "      <td>121</td>\n",
       "      <td>100000.00</td>\n",
       "      <td>1</td>\n",
       "      <td>6</td>\n",
       "      <td>2018</td>\n",
       "      <td>другой</td>\n",
       "      <td>8</td>\n",
       "    </tr>\n",
       "    <tr>\n",
       "      <th>7</th>\n",
       "      <td>5</td>\n",
       "      <td>7915000.0</td>\n",
       "      <td>71.6</td>\n",
       "      <td>2019-04-18</td>\n",
       "      <td>2</td>\n",
       "      <td>2.65</td>\n",
       "      <td>24</td>\n",
       "      <td>40.221036</td>\n",
       "      <td>22</td>\n",
       "      <td>NaN</td>\n",
       "      <td>...</td>\n",
       "      <td>NaN</td>\n",
       "      <td>0.0</td>\n",
       "      <td>NaN</td>\n",
       "      <td>0</td>\n",
       "      <td>110544.69</td>\n",
       "      <td>3</td>\n",
       "      <td>4</td>\n",
       "      <td>2019</td>\n",
       "      <td>другой</td>\n",
       "      <td>12</td>\n",
       "    </tr>\n",
       "    <tr>\n",
       "      <th>9</th>\n",
       "      <td>18</td>\n",
       "      <td>5400000.0</td>\n",
       "      <td>61.0</td>\n",
       "      <td>2017-02-26</td>\n",
       "      <td>3</td>\n",
       "      <td>2.50</td>\n",
       "      <td>9</td>\n",
       "      <td>43.600000</td>\n",
       "      <td>7</td>\n",
       "      <td>NaN</td>\n",
       "      <td>...</td>\n",
       "      <td>NaN</td>\n",
       "      <td>0.0</td>\n",
       "      <td>NaN</td>\n",
       "      <td>289</td>\n",
       "      <td>88524.59</td>\n",
       "      <td>6</td>\n",
       "      <td>2</td>\n",
       "      <td>2017</td>\n",
       "      <td>другой</td>\n",
       "      <td>15</td>\n",
       "    </tr>\n",
       "    <tr>\n",
       "      <th>10</th>\n",
       "      <td>5</td>\n",
       "      <td>5050000.0</td>\n",
       "      <td>39.6</td>\n",
       "      <td>2017-11-16</td>\n",
       "      <td>1</td>\n",
       "      <td>2.67</td>\n",
       "      <td>12</td>\n",
       "      <td>20.300000</td>\n",
       "      <td>3</td>\n",
       "      <td>NaN</td>\n",
       "      <td>...</td>\n",
       "      <td>310.0</td>\n",
       "      <td>2.0</td>\n",
       "      <td>553.0</td>\n",
       "      <td>137</td>\n",
       "      <td>127525.25</td>\n",
       "      <td>3</td>\n",
       "      <td>11</td>\n",
       "      <td>2017</td>\n",
       "      <td>другой</td>\n",
       "      <td>14</td>\n",
       "    </tr>\n",
       "    <tr>\n",
       "      <th>15</th>\n",
       "      <td>16</td>\n",
       "      <td>4650000.0</td>\n",
       "      <td>39.0</td>\n",
       "      <td>2017-11-18</td>\n",
       "      <td>1</td>\n",
       "      <td>2.65</td>\n",
       "      <td>14</td>\n",
       "      <td>20.500000</td>\n",
       "      <td>5</td>\n",
       "      <td>NaN</td>\n",
       "      <td>...</td>\n",
       "      <td>590.0</td>\n",
       "      <td>1.0</td>\n",
       "      <td>296.0</td>\n",
       "      <td>19</td>\n",
       "      <td>119230.77</td>\n",
       "      <td>5</td>\n",
       "      <td>11</td>\n",
       "      <td>2017</td>\n",
       "      <td>другой</td>\n",
       "      <td>14</td>\n",
       "    </tr>\n",
       "    <tr>\n",
       "      <th>16</th>\n",
       "      <td>11</td>\n",
       "      <td>6700000.0</td>\n",
       "      <td>82.0</td>\n",
       "      <td>2017-11-23</td>\n",
       "      <td>3</td>\n",
       "      <td>3.05</td>\n",
       "      <td>5</td>\n",
       "      <td>55.600000</td>\n",
       "      <td>1</td>\n",
       "      <td>NaN</td>\n",
       "      <td>...</td>\n",
       "      <td>420.0</td>\n",
       "      <td>0.0</td>\n",
       "      <td>NaN</td>\n",
       "      <td>397</td>\n",
       "      <td>81707.32</td>\n",
       "      <td>3</td>\n",
       "      <td>11</td>\n",
       "      <td>2017</td>\n",
       "      <td>первый</td>\n",
       "      <td>11</td>\n",
       "    </tr>\n",
       "    <tr>\n",
       "      <th>17</th>\n",
       "      <td>6</td>\n",
       "      <td>4180000.0</td>\n",
       "      <td>36.0</td>\n",
       "      <td>2016-09-09</td>\n",
       "      <td>1</td>\n",
       "      <td>2.65</td>\n",
       "      <td>17</td>\n",
       "      <td>16.500000</td>\n",
       "      <td>7</td>\n",
       "      <td>NaN</td>\n",
       "      <td>...</td>\n",
       "      <td>NaN</td>\n",
       "      <td>1.0</td>\n",
       "      <td>859.0</td>\n",
       "      <td>571</td>\n",
       "      <td>116111.11</td>\n",
       "      <td>4</td>\n",
       "      <td>9</td>\n",
       "      <td>2016</td>\n",
       "      <td>другой</td>\n",
       "      <td>15</td>\n",
       "    </tr>\n",
       "    <tr>\n",
       "      <th>18</th>\n",
       "      <td>8</td>\n",
       "      <td>3250000.0</td>\n",
       "      <td>31.0</td>\n",
       "      <td>2017-01-27</td>\n",
       "      <td>1</td>\n",
       "      <td>2.50</td>\n",
       "      <td>5</td>\n",
       "      <td>19.400000</td>\n",
       "      <td>2</td>\n",
       "      <td>NaN</td>\n",
       "      <td>...</td>\n",
       "      <td>759.0</td>\n",
       "      <td>0.0</td>\n",
       "      <td>NaN</td>\n",
       "      <td>168</td>\n",
       "      <td>104838.71</td>\n",
       "      <td>4</td>\n",
       "      <td>1</td>\n",
       "      <td>2017</td>\n",
       "      <td>другой</td>\n",
       "      <td>11</td>\n",
       "    </tr>\n",
       "    <tr>\n",
       "      <th>19</th>\n",
       "      <td>16</td>\n",
       "      <td>14200000.0</td>\n",
       "      <td>121.0</td>\n",
       "      <td>2019-01-09</td>\n",
       "      <td>3</td>\n",
       "      <td>2.75</td>\n",
       "      <td>16</td>\n",
       "      <td>76.000000</td>\n",
       "      <td>8</td>\n",
       "      <td>NaN</td>\n",
       "      <td>...</td>\n",
       "      <td>NaN</td>\n",
       "      <td>0.0</td>\n",
       "      <td>NaN</td>\n",
       "      <td>97</td>\n",
       "      <td>117355.37</td>\n",
       "      <td>2</td>\n",
       "      <td>1</td>\n",
       "      <td>2019</td>\n",
       "      <td>другой</td>\n",
       "      <td>13</td>\n",
       "    </tr>\n",
       "    <tr>\n",
       "      <th>21</th>\n",
       "      <td>13</td>\n",
       "      <td>3200000.0</td>\n",
       "      <td>31.6</td>\n",
       "      <td>2018-03-14</td>\n",
       "      <td>1</td>\n",
       "      <td>2.65</td>\n",
       "      <td>5</td>\n",
       "      <td>16.900000</td>\n",
       "      <td>2</td>\n",
       "      <td>NaN</td>\n",
       "      <td>...</td>\n",
       "      <td>248.0</td>\n",
       "      <td>0.0</td>\n",
       "      <td>NaN</td>\n",
       "      <td>310</td>\n",
       "      <td>101265.82</td>\n",
       "      <td>2</td>\n",
       "      <td>3</td>\n",
       "      <td>2018</td>\n",
       "      <td>другой</td>\n",
       "      <td>10</td>\n",
       "    </tr>\n",
       "    <tr>\n",
       "      <th>23</th>\n",
       "      <td>11</td>\n",
       "      <td>2950000.0</td>\n",
       "      <td>32.0</td>\n",
       "      <td>2016-10-29</td>\n",
       "      <td>1</td>\n",
       "      <td>2.60</td>\n",
       "      <td>9</td>\n",
       "      <td>17.700000</td>\n",
       "      <td>9</td>\n",
       "      <td>NaN</td>\n",
       "      <td>...</td>\n",
       "      <td>517.0</td>\n",
       "      <td>1.0</td>\n",
       "      <td>190.0</td>\n",
       "      <td>615</td>\n",
       "      <td>92187.50</td>\n",
       "      <td>5</td>\n",
       "      <td>10</td>\n",
       "      <td>2016</td>\n",
       "      <td>последний</td>\n",
       "      <td>14</td>\n",
       "    </tr>\n",
       "    <tr>\n",
       "      <th>24</th>\n",
       "      <td>8</td>\n",
       "      <td>6500000.0</td>\n",
       "      <td>97.2</td>\n",
       "      <td>2015-10-31</td>\n",
       "      <td>2</td>\n",
       "      <td>2.65</td>\n",
       "      <td>3</td>\n",
       "      <td>46.500000</td>\n",
       "      <td>1</td>\n",
       "      <td>NaN</td>\n",
       "      <td>...</td>\n",
       "      <td>411.0</td>\n",
       "      <td>3.0</td>\n",
       "      <td>124.0</td>\n",
       "      <td>265</td>\n",
       "      <td>66872.43</td>\n",
       "      <td>5</td>\n",
       "      <td>10</td>\n",
       "      <td>2015</td>\n",
       "      <td>первый</td>\n",
       "      <td>2</td>\n",
       "    </tr>\n",
       "    <tr>\n",
       "      <th>25</th>\n",
       "      <td>3</td>\n",
       "      <td>6800000.0</td>\n",
       "      <td>76.0</td>\n",
       "      <td>2015-10-01</td>\n",
       "      <td>2</td>\n",
       "      <td>2.75</td>\n",
       "      <td>23</td>\n",
       "      <td>39.000000</td>\n",
       "      <td>18</td>\n",
       "      <td>False</td>\n",
       "      <td>...</td>\n",
       "      <td>NaN</td>\n",
       "      <td>1.0</td>\n",
       "      <td>564.0</td>\n",
       "      <td>300</td>\n",
       "      <td>89473.68</td>\n",
       "      <td>3</td>\n",
       "      <td>10</td>\n",
       "      <td>2015</td>\n",
       "      <td>другой</td>\n",
       "      <td>15</td>\n",
       "    </tr>\n",
       "    <tr>\n",
       "      <th>26</th>\n",
       "      <td>6</td>\n",
       "      <td>4050000.0</td>\n",
       "      <td>60.0</td>\n",
       "      <td>2017-04-28</td>\n",
       "      <td>4</td>\n",
       "      <td>2.65</td>\n",
       "      <td>5</td>\n",
       "      <td>43.000000</td>\n",
       "      <td>4</td>\n",
       "      <td>NaN</td>\n",
       "      <td>...</td>\n",
       "      <td>NaN</td>\n",
       "      <td>1.0</td>\n",
       "      <td>95.0</td>\n",
       "      <td>265</td>\n",
       "      <td>67500.00</td>\n",
       "      <td>4</td>\n",
       "      <td>4</td>\n",
       "      <td>2017</td>\n",
       "      <td>другой</td>\n",
       "      <td>11</td>\n",
       "    </tr>\n",
       "    <tr>\n",
       "      <th>27</th>\n",
       "      <td>20</td>\n",
       "      <td>7100000.0</td>\n",
       "      <td>70.0</td>\n",
       "      <td>2017-05-12</td>\n",
       "      <td>3</td>\n",
       "      <td>2.60</td>\n",
       "      <td>17</td>\n",
       "      <td>49.000000</td>\n",
       "      <td>11</td>\n",
       "      <td>NaN</td>\n",
       "      <td>...</td>\n",
       "      <td>452.0</td>\n",
       "      <td>1.0</td>\n",
       "      <td>779.0</td>\n",
       "      <td>151</td>\n",
       "      <td>101428.57</td>\n",
       "      <td>4</td>\n",
       "      <td>5</td>\n",
       "      <td>2017</td>\n",
       "      <td>другой</td>\n",
       "      <td>11</td>\n",
       "    </tr>\n",
       "    <tr>\n",
       "      <th>29</th>\n",
       "      <td>9</td>\n",
       "      <td>8600000.0</td>\n",
       "      <td>100.0</td>\n",
       "      <td>2016-04-09</td>\n",
       "      <td>3</td>\n",
       "      <td>2.65</td>\n",
       "      <td>19</td>\n",
       "      <td>52.000000</td>\n",
       "      <td>15</td>\n",
       "      <td>False</td>\n",
       "      <td>...</td>\n",
       "      <td>532.0</td>\n",
       "      <td>1.0</td>\n",
       "      <td>896.0</td>\n",
       "      <td>125</td>\n",
       "      <td>86000.00</td>\n",
       "      <td>5</td>\n",
       "      <td>4</td>\n",
       "      <td>2016</td>\n",
       "      <td>другой</td>\n",
       "      <td>12</td>\n",
       "    </tr>\n",
       "    <tr>\n",
       "      <th>31</th>\n",
       "      <td>8</td>\n",
       "      <td>7200000.0</td>\n",
       "      <td>67.9</td>\n",
       "      <td>2017-10-26</td>\n",
       "      <td>2</td>\n",
       "      <td>2.80</td>\n",
       "      <td>16</td>\n",
       "      <td>38.100000</td>\n",
       "      <td>4</td>\n",
       "      <td>NaN</td>\n",
       "      <td>...</td>\n",
       "      <td>NaN</td>\n",
       "      <td>0.0</td>\n",
       "      <td>NaN</td>\n",
       "      <td>112</td>\n",
       "      <td>106038.29</td>\n",
       "      <td>3</td>\n",
       "      <td>10</td>\n",
       "      <td>2017</td>\n",
       "      <td>другой</td>\n",
       "      <td>13</td>\n",
       "    </tr>\n",
       "    <tr>\n",
       "      <th>32</th>\n",
       "      <td>7</td>\n",
       "      <td>4990000.0</td>\n",
       "      <td>60.0</td>\n",
       "      <td>2016-05-22</td>\n",
       "      <td>3</td>\n",
       "      <td>2.65</td>\n",
       "      <td>5</td>\n",
       "      <td>39.000000</td>\n",
       "      <td>4</td>\n",
       "      <td>NaN</td>\n",
       "      <td>...</td>\n",
       "      <td>NaN</td>\n",
       "      <td>1.0</td>\n",
       "      <td>426.0</td>\n",
       "      <td>224</td>\n",
       "      <td>83166.67</td>\n",
       "      <td>6</td>\n",
       "      <td>5</td>\n",
       "      <td>2016</td>\n",
       "      <td>другой</td>\n",
       "      <td>13</td>\n",
       "    </tr>\n",
       "    <tr>\n",
       "      <th>34</th>\n",
       "      <td>3</td>\n",
       "      <td>3290000.0</td>\n",
       "      <td>33.0</td>\n",
       "      <td>2018-02-04</td>\n",
       "      <td>1</td>\n",
       "      <td>2.55</td>\n",
       "      <td>16</td>\n",
       "      <td>14.000000</td>\n",
       "      <td>3</td>\n",
       "      <td>NaN</td>\n",
       "      <td>...</td>\n",
       "      <td>NaN</td>\n",
       "      <td>0.0</td>\n",
       "      <td>NaN</td>\n",
       "      <td>15</td>\n",
       "      <td>99696.97</td>\n",
       "      <td>6</td>\n",
       "      <td>2</td>\n",
       "      <td>2018</td>\n",
       "      <td>другой</td>\n",
       "      <td>13</td>\n",
       "    </tr>\n",
       "    <tr>\n",
       "      <th>35</th>\n",
       "      <td>6</td>\n",
       "      <td>15500000.0</td>\n",
       "      <td>149.0</td>\n",
       "      <td>2017-06-26</td>\n",
       "      <td>5</td>\n",
       "      <td>2.65</td>\n",
       "      <td>5</td>\n",
       "      <td>104.000000</td>\n",
       "      <td>4</td>\n",
       "      <td>NaN</td>\n",
       "      <td>...</td>\n",
       "      <td>NaN</td>\n",
       "      <td>1.0</td>\n",
       "      <td>779.0</td>\n",
       "      <td>644</td>\n",
       "      <td>104026.85</td>\n",
       "      <td>0</td>\n",
       "      <td>6</td>\n",
       "      <td>2017</td>\n",
       "      <td>другой</td>\n",
       "      <td>4</td>\n",
       "    </tr>\n",
       "    <tr>\n",
       "      <th>36</th>\n",
       "      <td>13</td>\n",
       "      <td>3790000.0</td>\n",
       "      <td>45.0</td>\n",
       "      <td>2017-01-25</td>\n",
       "      <td>2</td>\n",
       "      <td>2.65</td>\n",
       "      <td>9</td>\n",
       "      <td>27.000000</td>\n",
       "      <td>9</td>\n",
       "      <td>False</td>\n",
       "      <td>...</td>\n",
       "      <td>459.0</td>\n",
       "      <td>0.0</td>\n",
       "      <td>NaN</td>\n",
       "      <td>139</td>\n",
       "      <td>84222.22</td>\n",
       "      <td>2</td>\n",
       "      <td>1</td>\n",
       "      <td>2017</td>\n",
       "      <td>последний</td>\n",
       "      <td>16</td>\n",
       "    </tr>\n",
       "    <tr>\n",
       "      <th>39</th>\n",
       "      <td>15</td>\n",
       "      <td>5200000.0</td>\n",
       "      <td>54.4</td>\n",
       "      <td>2018-11-29</td>\n",
       "      <td>2</td>\n",
       "      <td>2.75</td>\n",
       "      <td>9</td>\n",
       "      <td>29.700000</td>\n",
       "      <td>2</td>\n",
       "      <td>NaN</td>\n",
       "      <td>...</td>\n",
       "      <td>NaN</td>\n",
       "      <td>1.0</td>\n",
       "      <td>1175.0</td>\n",
       "      <td>29</td>\n",
       "      <td>95588.24</td>\n",
       "      <td>3</td>\n",
       "      <td>11</td>\n",
       "      <td>2018</td>\n",
       "      <td>другой</td>\n",
       "      <td>12</td>\n",
       "    </tr>\n",
       "    <tr>\n",
       "      <th>41</th>\n",
       "      <td>16</td>\n",
       "      <td>7900000.0</td>\n",
       "      <td>74.0</td>\n",
       "      <td>2016-05-04</td>\n",
       "      <td>3</td>\n",
       "      <td>2.65</td>\n",
       "      <td>14</td>\n",
       "      <td>59.000000</td>\n",
       "      <td>8</td>\n",
       "      <td>False</td>\n",
       "      <td>...</td>\n",
       "      <td>725.0</td>\n",
       "      <td>1.0</td>\n",
       "      <td>759.0</td>\n",
       "      <td>179</td>\n",
       "      <td>106756.76</td>\n",
       "      <td>2</td>\n",
       "      <td>5</td>\n",
       "      <td>2016</td>\n",
       "      <td>другой</td>\n",
       "      <td>13</td>\n",
       "    </tr>\n",
       "    <tr>\n",
       "      <th>43</th>\n",
       "      <td>13</td>\n",
       "      <td>9330000.0</td>\n",
       "      <td>48.0</td>\n",
       "      <td>2017-01-10</td>\n",
       "      <td>2</td>\n",
       "      <td>3.00</td>\n",
       "      <td>4</td>\n",
       "      <td>28.000000</td>\n",
       "      <td>4</td>\n",
       "      <td>NaN</td>\n",
       "      <td>...</td>\n",
       "      <td>NaN</td>\n",
       "      <td>1.0</td>\n",
       "      <td>492.0</td>\n",
       "      <td>763</td>\n",
       "      <td>194375.00</td>\n",
       "      <td>1</td>\n",
       "      <td>1</td>\n",
       "      <td>2017</td>\n",
       "      <td>последний</td>\n",
       "      <td>11</td>\n",
       "    </tr>\n",
       "    <tr>\n",
       "      <th>44</th>\n",
       "      <td>13</td>\n",
       "      <td>5350000.0</td>\n",
       "      <td>40.0</td>\n",
       "      <td>2018-11-18</td>\n",
       "      <td>1</td>\n",
       "      <td>2.65</td>\n",
       "      <td>22</td>\n",
       "      <td>18.896872</td>\n",
       "      <td>3</td>\n",
       "      <td>NaN</td>\n",
       "      <td>...</td>\n",
       "      <td>620.0</td>\n",
       "      <td>1.0</td>\n",
       "      <td>1152.0</td>\n",
       "      <td>0</td>\n",
       "      <td>133750.00</td>\n",
       "      <td>6</td>\n",
       "      <td>11</td>\n",
       "      <td>2018</td>\n",
       "      <td>другой</td>\n",
       "      <td>12</td>\n",
       "    </tr>\n",
       "    <tr>\n",
       "      <th>45</th>\n",
       "      <td>17</td>\n",
       "      <td>5200000.0</td>\n",
       "      <td>50.6</td>\n",
       "      <td>2018-12-02</td>\n",
       "      <td>2</td>\n",
       "      <td>2.65</td>\n",
       "      <td>9</td>\n",
       "      <td>30.300000</td>\n",
       "      <td>7</td>\n",
       "      <td>NaN</td>\n",
       "      <td>...</td>\n",
       "      <td>NaN</td>\n",
       "      <td>0.0</td>\n",
       "      <td>NaN</td>\n",
       "      <td>0</td>\n",
       "      <td>102766.80</td>\n",
       "      <td>6</td>\n",
       "      <td>12</td>\n",
       "      <td>2018</td>\n",
       "      <td>другой</td>\n",
       "      <td>13</td>\n",
       "    </tr>\n",
       "    <tr>\n",
       "      <th>46</th>\n",
       "      <td>17</td>\n",
       "      <td>6600000.0</td>\n",
       "      <td>52.1</td>\n",
       "      <td>2019-01-31</td>\n",
       "      <td>2</td>\n",
       "      <td>2.60</td>\n",
       "      <td>24</td>\n",
       "      <td>29.700000</td>\n",
       "      <td>9</td>\n",
       "      <td>NaN</td>\n",
       "      <td>...</td>\n",
       "      <td>NaN</td>\n",
       "      <td>0.0</td>\n",
       "      <td>NaN</td>\n",
       "      <td>0</td>\n",
       "      <td>126679.46</td>\n",
       "      <td>3</td>\n",
       "      <td>1</td>\n",
       "      <td>2019</td>\n",
       "      <td>другой</td>\n",
       "      <td>13</td>\n",
       "    </tr>\n",
       "  </tbody>\n",
       "</table>\n",
       "<p>30 rows × 28 columns</p>\n",
       "</div>"
      ],
      "text/plain": [
       "    total_images  last_price  total_area first_day_exposition  rooms  \\\n",
       "0             20  13000000.0       108.0           2019-03-07      3   \n",
       "2             10   5196000.0        56.0           2015-08-20      2   \n",
       "3              0  64900000.0       159.0           2015-07-24      3   \n",
       "4              2  10000000.0       100.0           2018-06-19      2   \n",
       "7              5   7915000.0        71.6           2019-04-18      2   \n",
       "9             18   5400000.0        61.0           2017-02-26      3   \n",
       "10             5   5050000.0        39.6           2017-11-16      1   \n",
       "15            16   4650000.0        39.0           2017-11-18      1   \n",
       "16            11   6700000.0        82.0           2017-11-23      3   \n",
       "17             6   4180000.0        36.0           2016-09-09      1   \n",
       "18             8   3250000.0        31.0           2017-01-27      1   \n",
       "19            16  14200000.0       121.0           2019-01-09      3   \n",
       "21            13   3200000.0        31.6           2018-03-14      1   \n",
       "23            11   2950000.0        32.0           2016-10-29      1   \n",
       "24             8   6500000.0        97.2           2015-10-31      2   \n",
       "25             3   6800000.0        76.0           2015-10-01      2   \n",
       "26             6   4050000.0        60.0           2017-04-28      4   \n",
       "27            20   7100000.0        70.0           2017-05-12      3   \n",
       "29             9   8600000.0       100.0           2016-04-09      3   \n",
       "31             8   7200000.0        67.9           2017-10-26      2   \n",
       "32             7   4990000.0        60.0           2016-05-22      3   \n",
       "34             3   3290000.0        33.0           2018-02-04      1   \n",
       "35             6  15500000.0       149.0           2017-06-26      5   \n",
       "36            13   3790000.0        45.0           2017-01-25      2   \n",
       "39            15   5200000.0        54.4           2018-11-29      2   \n",
       "41            16   7900000.0        74.0           2016-05-04      3   \n",
       "43            13   9330000.0        48.0           2017-01-10      2   \n",
       "44            13   5350000.0        40.0           2018-11-18      1   \n",
       "45            17   5200000.0        50.6           2018-12-02      2   \n",
       "46            17   6600000.0        52.1           2019-01-31      2   \n",
       "\n",
       "    ceiling_height  floors_total  living_area  floor is_apartment  ...  \\\n",
       "0             2.70            16    51.000000      8          NaN  ...   \n",
       "2             2.65             5    34.300000      4          NaN  ...   \n",
       "3             2.65            14    95.698076      9          NaN  ...   \n",
       "4             3.03            14    32.000000     13          NaN  ...   \n",
       "7             2.65            24    40.221036     22          NaN  ...   \n",
       "9             2.50             9    43.600000      7          NaN  ...   \n",
       "10            2.67            12    20.300000      3          NaN  ...   \n",
       "15            2.65            14    20.500000      5          NaN  ...   \n",
       "16            3.05             5    55.600000      1          NaN  ...   \n",
       "17            2.65            17    16.500000      7          NaN  ...   \n",
       "18            2.50             5    19.400000      2          NaN  ...   \n",
       "19            2.75            16    76.000000      8          NaN  ...   \n",
       "21            2.65             5    16.900000      2          NaN  ...   \n",
       "23            2.60             9    17.700000      9          NaN  ...   \n",
       "24            2.65             3    46.500000      1          NaN  ...   \n",
       "25            2.75            23    39.000000     18        False  ...   \n",
       "26            2.65             5    43.000000      4          NaN  ...   \n",
       "27            2.60            17    49.000000     11          NaN  ...   \n",
       "29            2.65            19    52.000000     15        False  ...   \n",
       "31            2.80            16    38.100000      4          NaN  ...   \n",
       "32            2.65             5    39.000000      4          NaN  ...   \n",
       "34            2.55            16    14.000000      3          NaN  ...   \n",
       "35            2.65             5   104.000000      4          NaN  ...   \n",
       "36            2.65             9    27.000000      9        False  ...   \n",
       "39            2.75             9    29.700000      2          NaN  ...   \n",
       "41            2.65            14    59.000000      8        False  ...   \n",
       "43            3.00             4    28.000000      4          NaN  ...   \n",
       "44            2.65            22    18.896872      3          NaN  ...   \n",
       "45            2.65             9    30.300000      7          NaN  ...   \n",
       "46            2.60            24    29.700000      9          NaN  ...   \n",
       "\n",
       "    parks_nearest  ponds_around3000  ponds_nearest  days_exposition  \\\n",
       "0           482.0               2.0          755.0                0   \n",
       "2            90.0               2.0          574.0              558   \n",
       "3            84.0               3.0          234.0              424   \n",
       "4           112.0               1.0           48.0              121   \n",
       "7             NaN               0.0            NaN                0   \n",
       "9             NaN               0.0            NaN              289   \n",
       "10          310.0               2.0          553.0              137   \n",
       "15          590.0               1.0          296.0               19   \n",
       "16          420.0               0.0            NaN              397   \n",
       "17            NaN               1.0          859.0              571   \n",
       "18          759.0               0.0            NaN              168   \n",
       "19            NaN               0.0            NaN               97   \n",
       "21          248.0               0.0            NaN              310   \n",
       "23          517.0               1.0          190.0              615   \n",
       "24          411.0               3.0          124.0              265   \n",
       "25            NaN               1.0          564.0              300   \n",
       "26            NaN               1.0           95.0              265   \n",
       "27          452.0               1.0          779.0              151   \n",
       "29          532.0               1.0          896.0              125   \n",
       "31            NaN               0.0            NaN              112   \n",
       "32            NaN               1.0          426.0              224   \n",
       "34            NaN               0.0            NaN               15   \n",
       "35            NaN               1.0          779.0              644   \n",
       "36          459.0               0.0            NaN              139   \n",
       "39            NaN               1.0         1175.0               29   \n",
       "41          725.0               1.0          759.0              179   \n",
       "43            NaN               1.0          492.0              763   \n",
       "44          620.0               1.0         1152.0                0   \n",
       "45            NaN               0.0            NaN                0   \n",
       "46            NaN               0.0            NaN                0   \n",
       "\n",
       "   price_per_square_meter  weekday  month  year  floor_type  \\\n",
       "0               120370.37        3      3  2019      другой   \n",
       "2                92785.71        3      8  2015      другой   \n",
       "3               408176.10        4      7  2015      другой   \n",
       "4               100000.00        1      6  2018      другой   \n",
       "7               110544.69        3      4  2019      другой   \n",
       "9                88524.59        6      2  2017      другой   \n",
       "10              127525.25        3     11  2017      другой   \n",
       "15              119230.77        5     11  2017      другой   \n",
       "16               81707.32        3     11  2017      первый   \n",
       "17              116111.11        4      9  2016      другой   \n",
       "18              104838.71        4      1  2017      другой   \n",
       "19              117355.37        2      1  2019      другой   \n",
       "21              101265.82        2      3  2018      другой   \n",
       "23               92187.50        5     10  2016   последний   \n",
       "24               66872.43        5     10  2015      первый   \n",
       "25               89473.68        3     10  2015      другой   \n",
       "26               67500.00        4      4  2017      другой   \n",
       "27              101428.57        4      5  2017      другой   \n",
       "29               86000.00        5      4  2016      другой   \n",
       "31              106038.29        3     10  2017      другой   \n",
       "32               83166.67        6      5  2016      другой   \n",
       "34               99696.97        6      2  2018      другой   \n",
       "35              104026.85        0      6  2017      другой   \n",
       "36               84222.22        2      1  2017   последний   \n",
       "39               95588.24        3     11  2018      другой   \n",
       "41              106756.76        2      5  2016      другой   \n",
       "43              194375.00        1      1  2017   последний   \n",
       "44              133750.00        6     11  2018      другой   \n",
       "45              102766.80        6     12  2018      другой   \n",
       "46              126679.46        3      1  2019      другой   \n",
       "\n",
       "    distance_city_center_km  \n",
       "0                        16  \n",
       "2                        14  \n",
       "3                         7  \n",
       "4                         8  \n",
       "7                        12  \n",
       "9                        15  \n",
       "10                       14  \n",
       "15                       14  \n",
       "16                       11  \n",
       "17                       15  \n",
       "18                       11  \n",
       "19                       13  \n",
       "21                       10  \n",
       "23                       14  \n",
       "24                        2  \n",
       "25                       15  \n",
       "26                       11  \n",
       "27                       11  \n",
       "29                       12  \n",
       "31                       13  \n",
       "32                       13  \n",
       "34                       13  \n",
       "35                        4  \n",
       "36                       16  \n",
       "39                       12  \n",
       "41                       13  \n",
       "43                       11  \n",
       "44                       12  \n",
       "45                       13  \n",
       "46                       13  \n",
       "\n",
       "[30 rows x 28 columns]"
      ]
     },
     "execution_count": 57,
     "metadata": {},
     "output_type": "execute_result"
    }
   ],
   "source": [
    "spb = data.query('locality_name == \"Санкт-Петербург\"')\n",
    "spb['cityCenters_nearest'].isna().sum()\n",
    "spb = spb.dropna(subset=['cityCenters_nearest'])\n",
    "spb['distance_city_center_km'] = data.distance_city_center_km\n",
    "spb.head(30)"
   ]
  },
  {
   "cell_type": "code",
   "execution_count": 58,
   "metadata": {},
   "outputs": [
    {
     "name": "stdout",
     "output_type": "stream",
     "text": [
      "Средняя цена для каждого километра составляет 687018 руб.\n"
     ]
    }
   ],
   "source": [
    "mean_cost_per_km = spb['last_price'].sum()/spb['distance_city_center_km'].sum()\n",
    "print(f'Средняя цена для каждого километра составляет {mean_cost_per_km:.0f} руб.')"
   ]
  },
  {
   "cell_type": "code",
   "execution_count": 59,
   "metadata": {},
   "outputs": [
    {
     "data": {
      "text/plain": [
       "Text(0, 0.5, 'Средняя стоимость предложения')"
      ]
     },
     "execution_count": 59,
     "metadata": {},
     "output_type": "execute_result"
    },
    {
     "data": {
      "image/png": "[encoded data removed]",
      "text/plain": [
       "<Figure size 720x432 with 1 Axes>"
      ]
     },
     "metadata": {
      "needs_background": "light"
     },
     "output_type": "display_data"
    },
    {
     "data": {
      "image/png": "[encoded data removed]",
      "text/plain": [
       "<Figure size 720x432 with 1 Axes>"
      ]
     },
     "metadata": {
      "needs_background": "light"
     },
     "output_type": "display_data"
    }
   ],
   "source": [
    "spb.pivot_table(index='distance_city_center_km', values='last_price', aggfunc='mean').plot(figsize=(10,6), grid=True, linewidth=3, title='График зависимости цены от удалённости от центра')\n",
    "plt.xlabel('Километры от центра города')\n",
    "plt.ylabel('Средняя стоимость предложения')\n",
    "\n",
    "spb.pivot_table(index='distance_city_center_km', values='last_price', aggfunc='mean').plot(kind='bar', figsize=(10,6))\n",
    "plt.xlabel('Километры от центра города')\n",
    "plt.ylabel('Средняя стоимость предложения')"
   ]
  }
 ],
 "metadata": {
  "ExecuteTimeLog": [
   {
    "duration": 616,
    "start_time": "2024-04-29T20:44:25.407Z"
   },
   {
    "duration": 122,
    "start_time": "2024-04-29T20:44:26.026Z"
   },
   {
    "duration": 11,
    "start_time": "2024-04-29T20:44:26.149Z"
   },
   {
    "duration": 82,
    "start_time": "2024-04-29T20:44:26.161Z"
   },
   {
    "duration": 0,
    "start_time": "2024-04-29T20:44:26.245Z"
   },
   {
    "duration": 1,
    "start_time": "2024-04-29T20:44:26.246Z"
   },
   {
    "duration": 0,
    "start_time": "2024-04-29T20:44:26.248Z"
   },
   {
    "duration": 0,
    "start_time": "2024-04-29T20:44:26.249Z"
   },
   {
    "duration": 0,
    "start_time": "2024-04-29T20:44:26.250Z"
   },
   {
    "duration": 0,
    "start_time": "2024-04-29T20:44:26.251Z"
   },
   {
    "duration": 1,
    "start_time": "2024-04-29T20:44:26.251Z"
   },
   {
    "duration": 1,
    "start_time": "2024-04-29T20:44:26.252Z"
   },
   {
    "duration": 0,
    "start_time": "2024-04-29T20:44:26.254Z"
   },
   {
    "duration": 0,
    "start_time": "2024-04-29T20:44:26.254Z"
   },
   {
    "duration": 0,
    "start_time": "2024-04-29T20:44:26.255Z"
   },
   {
    "duration": 0,
    "start_time": "2024-04-29T20:44:26.256Z"
   },
   {
    "duration": 0,
    "start_time": "2024-04-29T20:44:26.257Z"
   },
   {
    "duration": 0,
    "start_time": "2024-04-29T20:44:26.258Z"
   },
   {
    "duration": 0,
    "start_time": "2024-04-29T20:44:26.259Z"
   },
   {
    "duration": 0,
    "start_time": "2024-04-29T20:44:26.260Z"
   },
   {
    "duration": 0,
    "start_time": "2024-04-29T20:44:26.261Z"
   },
   {
    "duration": 0,
    "start_time": "2024-04-29T20:44:26.262Z"
   },
   {
    "duration": 0,
    "start_time": "2024-04-29T20:44:26.263Z"
   },
   {
    "duration": 0,
    "start_time": "2024-04-29T20:44:26.264Z"
   },
   {
    "duration": 0,
    "start_time": "2024-04-29T20:44:26.294Z"
   },
   {
    "duration": 0,
    "start_time": "2024-04-29T20:44:26.295Z"
   },
   {
    "duration": 0,
    "start_time": "2024-04-29T20:44:26.296Z"
   },
   {
    "duration": 0,
    "start_time": "2024-04-29T20:44:26.297Z"
   },
   {
    "duration": 0,
    "start_time": "2024-04-29T20:44:26.298Z"
   },
   {
    "duration": 0,
    "start_time": "2024-04-29T20:44:26.299Z"
   },
   {
    "duration": 0,
    "start_time": "2024-04-29T20:44:26.300Z"
   },
   {
    "duration": 0,
    "start_time": "2024-04-29T20:44:26.302Z"
   },
   {
    "duration": 0,
    "start_time": "2024-04-29T20:44:26.302Z"
   },
   {
    "duration": 0,
    "start_time": "2024-04-29T20:44:26.303Z"
   },
   {
    "duration": 0,
    "start_time": "2024-04-29T20:44:26.304Z"
   },
   {
    "duration": 0,
    "start_time": "2024-04-29T20:44:26.305Z"
   },
   {
    "duration": 0,
    "start_time": "2024-04-29T20:44:26.306Z"
   },
   {
    "duration": 0,
    "start_time": "2024-04-29T20:44:26.307Z"
   },
   {
    "duration": 0,
    "start_time": "2024-04-29T20:44:26.308Z"
   },
   {
    "duration": 0,
    "start_time": "2024-04-29T20:44:26.309Z"
   },
   {
    "duration": 0,
    "start_time": "2024-04-29T20:44:26.309Z"
   },
   {
    "duration": 0,
    "start_time": "2024-04-29T20:44:26.310Z"
   },
   {
    "duration": 0,
    "start_time": "2024-04-29T20:44:26.311Z"
   },
   {
    "duration": 0,
    "start_time": "2024-04-29T20:44:26.312Z"
   },
   {
    "duration": 0,
    "start_time": "2024-04-29T20:44:26.313Z"
   },
   {
    "duration": 0,
    "start_time": "2024-04-29T20:44:26.314Z"
   },
   {
    "duration": 0,
    "start_time": "2024-04-29T20:44:26.315Z"
   },
   {
    "duration": 0,
    "start_time": "2024-04-29T20:44:26.315Z"
   },
   {
    "duration": 0,
    "start_time": "2024-04-29T20:44:26.316Z"
   },
   {
    "duration": 0,
    "start_time": "2024-04-29T20:44:26.317Z"
   },
   {
    "duration": 0,
    "start_time": "2024-04-29T20:44:26.318Z"
   },
   {
    "duration": 0,
    "start_time": "2024-04-29T20:44:26.319Z"
   },
   {
    "duration": 0,
    "start_time": "2024-04-29T20:44:26.320Z"
   },
   {
    "duration": 0,
    "start_time": "2024-04-29T20:44:26.321Z"
   },
   {
    "duration": 0,
    "start_time": "2024-04-29T20:44:26.322Z"
   },
   {
    "duration": 1188,
    "start_time": "2024-04-30T13:56:27.226Z"
   },
   {
    "duration": 166,
    "start_time": "2024-04-30T13:56:28.474Z"
   },
   {
    "duration": 16,
    "start_time": "2024-04-30T13:56:28.641Z"
   },
   {
    "duration": 2028,
    "start_time": "2024-04-30T13:56:28.658Z"
   },
   {
    "duration": 9,
    "start_time": "2024-04-30T13:56:30.689Z"
   },
   {
    "duration": 90,
    "start_time": "2024-04-30T13:56:30.700Z"
   },
   {
    "duration": 82,
    "start_time": "2024-04-30T13:56:30.792Z"
   },
   {
    "duration": 651,
    "start_time": "2024-04-30T13:56:30.876Z"
   },
   {
    "duration": 0,
    "start_time": "2024-04-30T13:56:31.530Z"
   },
   {
    "duration": 0,
    "start_time": "2024-04-30T13:56:31.531Z"
   },
   {
    "duration": 0,
    "start_time": "2024-04-30T13:56:31.532Z"
   },
   {
    "duration": 0,
    "start_time": "2024-04-30T13:56:31.533Z"
   },
   {
    "duration": 0,
    "start_time": "2024-04-30T13:56:31.535Z"
   },
   {
    "duration": 0,
    "start_time": "2024-04-30T13:56:31.536Z"
   },
   {
    "duration": 0,
    "start_time": "2024-04-30T13:56:31.537Z"
   },
   {
    "duration": 0,
    "start_time": "2024-04-30T13:56:31.538Z"
   },
   {
    "duration": 0,
    "start_time": "2024-04-30T13:56:31.539Z"
   },
   {
    "duration": 0,
    "start_time": "2024-04-30T13:56:31.540Z"
   },
   {
    "duration": 0,
    "start_time": "2024-04-30T13:56:31.541Z"
   },
   {
    "duration": 0,
    "start_time": "2024-04-30T13:56:31.542Z"
   },
   {
    "duration": 0,
    "start_time": "2024-04-30T13:56:31.543Z"
   },
   {
    "duration": 0,
    "start_time": "2024-04-30T13:56:31.545Z"
   },
   {
    "duration": 0,
    "start_time": "2024-04-30T13:56:31.546Z"
   },
   {
    "duration": 0,
    "start_time": "2024-04-30T13:56:31.547Z"
   },
   {
    "duration": 0,
    "start_time": "2024-04-30T13:56:31.549Z"
   },
   {
    "duration": 0,
    "start_time": "2024-04-30T13:56:31.550Z"
   },
   {
    "duration": 0,
    "start_time": "2024-04-30T13:56:31.552Z"
   },
   {
    "duration": 0,
    "start_time": "2024-04-30T13:56:31.553Z"
   },
   {
    "duration": 0,
    "start_time": "2024-04-30T13:56:31.554Z"
   },
   {
    "duration": 0,
    "start_time": "2024-04-30T13:56:31.555Z"
   },
   {
    "duration": 0,
    "start_time": "2024-04-30T13:56:31.556Z"
   },
   {
    "duration": 0,
    "start_time": "2024-04-30T13:56:31.557Z"
   },
   {
    "duration": 0,
    "start_time": "2024-04-30T13:56:31.558Z"
   },
   {
    "duration": 0,
    "start_time": "2024-04-30T13:56:31.559Z"
   },
   {
    "duration": 0,
    "start_time": "2024-04-30T13:56:31.560Z"
   },
   {
    "duration": 0,
    "start_time": "2024-04-30T13:56:31.562Z"
   },
   {
    "duration": 0,
    "start_time": "2024-04-30T13:56:31.562Z"
   },
   {
    "duration": 0,
    "start_time": "2024-04-30T13:56:31.564Z"
   },
   {
    "duration": 0,
    "start_time": "2024-04-30T13:56:31.565Z"
   },
   {
    "duration": 0,
    "start_time": "2024-04-30T13:56:31.566Z"
   },
   {
    "duration": 0,
    "start_time": "2024-04-30T13:56:31.567Z"
   },
   {
    "duration": 0,
    "start_time": "2024-04-30T13:56:31.573Z"
   },
   {
    "duration": 0,
    "start_time": "2024-04-30T13:56:31.574Z"
   },
   {
    "duration": 0,
    "start_time": "2024-04-30T13:56:31.575Z"
   },
   {
    "duration": 0,
    "start_time": "2024-04-30T13:56:31.575Z"
   },
   {
    "duration": 0,
    "start_time": "2024-04-30T13:56:31.577Z"
   },
   {
    "duration": 0,
    "start_time": "2024-04-30T13:56:31.578Z"
   },
   {
    "duration": 0,
    "start_time": "2024-04-30T13:56:31.579Z"
   },
   {
    "duration": 0,
    "start_time": "2024-04-30T13:56:31.580Z"
   },
   {
    "duration": 0,
    "start_time": "2024-04-30T13:56:31.581Z"
   },
   {
    "duration": 0,
    "start_time": "2024-04-30T13:56:31.582Z"
   },
   {
    "duration": 0,
    "start_time": "2024-04-30T13:56:31.583Z"
   },
   {
    "duration": 0,
    "start_time": "2024-04-30T13:56:31.584Z"
   },
   {
    "duration": 0,
    "start_time": "2024-04-30T13:56:31.585Z"
   },
   {
    "duration": 0,
    "start_time": "2024-04-30T13:56:31.586Z"
   },
   {
    "duration": 1173,
    "start_time": "2024-04-30T13:56:41.703Z"
   },
   {
    "duration": 297,
    "start_time": "2024-04-30T13:56:42.878Z"
   },
   {
    "duration": 24,
    "start_time": "2024-04-30T13:56:43.178Z"
   },
   {
    "duration": 4716,
    "start_time": "2024-04-30T13:56:43.204Z"
   },
   {
    "duration": 10,
    "start_time": "2024-04-30T13:56:47.922Z"
   },
   {
    "duration": 6,
    "start_time": "2024-04-30T13:56:47.933Z"
   },
   {
    "duration": 15,
    "start_time": "2024-04-30T13:56:47.940Z"
   },
   {
    "duration": 690,
    "start_time": "2024-04-30T13:56:47.957Z"
   },
   {
    "duration": 0,
    "start_time": "2024-04-30T13:56:48.650Z"
   },
   {
    "duration": 1,
    "start_time": "2024-04-30T13:56:48.651Z"
   },
   {
    "duration": 0,
    "start_time": "2024-04-30T13:56:48.653Z"
   },
   {
    "duration": 0,
    "start_time": "2024-04-30T13:56:48.654Z"
   },
   {
    "duration": 0,
    "start_time": "2024-04-30T13:56:48.655Z"
   },
   {
    "duration": 0,
    "start_time": "2024-04-30T13:56:48.656Z"
   },
   {
    "duration": 0,
    "start_time": "2024-04-30T13:56:48.658Z"
   },
   {
    "duration": 0,
    "start_time": "2024-04-30T13:56:48.659Z"
   },
   {
    "duration": 0,
    "start_time": "2024-04-30T13:56:48.660Z"
   },
   {
    "duration": 0,
    "start_time": "2024-04-30T13:56:48.661Z"
   },
   {
    "duration": 0,
    "start_time": "2024-04-30T13:56:48.662Z"
   },
   {
    "duration": 0,
    "start_time": "2024-04-30T13:56:48.663Z"
   },
   {
    "duration": 0,
    "start_time": "2024-04-30T13:56:48.664Z"
   },
   {
    "duration": 0,
    "start_time": "2024-04-30T13:56:48.665Z"
   },
   {
    "duration": 0,
    "start_time": "2024-04-30T13:56:48.666Z"
   },
   {
    "duration": 0,
    "start_time": "2024-04-30T13:56:48.667Z"
   },
   {
    "duration": 0,
    "start_time": "2024-04-30T13:56:48.668Z"
   },
   {
    "duration": 0,
    "start_time": "2024-04-30T13:56:48.669Z"
   },
   {
    "duration": 0,
    "start_time": "2024-04-30T13:56:48.670Z"
   },
   {
    "duration": 0,
    "start_time": "2024-04-30T13:56:48.671Z"
   },
   {
    "duration": 0,
    "start_time": "2024-04-30T13:56:48.672Z"
   },
   {
    "duration": 0,
    "start_time": "2024-04-30T13:56:48.673Z"
   },
   {
    "duration": 0,
    "start_time": "2024-04-30T13:56:48.674Z"
   },
   {
    "duration": 0,
    "start_time": "2024-04-30T13:56:48.675Z"
   },
   {
    "duration": 0,
    "start_time": "2024-04-30T13:56:48.676Z"
   },
   {
    "duration": 0,
    "start_time": "2024-04-30T13:56:48.677Z"
   },
   {
    "duration": 0,
    "start_time": "2024-04-30T13:56:48.678Z"
   },
   {
    "duration": 0,
    "start_time": "2024-04-30T13:56:48.680Z"
   },
   {
    "duration": 0,
    "start_time": "2024-04-30T13:56:48.680Z"
   },
   {
    "duration": 0,
    "start_time": "2024-04-30T13:56:48.681Z"
   },
   {
    "duration": 0,
    "start_time": "2024-04-30T13:56:48.682Z"
   },
   {
    "duration": 0,
    "start_time": "2024-04-30T13:56:48.683Z"
   },
   {
    "duration": 0,
    "start_time": "2024-04-30T13:56:48.685Z"
   },
   {
    "duration": 0,
    "start_time": "2024-04-30T13:56:48.686Z"
   },
   {
    "duration": 0,
    "start_time": "2024-04-30T13:56:48.687Z"
   },
   {
    "duration": 0,
    "start_time": "2024-04-30T13:56:48.688Z"
   },
   {
    "duration": 0,
    "start_time": "2024-04-30T13:56:48.689Z"
   },
   {
    "duration": 0,
    "start_time": "2024-04-30T13:56:48.690Z"
   },
   {
    "duration": 0,
    "start_time": "2024-04-30T13:56:48.691Z"
   },
   {
    "duration": 0,
    "start_time": "2024-04-30T13:56:48.692Z"
   },
   {
    "duration": 0,
    "start_time": "2024-04-30T13:56:48.693Z"
   },
   {
    "duration": 0,
    "start_time": "2024-04-30T13:56:48.694Z"
   },
   {
    "duration": 0,
    "start_time": "2024-04-30T13:56:48.695Z"
   },
   {
    "duration": 0,
    "start_time": "2024-04-30T13:56:48.696Z"
   },
   {
    "duration": 0,
    "start_time": "2024-04-30T13:56:48.696Z"
   },
   {
    "duration": 0,
    "start_time": "2024-04-30T13:56:48.698Z"
   },
   {
    "duration": 0,
    "start_time": "2024-04-30T13:56:48.699Z"
   },
   {
    "duration": 699,
    "start_time": "2024-04-30T13:59:39.261Z"
   },
   {
    "duration": 152,
    "start_time": "2024-04-30T13:59:39.961Z"
   },
   {
    "duration": 16,
    "start_time": "2024-04-30T13:59:40.115Z"
   },
   {
    "duration": 2107,
    "start_time": "2024-04-30T13:59:40.134Z"
   },
   {
    "duration": 10,
    "start_time": "2024-04-30T13:59:42.243Z"
   },
   {
    "duration": 4,
    "start_time": "2024-04-30T13:59:42.255Z"
   },
   {
    "duration": 7,
    "start_time": "2024-04-30T13:59:42.261Z"
   },
   {
    "duration": 596,
    "start_time": "2024-04-30T13:59:42.270Z"
   },
   {
    "duration": 0,
    "start_time": "2024-04-30T13:59:42.869Z"
   },
   {
    "duration": 0,
    "start_time": "2024-04-30T13:59:42.870Z"
   },
   {
    "duration": 0,
    "start_time": "2024-04-30T13:59:42.871Z"
   },
   {
    "duration": 0,
    "start_time": "2024-04-30T13:59:42.872Z"
   },
   {
    "duration": 0,
    "start_time": "2024-04-30T13:59:42.874Z"
   },
   {
    "duration": 0,
    "start_time": "2024-04-30T13:59:42.875Z"
   },
   {
    "duration": 0,
    "start_time": "2024-04-30T13:59:42.876Z"
   },
   {
    "duration": 0,
    "start_time": "2024-04-30T13:59:42.877Z"
   },
   {
    "duration": 0,
    "start_time": "2024-04-30T13:59:42.878Z"
   },
   {
    "duration": 0,
    "start_time": "2024-04-30T13:59:42.879Z"
   },
   {
    "duration": 0,
    "start_time": "2024-04-30T13:59:42.880Z"
   },
   {
    "duration": 0,
    "start_time": "2024-04-30T13:59:42.881Z"
   },
   {
    "duration": 0,
    "start_time": "2024-04-30T13:59:42.882Z"
   },
   {
    "duration": 0,
    "start_time": "2024-04-30T13:59:42.884Z"
   },
   {
    "duration": 0,
    "start_time": "2024-04-30T13:59:42.885Z"
   },
   {
    "duration": 0,
    "start_time": "2024-04-30T13:59:42.886Z"
   },
   {
    "duration": 0,
    "start_time": "2024-04-30T13:59:42.887Z"
   },
   {
    "duration": 0,
    "start_time": "2024-04-30T13:59:42.888Z"
   },
   {
    "duration": 0,
    "start_time": "2024-04-30T13:59:42.889Z"
   },
   {
    "duration": 0,
    "start_time": "2024-04-30T13:59:42.890Z"
   },
   {
    "duration": 0,
    "start_time": "2024-04-30T13:59:42.891Z"
   },
   {
    "duration": 0,
    "start_time": "2024-04-30T13:59:42.892Z"
   },
   {
    "duration": 0,
    "start_time": "2024-04-30T13:59:42.893Z"
   },
   {
    "duration": 1,
    "start_time": "2024-04-30T13:59:42.894Z"
   },
   {
    "duration": 0,
    "start_time": "2024-04-30T13:59:42.895Z"
   },
   {
    "duration": 0,
    "start_time": "2024-04-30T13:59:42.896Z"
   },
   {
    "duration": 1,
    "start_time": "2024-04-30T13:59:42.897Z"
   },
   {
    "duration": 0,
    "start_time": "2024-04-30T13:59:42.898Z"
   },
   {
    "duration": 0,
    "start_time": "2024-04-30T13:59:42.900Z"
   },
   {
    "duration": 0,
    "start_time": "2024-04-30T13:59:42.901Z"
   },
   {
    "duration": 0,
    "start_time": "2024-04-30T13:59:42.902Z"
   },
   {
    "duration": 0,
    "start_time": "2024-04-30T13:59:42.903Z"
   },
   {
    "duration": 0,
    "start_time": "2024-04-30T13:59:42.904Z"
   },
   {
    "duration": 0,
    "start_time": "2024-04-30T13:59:42.906Z"
   },
   {
    "duration": 0,
    "start_time": "2024-04-30T13:59:42.907Z"
   },
   {
    "duration": 0,
    "start_time": "2024-04-30T13:59:42.908Z"
   },
   {
    "duration": 0,
    "start_time": "2024-04-30T13:59:42.910Z"
   },
   {
    "duration": 0,
    "start_time": "2024-04-30T13:59:42.910Z"
   },
   {
    "duration": 0,
    "start_time": "2024-04-30T13:59:42.911Z"
   },
   {
    "duration": 0,
    "start_time": "2024-04-30T13:59:42.973Z"
   },
   {
    "duration": 0,
    "start_time": "2024-04-30T13:59:42.974Z"
   },
   {
    "duration": 0,
    "start_time": "2024-04-30T13:59:42.975Z"
   },
   {
    "duration": 0,
    "start_time": "2024-04-30T13:59:42.976Z"
   },
   {
    "duration": 0,
    "start_time": "2024-04-30T13:59:42.978Z"
   },
   {
    "duration": 0,
    "start_time": "2024-04-30T13:59:42.979Z"
   },
   {
    "duration": 0,
    "start_time": "2024-04-30T13:59:42.980Z"
   },
   {
    "duration": 0,
    "start_time": "2024-04-30T13:59:42.981Z"
   },
   {
    "duration": 714,
    "start_time": "2024-04-30T19:20:04.820Z"
   },
   {
    "duration": 273,
    "start_time": "2024-04-30T19:20:05.536Z"
   },
   {
    "duration": 14,
    "start_time": "2024-04-30T19:20:05.810Z"
   },
   {
    "duration": 1718,
    "start_time": "2024-04-30T19:20:05.826Z"
   },
   {
    "duration": 9,
    "start_time": "2024-04-30T19:20:07.547Z"
   },
   {
    "duration": 3,
    "start_time": "2024-04-30T19:20:07.558Z"
   },
   {
    "duration": 9,
    "start_time": "2024-04-30T19:20:07.562Z"
   },
   {
    "duration": 409,
    "start_time": "2024-04-30T19:20:07.572Z"
   },
   {
    "duration": 0,
    "start_time": "2024-04-30T19:20:07.984Z"
   },
   {
    "duration": 0,
    "start_time": "2024-04-30T19:20:07.985Z"
   },
   {
    "duration": 0,
    "start_time": "2024-04-30T19:20:07.986Z"
   },
   {
    "duration": 0,
    "start_time": "2024-04-30T19:20:07.988Z"
   },
   {
    "duration": 0,
    "start_time": "2024-04-30T19:20:07.989Z"
   },
   {
    "duration": 0,
    "start_time": "2024-04-30T19:20:07.990Z"
   },
   {
    "duration": 0,
    "start_time": "2024-04-30T19:20:07.991Z"
   },
   {
    "duration": 0,
    "start_time": "2024-04-30T19:20:07.992Z"
   },
   {
    "duration": 0,
    "start_time": "2024-04-30T19:20:07.993Z"
   },
   {
    "duration": 0,
    "start_time": "2024-04-30T19:20:07.994Z"
   },
   {
    "duration": 0,
    "start_time": "2024-04-30T19:20:07.995Z"
   },
   {
    "duration": 0,
    "start_time": "2024-04-30T19:20:07.995Z"
   },
   {
    "duration": 0,
    "start_time": "2024-04-30T19:20:07.996Z"
   },
   {
    "duration": 0,
    "start_time": "2024-04-30T19:20:07.997Z"
   },
   {
    "duration": 0,
    "start_time": "2024-04-30T19:20:07.998Z"
   },
   {
    "duration": 0,
    "start_time": "2024-04-30T19:20:07.999Z"
   },
   {
    "duration": 0,
    "start_time": "2024-04-30T19:20:08.000Z"
   },
   {
    "duration": 0,
    "start_time": "2024-04-30T19:20:08.001Z"
   },
   {
    "duration": 0,
    "start_time": "2024-04-30T19:20:08.002Z"
   },
   {
    "duration": 0,
    "start_time": "2024-04-30T19:20:08.003Z"
   },
   {
    "duration": 0,
    "start_time": "2024-04-30T19:20:08.005Z"
   },
   {
    "duration": 0,
    "start_time": "2024-04-30T19:20:08.006Z"
   },
   {
    "duration": 0,
    "start_time": "2024-04-30T19:20:08.007Z"
   },
   {
    "duration": 0,
    "start_time": "2024-04-30T19:20:08.009Z"
   },
   {
    "duration": 0,
    "start_time": "2024-04-30T19:20:08.010Z"
   },
   {
    "duration": 0,
    "start_time": "2024-04-30T19:20:08.011Z"
   },
   {
    "duration": 0,
    "start_time": "2024-04-30T19:20:08.013Z"
   },
   {
    "duration": 0,
    "start_time": "2024-04-30T19:20:08.014Z"
   },
   {
    "duration": 0,
    "start_time": "2024-04-30T19:20:08.016Z"
   },
   {
    "duration": 0,
    "start_time": "2024-04-30T19:20:08.016Z"
   },
   {
    "duration": 0,
    "start_time": "2024-04-30T19:20:08.018Z"
   },
   {
    "duration": 0,
    "start_time": "2024-04-30T19:20:08.019Z"
   },
   {
    "duration": 0,
    "start_time": "2024-04-30T19:20:08.020Z"
   },
   {
    "duration": 0,
    "start_time": "2024-04-30T19:20:08.023Z"
   },
   {
    "duration": 0,
    "start_time": "2024-04-30T19:20:08.065Z"
   },
   {
    "duration": 0,
    "start_time": "2024-04-30T19:20:08.067Z"
   },
   {
    "duration": 0,
    "start_time": "2024-04-30T19:20:08.068Z"
   },
   {
    "duration": 0,
    "start_time": "2024-04-30T19:20:08.069Z"
   },
   {
    "duration": 0,
    "start_time": "2024-04-30T19:20:08.070Z"
   },
   {
    "duration": 0,
    "start_time": "2024-04-30T19:20:08.071Z"
   },
   {
    "duration": 0,
    "start_time": "2024-04-30T19:20:08.072Z"
   },
   {
    "duration": 0,
    "start_time": "2024-04-30T19:20:08.073Z"
   },
   {
    "duration": 0,
    "start_time": "2024-04-30T19:20:08.074Z"
   },
   {
    "duration": 0,
    "start_time": "2024-04-30T19:20:08.074Z"
   },
   {
    "duration": 0,
    "start_time": "2024-04-30T19:20:08.075Z"
   },
   {
    "duration": 0,
    "start_time": "2024-04-30T19:20:08.076Z"
   },
   {
    "duration": 0,
    "start_time": "2024-04-30T19:20:08.077Z"
   },
   {
    "duration": 589,
    "start_time": "2024-05-01T13:02:33.994Z"
   },
   {
    "duration": 126,
    "start_time": "2024-05-01T13:02:34.585Z"
   },
   {
    "duration": 15,
    "start_time": "2024-05-01T13:02:34.713Z"
   },
   {
    "duration": 1751,
    "start_time": "2024-05-01T13:02:34.729Z"
   },
   {
    "duration": 8,
    "start_time": "2024-05-01T13:02:36.482Z"
   },
   {
    "duration": 12,
    "start_time": "2024-05-01T13:02:36.491Z"
   },
   {
    "duration": 16,
    "start_time": "2024-05-01T13:02:36.504Z"
   },
   {
    "duration": 43,
    "start_time": "2024-05-01T13:02:36.522Z"
   },
   {
    "duration": 11,
    "start_time": "2024-05-01T13:02:36.566Z"
   },
   {
    "duration": 66,
    "start_time": "2024-05-01T13:02:36.578Z"
   },
   {
    "duration": 8,
    "start_time": "2024-05-01T13:02:36.645Z"
   },
   {
    "duration": 20,
    "start_time": "2024-05-01T13:02:36.654Z"
   },
   {
    "duration": 129,
    "start_time": "2024-05-01T13:02:36.675Z"
   },
   {
    "duration": 169,
    "start_time": "2024-05-01T13:02:36.807Z"
   },
   {
    "duration": 8,
    "start_time": "2024-05-01T13:02:36.978Z"
   },
   {
    "duration": 120,
    "start_time": "2024-05-01T13:02:36.987Z"
   },
   {
    "duration": 28,
    "start_time": "2024-05-01T13:02:37.109Z"
   },
   {
    "duration": 2,
    "start_time": "2024-05-01T13:02:37.139Z"
   },
   {
    "duration": 44,
    "start_time": "2024-05-01T13:02:37.142Z"
   },
   {
    "duration": 29,
    "start_time": "2024-05-01T13:02:37.187Z"
   },
   {
    "duration": 349,
    "start_time": "2024-05-01T13:02:37.217Z"
   },
   {
    "duration": 6,
    "start_time": "2024-05-01T13:02:37.567Z"
   },
   {
    "duration": 27,
    "start_time": "2024-05-01T13:02:37.574Z"
   },
   {
    "duration": 1473,
    "start_time": "2024-05-01T13:02:37.603Z"
   },
   {
    "duration": 262,
    "start_time": "2024-05-01T13:02:39.078Z"
   },
   {
    "duration": 233,
    "start_time": "2024-05-01T13:02:39.342Z"
   },
   {
    "duration": 342,
    "start_time": "2024-05-01T13:02:39.576Z"
   },
   {
    "duration": 243,
    "start_time": "2024-05-01T13:02:39.920Z"
   },
   {
    "duration": 151,
    "start_time": "2024-05-01T13:02:40.165Z"
   },
   {
    "duration": 125,
    "start_time": "2024-05-01T13:02:40.318Z"
   },
   {
    "duration": 182,
    "start_time": "2024-05-01T13:02:40.445Z"
   },
   {
    "duration": 118,
    "start_time": "2024-05-01T13:02:40.629Z"
   },
   {
    "duration": 128,
    "start_time": "2024-05-01T13:02:40.748Z"
   },
   {
    "duration": 226,
    "start_time": "2024-05-01T13:02:40.877Z"
   },
   {
    "duration": 535,
    "start_time": "2024-05-01T13:02:41.105Z"
   },
   {
    "duration": 359,
    "start_time": "2024-05-01T13:02:41.641Z"
   },
   {
    "duration": 330,
    "start_time": "2024-05-01T13:02:42.002Z"
   },
   {
    "duration": 4,
    "start_time": "2024-05-01T13:02:42.334Z"
   },
   {
    "duration": 185,
    "start_time": "2024-05-01T13:02:42.340Z"
   },
   {
    "duration": 4,
    "start_time": "2024-05-01T13:02:42.527Z"
   },
   {
    "duration": 198,
    "start_time": "2024-05-01T13:02:42.535Z"
   },
   {
    "duration": 5,
    "start_time": "2024-05-01T13:02:42.735Z"
   },
   {
    "duration": 195,
    "start_time": "2024-05-01T13:02:42.741Z"
   },
   {
    "duration": 4,
    "start_time": "2024-05-01T13:02:42.938Z"
   },
   {
    "duration": 196,
    "start_time": "2024-05-01T13:02:42.944Z"
   },
   {
    "duration": 5,
    "start_time": "2024-05-01T13:02:43.142Z"
   },
   {
    "duration": 137,
    "start_time": "2024-05-01T13:02:43.148Z"
   },
   {
    "duration": 288,
    "start_time": "2024-05-01T13:02:43.286Z"
   },
   {
    "duration": 4,
    "start_time": "2024-05-01T13:02:43.575Z"
   },
   {
    "duration": 149,
    "start_time": "2024-05-01T13:02:43.581Z"
   },
   {
    "duration": 4,
    "start_time": "2024-05-01T13:02:43.731Z"
   },
   {
    "duration": 151,
    "start_time": "2024-05-01T13:02:43.736Z"
   },
   {
    "duration": 4,
    "start_time": "2024-05-01T13:02:43.889Z"
   },
   {
    "duration": 35,
    "start_time": "2024-05-01T13:02:43.894Z"
   },
   {
    "duration": 50,
    "start_time": "2024-05-01T13:02:43.930Z"
   },
   {
    "duration": 4,
    "start_time": "2024-05-01T13:02:43.981Z"
   },
   {
    "duration": 424,
    "start_time": "2024-05-01T13:02:43.987Z"
   },
   {
    "duration": 9,
    "start_time": "2024-05-01T13:04:40.326Z"
   },
   {
    "duration": 96,
    "start_time": "2024-05-01T13:05:15.916Z"
   },
   {
    "duration": 1133,
    "start_time": "2024-05-02T07:15:22.244Z"
   },
   {
    "duration": 269,
    "start_time": "2024-05-02T07:15:23.378Z"
   },
   {
    "duration": 15,
    "start_time": "2024-05-02T07:15:23.649Z"
   },
   {
    "duration": 3902,
    "start_time": "2024-05-02T07:15:23.665Z"
   },
   {
    "duration": 9,
    "start_time": "2024-05-02T07:15:27.569Z"
   },
   {
    "duration": 65,
    "start_time": "2024-05-02T07:15:27.580Z"
   },
   {
    "duration": 10,
    "start_time": "2024-05-02T07:15:27.647Z"
   },
   {
    "duration": 100,
    "start_time": "2024-05-02T07:15:27.659Z"
   },
   {
    "duration": 13,
    "start_time": "2024-05-02T07:15:27.761Z"
   },
   {
    "duration": 113,
    "start_time": "2024-05-02T07:15:27.775Z"
   },
   {
    "duration": 66,
    "start_time": "2024-05-02T07:15:27.890Z"
   },
   {
    "duration": 22,
    "start_time": "2024-05-02T07:15:27.958Z"
   },
   {
    "duration": 365,
    "start_time": "2024-05-02T07:15:27.982Z"
   },
   {
    "duration": 397,
    "start_time": "2024-05-02T07:15:28.350Z"
   },
   {
    "duration": 10,
    "start_time": "2024-05-02T07:15:28.749Z"
   },
   {
    "duration": 222,
    "start_time": "2024-05-02T07:15:28.760Z"
   },
   {
    "duration": 88,
    "start_time": "2024-05-02T07:15:28.983Z"
   },
   {
    "duration": 2,
    "start_time": "2024-05-02T07:15:29.073Z"
   },
   {
    "duration": 92,
    "start_time": "2024-05-02T07:15:29.077Z"
   },
   {
    "duration": 92,
    "start_time": "2024-05-02T07:15:29.171Z"
   },
   {
    "duration": 797,
    "start_time": "2024-05-02T07:15:29.264Z"
   },
   {
    "duration": 7,
    "start_time": "2024-05-02T07:15:30.062Z"
   },
   {
    "duration": 117,
    "start_time": "2024-05-02T07:15:30.070Z"
   },
   {
    "duration": 2903,
    "start_time": "2024-05-02T07:15:30.188Z"
   },
   {
    "duration": 64,
    "start_time": "2024-05-02T07:15:33.092Z"
   },
   {
    "duration": 614,
    "start_time": "2024-05-02T07:15:33.158Z"
   },
   {
    "duration": 501,
    "start_time": "2024-05-02T07:15:33.774Z"
   },
   {
    "duration": 791,
    "start_time": "2024-05-02T07:15:34.276Z"
   },
   {
    "duration": 10,
    "start_time": "2024-05-02T07:15:35.069Z"
   },
   {
    "duration": 568,
    "start_time": "2024-05-02T07:15:35.080Z"
   },
   {
    "duration": 11,
    "start_time": "2024-05-02T07:15:35.649Z"
   },
   {
    "duration": 321,
    "start_time": "2024-05-02T07:15:35.662Z"
   },
   {
    "duration": 290,
    "start_time": "2024-05-02T07:15:35.985Z"
   },
   {
    "duration": 411,
    "start_time": "2024-05-02T07:15:36.277Z"
   },
   {
    "duration": 284,
    "start_time": "2024-05-02T07:15:36.689Z"
   },
   {
    "duration": 293,
    "start_time": "2024-05-02T07:15:36.975Z"
   },
   {
    "duration": 517,
    "start_time": "2024-05-02T07:15:37.269Z"
   },
   {
    "duration": 1264,
    "start_time": "2024-05-02T07:15:37.788Z"
   },
   {
    "duration": 734,
    "start_time": "2024-05-02T07:15:39.053Z"
   },
   {
    "duration": 4,
    "start_time": "2024-05-02T07:15:39.844Z"
   },
   {
    "duration": 722,
    "start_time": "2024-05-02T07:15:39.854Z"
   },
   {
    "duration": 5,
    "start_time": "2024-05-02T07:15:40.578Z"
   },
   {
    "duration": 395,
    "start_time": "2024-05-02T07:15:40.585Z"
   },
   {
    "duration": 64,
    "start_time": "2024-05-02T07:15:40.982Z"
   },
   {
    "duration": 422,
    "start_time": "2024-05-02T07:15:41.047Z"
   },
   {
    "duration": 5,
    "start_time": "2024-05-02T07:15:41.471Z"
   },
   {
    "duration": 492,
    "start_time": "2024-05-02T07:15:41.478Z"
   },
   {
    "duration": 5,
    "start_time": "2024-05-02T07:15:41.972Z"
   },
   {
    "duration": 289,
    "start_time": "2024-05-02T07:15:41.979Z"
   },
   {
    "duration": 5,
    "start_time": "2024-05-02T07:15:42.270Z"
   },
   {
    "duration": 147,
    "start_time": "2024-05-02T07:15:42.277Z"
   },
   {
    "duration": 255,
    "start_time": "2024-05-02T07:15:42.426Z"
   },
   {
    "duration": 160,
    "start_time": "2024-05-02T07:15:42.683Z"
   },
   {
    "duration": 150,
    "start_time": "2024-05-02T07:15:42.845Z"
   },
   {
    "duration": 26,
    "start_time": "2024-05-02T07:15:42.996Z"
   },
   {
    "duration": 312,
    "start_time": "2024-05-02T07:15:43.026Z"
   },
   {
    "duration": 46,
    "start_time": "2024-05-02T07:15:43.344Z"
   },
   {
    "duration": 4,
    "start_time": "2024-05-02T07:15:43.392Z"
   },
   {
    "duration": 466,
    "start_time": "2024-05-02T07:15:43.398Z"
   },
   {
    "duration": 109,
    "start_time": "2024-05-02T07:15:53.065Z"
   },
   {
    "duration": 93,
    "start_time": "2024-05-02T07:15:59.214Z"
   }
  ],
  "colab": {
   "provenance": []
  },
  "kernelspec": {
   "display_name": "Python 3 (ipykernel)",
   "language": "python",
   "name": "python3"
  },
  "language_info": {
   "codemirror_mode": {
    "name": "ipython",
    "version": 3
   },
   "file_extension": ".py",
   "mimetype": "text/x-python",
   "name": "python",
   "nbconvert_exporter": "python",
   "pygments_lexer": "ipython3",
   "version": "3.11.7"
  },
  "toc": {
   "base_numbering": 1,
   "nav_menu": {},
   "number_sections": true,
   "sideBar": true,
   "skip_h1_title": true,
   "title_cell": "Table of Contents",
   "title_sidebar": "Contents",
   "toc_cell": false,
   "toc_position": {
    "height": "calc(100% - 180px)",
    "left": "10px",
    "top": "150px",
    "width": "179.236px"
   },
   "toc_section_display": true,
   "toc_window_display": true
  }
 },
 "nbformat": 4,
 "nbformat_minor": 1
}
