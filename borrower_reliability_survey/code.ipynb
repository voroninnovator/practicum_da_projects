{
 "cells": [
  {
   "cell_type": "code",
   "execution_count": 1,
   "id": "fab207d0",
   "metadata": {
    "id": "fab207d0"
   },
   "outputs": [],
   "source": [
    "import pandas as pd"
   ]
  },
  {
   "cell_type": "code",
   "execution_count": 2,
   "id": "6c82b607",
   "metadata": {
    "id": "6c82b607"
   },
   "outputs": [],
   "source": [
    "data = pd.read_csv('data.csv')"
   ]
  },
  {
   "cell_type": "code",
   "execution_count": 3,
   "id": "4ff33b36",
   "metadata": {
    "id": "4ff33b36"
   },
   "outputs": [
    {
     "data": {
      "text/html": [
       "<div>\n",
       "<style scoped>\n",
       "    .dataframe tbody tr th:only-of-type {\n",
       "        vertical-align: middle;\n",
       "    }\n",
       "\n",
       "    .dataframe tbody tr th {\n",
       "        vertical-align: top;\n",
       "    }\n",
       "\n",
       "    .dataframe thead th {\n",
       "        text-align: right;\n",
       "    }\n",
       "</style>\n",
       "<table border=\"1\" class=\"dataframe\">\n",
       "  <thead>\n",
       "    <tr style=\"text-align: right;\">\n",
       "      <th></th>\n",
       "      <th>children</th>\n",
       "      <th>days_employed</th>\n",
       "      <th>dob_years</th>\n",
       "      <th>education</th>\n",
       "      <th>education_id</th>\n",
       "      <th>family_status</th>\n",
       "      <th>family_status_id</th>\n",
       "      <th>gender</th>\n",
       "      <th>income_type</th>\n",
       "      <th>debt</th>\n",
       "      <th>total_income</th>\n",
       "      <th>purpose</th>\n",
       "    </tr>\n",
       "  </thead>\n",
       "  <tbody>\n",
       "    <tr>\n",
       "      <th>0</th>\n",
       "      <td>1</td>\n",
       "      <td>-8437.673028</td>\n",
       "      <td>42</td>\n",
       "      <td>высшее</td>\n",
       "      <td>0</td>\n",
       "      <td>женат / замужем</td>\n",
       "      <td>0</td>\n",
       "      <td>F</td>\n",
       "      <td>сотрудник</td>\n",
       "      <td>0</td>\n",
       "      <td>253875.639453</td>\n",
       "      <td>покупка жилья</td>\n",
       "    </tr>\n",
       "    <tr>\n",
       "      <th>1</th>\n",
       "      <td>1</td>\n",
       "      <td>-4024.803754</td>\n",
       "      <td>36</td>\n",
       "      <td>среднее</td>\n",
       "      <td>1</td>\n",
       "      <td>женат / замужем</td>\n",
       "      <td>0</td>\n",
       "      <td>F</td>\n",
       "      <td>сотрудник</td>\n",
       "      <td>0</td>\n",
       "      <td>112080.014102</td>\n",
       "      <td>приобретение автомобиля</td>\n",
       "    </tr>\n",
       "    <tr>\n",
       "      <th>2</th>\n",
       "      <td>0</td>\n",
       "      <td>-5623.422610</td>\n",
       "      <td>33</td>\n",
       "      <td>Среднее</td>\n",
       "      <td>1</td>\n",
       "      <td>женат / замужем</td>\n",
       "      <td>0</td>\n",
       "      <td>M</td>\n",
       "      <td>сотрудник</td>\n",
       "      <td>0</td>\n",
       "      <td>145885.952297</td>\n",
       "      <td>покупка жилья</td>\n",
       "    </tr>\n",
       "    <tr>\n",
       "      <th>3</th>\n",
       "      <td>3</td>\n",
       "      <td>-4124.747207</td>\n",
       "      <td>32</td>\n",
       "      <td>среднее</td>\n",
       "      <td>1</td>\n",
       "      <td>женат / замужем</td>\n",
       "      <td>0</td>\n",
       "      <td>M</td>\n",
       "      <td>сотрудник</td>\n",
       "      <td>0</td>\n",
       "      <td>267628.550329</td>\n",
       "      <td>дополнительное образование</td>\n",
       "    </tr>\n",
       "    <tr>\n",
       "      <th>4</th>\n",
       "      <td>0</td>\n",
       "      <td>340266.072047</td>\n",
       "      <td>53</td>\n",
       "      <td>среднее</td>\n",
       "      <td>1</td>\n",
       "      <td>гражданский брак</td>\n",
       "      <td>1</td>\n",
       "      <td>F</td>\n",
       "      <td>пенсионер</td>\n",
       "      <td>0</td>\n",
       "      <td>158616.077870</td>\n",
       "      <td>сыграть свадьбу</td>\n",
       "    </tr>\n",
       "    <tr>\n",
       "      <th>5</th>\n",
       "      <td>0</td>\n",
       "      <td>-926.185831</td>\n",
       "      <td>27</td>\n",
       "      <td>высшее</td>\n",
       "      <td>0</td>\n",
       "      <td>гражданский брак</td>\n",
       "      <td>1</td>\n",
       "      <td>M</td>\n",
       "      <td>компаньон</td>\n",
       "      <td>0</td>\n",
       "      <td>255763.565419</td>\n",
       "      <td>покупка жилья</td>\n",
       "    </tr>\n",
       "    <tr>\n",
       "      <th>6</th>\n",
       "      <td>0</td>\n",
       "      <td>-2879.202052</td>\n",
       "      <td>43</td>\n",
       "      <td>высшее</td>\n",
       "      <td>0</td>\n",
       "      <td>женат / замужем</td>\n",
       "      <td>0</td>\n",
       "      <td>F</td>\n",
       "      <td>компаньон</td>\n",
       "      <td>0</td>\n",
       "      <td>240525.971920</td>\n",
       "      <td>операции с жильем</td>\n",
       "    </tr>\n",
       "    <tr>\n",
       "      <th>7</th>\n",
       "      <td>0</td>\n",
       "      <td>-152.779569</td>\n",
       "      <td>50</td>\n",
       "      <td>СРЕДНЕЕ</td>\n",
       "      <td>1</td>\n",
       "      <td>женат / замужем</td>\n",
       "      <td>0</td>\n",
       "      <td>M</td>\n",
       "      <td>сотрудник</td>\n",
       "      <td>0</td>\n",
       "      <td>135823.934197</td>\n",
       "      <td>образование</td>\n",
       "    </tr>\n",
       "    <tr>\n",
       "      <th>8</th>\n",
       "      <td>2</td>\n",
       "      <td>-6929.865299</td>\n",
       "      <td>35</td>\n",
       "      <td>ВЫСШЕЕ</td>\n",
       "      <td>0</td>\n",
       "      <td>гражданский брак</td>\n",
       "      <td>1</td>\n",
       "      <td>F</td>\n",
       "      <td>сотрудник</td>\n",
       "      <td>0</td>\n",
       "      <td>95856.832424</td>\n",
       "      <td>на проведение свадьбы</td>\n",
       "    </tr>\n",
       "    <tr>\n",
       "      <th>9</th>\n",
       "      <td>0</td>\n",
       "      <td>-2188.756445</td>\n",
       "      <td>41</td>\n",
       "      <td>среднее</td>\n",
       "      <td>1</td>\n",
       "      <td>женат / замужем</td>\n",
       "      <td>0</td>\n",
       "      <td>M</td>\n",
       "      <td>сотрудник</td>\n",
       "      <td>0</td>\n",
       "      <td>144425.938277</td>\n",
       "      <td>покупка жилья для семьи</td>\n",
       "    </tr>\n",
       "    <tr>\n",
       "      <th>10</th>\n",
       "      <td>2</td>\n",
       "      <td>-4171.483647</td>\n",
       "      <td>36</td>\n",
       "      <td>высшее</td>\n",
       "      <td>0</td>\n",
       "      <td>женат / замужем</td>\n",
       "      <td>0</td>\n",
       "      <td>M</td>\n",
       "      <td>компаньон</td>\n",
       "      <td>0</td>\n",
       "      <td>113943.491460</td>\n",
       "      <td>покупка недвижимости</td>\n",
       "    </tr>\n",
       "    <tr>\n",
       "      <th>11</th>\n",
       "      <td>0</td>\n",
       "      <td>-792.701887</td>\n",
       "      <td>40</td>\n",
       "      <td>среднее</td>\n",
       "      <td>1</td>\n",
       "      <td>женат / замужем</td>\n",
       "      <td>0</td>\n",
       "      <td>F</td>\n",
       "      <td>сотрудник</td>\n",
       "      <td>0</td>\n",
       "      <td>77069.234271</td>\n",
       "      <td>покупка коммерческой недвижимости</td>\n",
       "    </tr>\n",
       "    <tr>\n",
       "      <th>12</th>\n",
       "      <td>0</td>\n",
       "      <td>NaN</td>\n",
       "      <td>65</td>\n",
       "      <td>среднее</td>\n",
       "      <td>1</td>\n",
       "      <td>гражданский брак</td>\n",
       "      <td>1</td>\n",
       "      <td>M</td>\n",
       "      <td>пенсионер</td>\n",
       "      <td>0</td>\n",
       "      <td>NaN</td>\n",
       "      <td>сыграть свадьбу</td>\n",
       "    </tr>\n",
       "    <tr>\n",
       "      <th>13</th>\n",
       "      <td>0</td>\n",
       "      <td>-1846.641941</td>\n",
       "      <td>54</td>\n",
       "      <td>неоконченное высшее</td>\n",
       "      <td>2</td>\n",
       "      <td>женат / замужем</td>\n",
       "      <td>0</td>\n",
       "      <td>F</td>\n",
       "      <td>сотрудник</td>\n",
       "      <td>0</td>\n",
       "      <td>130458.228857</td>\n",
       "      <td>приобретение автомобиля</td>\n",
       "    </tr>\n",
       "    <tr>\n",
       "      <th>14</th>\n",
       "      <td>0</td>\n",
       "      <td>-1844.956182</td>\n",
       "      <td>56</td>\n",
       "      <td>высшее</td>\n",
       "      <td>0</td>\n",
       "      <td>гражданский брак</td>\n",
       "      <td>1</td>\n",
       "      <td>F</td>\n",
       "      <td>компаньон</td>\n",
       "      <td>1</td>\n",
       "      <td>165127.911772</td>\n",
       "      <td>покупка жилой недвижимости</td>\n",
       "    </tr>\n",
       "    <tr>\n",
       "      <th>15</th>\n",
       "      <td>1</td>\n",
       "      <td>-972.364419</td>\n",
       "      <td>26</td>\n",
       "      <td>среднее</td>\n",
       "      <td>1</td>\n",
       "      <td>женат / замужем</td>\n",
       "      <td>0</td>\n",
       "      <td>F</td>\n",
       "      <td>сотрудник</td>\n",
       "      <td>0</td>\n",
       "      <td>116820.904450</td>\n",
       "      <td>строительство собственной недвижимости</td>\n",
       "    </tr>\n",
       "    <tr>\n",
       "      <th>16</th>\n",
       "      <td>0</td>\n",
       "      <td>-1719.934226</td>\n",
       "      <td>35</td>\n",
       "      <td>среднее</td>\n",
       "      <td>1</td>\n",
       "      <td>женат / замужем</td>\n",
       "      <td>0</td>\n",
       "      <td>F</td>\n",
       "      <td>сотрудник</td>\n",
       "      <td>0</td>\n",
       "      <td>289202.704229</td>\n",
       "      <td>недвижимость</td>\n",
       "    </tr>\n",
       "    <tr>\n",
       "      <th>17</th>\n",
       "      <td>0</td>\n",
       "      <td>-2369.999720</td>\n",
       "      <td>33</td>\n",
       "      <td>высшее</td>\n",
       "      <td>0</td>\n",
       "      <td>гражданский брак</td>\n",
       "      <td>1</td>\n",
       "      <td>M</td>\n",
       "      <td>сотрудник</td>\n",
       "      <td>0</td>\n",
       "      <td>90410.586745</td>\n",
       "      <td>строительство недвижимости</td>\n",
       "    </tr>\n",
       "    <tr>\n",
       "      <th>18</th>\n",
       "      <td>0</td>\n",
       "      <td>400281.136913</td>\n",
       "      <td>53</td>\n",
       "      <td>среднее</td>\n",
       "      <td>1</td>\n",
       "      <td>вдовец / вдова</td>\n",
       "      <td>2</td>\n",
       "      <td>F</td>\n",
       "      <td>пенсионер</td>\n",
       "      <td>0</td>\n",
       "      <td>56823.777243</td>\n",
       "      <td>на покупку подержанного автомобиля</td>\n",
       "    </tr>\n",
       "    <tr>\n",
       "      <th>19</th>\n",
       "      <td>0</td>\n",
       "      <td>-10038.818549</td>\n",
       "      <td>48</td>\n",
       "      <td>СРЕДНЕЕ</td>\n",
       "      <td>1</td>\n",
       "      <td>в разводе</td>\n",
       "      <td>3</td>\n",
       "      <td>F</td>\n",
       "      <td>сотрудник</td>\n",
       "      <td>0</td>\n",
       "      <td>242831.107982</td>\n",
       "      <td>на покупку своего автомобиля</td>\n",
       "    </tr>\n",
       "  </tbody>\n",
       "</table>\n",
       "</div>"
      ],
      "text/plain": [
       "    children  days_employed  dob_years            education  education_id  \\\n",
       "0          1   -8437.673028         42               высшее             0   \n",
       "1          1   -4024.803754         36              среднее             1   \n",
       "2          0   -5623.422610         33              Среднее             1   \n",
       "3          3   -4124.747207         32              среднее             1   \n",
       "4          0  340266.072047         53              среднее             1   \n",
       "5          0    -926.185831         27               высшее             0   \n",
       "6          0   -2879.202052         43               высшее             0   \n",
       "7          0    -152.779569         50              СРЕДНЕЕ             1   \n",
       "8          2   -6929.865299         35               ВЫСШЕЕ             0   \n",
       "9          0   -2188.756445         41              среднее             1   \n",
       "10         2   -4171.483647         36               высшее             0   \n",
       "11         0    -792.701887         40              среднее             1   \n",
       "12         0            NaN         65              среднее             1   \n",
       "13         0   -1846.641941         54  неоконченное высшее             2   \n",
       "14         0   -1844.956182         56               высшее             0   \n",
       "15         1    -972.364419         26              среднее             1   \n",
       "16         0   -1719.934226         35              среднее             1   \n",
       "17         0   -2369.999720         33               высшее             0   \n",
       "18         0  400281.136913         53              среднее             1   \n",
       "19         0  -10038.818549         48              СРЕДНЕЕ             1   \n",
       "\n",
       "       family_status  family_status_id gender income_type  debt  \\\n",
       "0    женат / замужем                 0      F   сотрудник     0   \n",
       "1    женат / замужем                 0      F   сотрудник     0   \n",
       "2    женат / замужем                 0      M   сотрудник     0   \n",
       "3    женат / замужем                 0      M   сотрудник     0   \n",
       "4   гражданский брак                 1      F   пенсионер     0   \n",
       "5   гражданский брак                 1      M   компаньон     0   \n",
       "6    женат / замужем                 0      F   компаньон     0   \n",
       "7    женат / замужем                 0      M   сотрудник     0   \n",
       "8   гражданский брак                 1      F   сотрудник     0   \n",
       "9    женат / замужем                 0      M   сотрудник     0   \n",
       "10   женат / замужем                 0      M   компаньон     0   \n",
       "11   женат / замужем                 0      F   сотрудник     0   \n",
       "12  гражданский брак                 1      M   пенсионер     0   \n",
       "13   женат / замужем                 0      F   сотрудник     0   \n",
       "14  гражданский брак                 1      F   компаньон     1   \n",
       "15   женат / замужем                 0      F   сотрудник     0   \n",
       "16   женат / замужем                 0      F   сотрудник     0   \n",
       "17  гражданский брак                 1      M   сотрудник     0   \n",
       "18    вдовец / вдова                 2      F   пенсионер     0   \n",
       "19         в разводе                 3      F   сотрудник     0   \n",
       "\n",
       "     total_income                                 purpose  \n",
       "0   253875.639453                           покупка жилья  \n",
       "1   112080.014102                 приобретение автомобиля  \n",
       "2   145885.952297                           покупка жилья  \n",
       "3   267628.550329              дополнительное образование  \n",
       "4   158616.077870                         сыграть свадьбу  \n",
       "5   255763.565419                           покупка жилья  \n",
       "6   240525.971920                       операции с жильем  \n",
       "7   135823.934197                             образование  \n",
       "8    95856.832424                   на проведение свадьбы  \n",
       "9   144425.938277                 покупка жилья для семьи  \n",
       "10  113943.491460                    покупка недвижимости  \n",
       "11   77069.234271       покупка коммерческой недвижимости  \n",
       "12            NaN                         сыграть свадьбу  \n",
       "13  130458.228857                 приобретение автомобиля  \n",
       "14  165127.911772              покупка жилой недвижимости  \n",
       "15  116820.904450  строительство собственной недвижимости  \n",
       "16  289202.704229                            недвижимость  \n",
       "17   90410.586745              строительство недвижимости  \n",
       "18   56823.777243      на покупку подержанного автомобиля  \n",
       "19  242831.107982            на покупку своего автомобиля  "
      ]
     },
     "execution_count": 3,
     "metadata": {},
     "output_type": "execute_result"
    }
   ],
   "source": [
    "data.head(20)"
   ]
  },
  {
   "cell_type": "code",
   "execution_count": 4,
   "id": "e1ed9908",
   "metadata": {
    "id": "e1ed9908"
   },
   "outputs": [
    {
     "name": "stdout",
     "output_type": "stream",
     "text": [
      "<class 'pandas.core.frame.DataFrame'>\n",
      "RangeIndex: 21525 entries, 0 to 21524\n",
      "Data columns (total 12 columns):\n",
      " #   Column            Non-Null Count  Dtype  \n",
      "---  ------            --------------  -----  \n",
      " 0   children          21525 non-null  int64  \n",
      " 1   days_employed     19351 non-null  float64\n",
      " 2   dob_years         21525 non-null  int64  \n",
      " 3   education         21525 non-null  object \n",
      " 4   education_id      21525 non-null  int64  \n",
      " 5   family_status     21525 non-null  object \n",
      " 6   family_status_id  21525 non-null  int64  \n",
      " 7   gender            21525 non-null  object \n",
      " 8   income_type       21525 non-null  object \n",
      " 9   debt              21525 non-null  int64  \n",
      " 10  total_income      19351 non-null  float64\n",
      " 11  purpose           21525 non-null  object \n",
      "dtypes: float64(2), int64(5), object(5)\n",
      "memory usage: 2.0+ MB\n"
     ]
    }
   ],
   "source": [
    "data.info()"
   ]
  },
  {
   "cell_type": "code",
   "execution_count": 5,
   "id": "b7a096e1",
   "metadata": {
    "id": "b7a096e1"
   },
   "outputs": [
    {
     "data": {
      "text/plain": [
       "children               0\n",
       "days_employed       2174\n",
       "dob_years              0\n",
       "education              0\n",
       "education_id           0\n",
       "family_status          0\n",
       "family_status_id       0\n",
       "gender                 0\n",
       "income_type            0\n",
       "debt                   0\n",
       "total_income        2174\n",
       "purpose                0\n",
       "dtype: int64"
      ]
     },
     "execution_count": 5,
     "metadata": {},
     "output_type": "execute_result"
    }
   ],
   "source": [
    "data.isnull().sum()"
   ]
  },
  {
   "cell_type": "code",
   "execution_count": 6,
   "id": "e8afc4bc",
   "metadata": {
    "id": "e8afc4bc"
   },
   "outputs": [],
   "source": [
    "for d in data['income_type'].unique():    \n",
    "    data.loc[(data['income_type'] == d) & (data['total_income'].isna()), 'total_income'] = \\\n",
    "    data.loc[(data['income_type'] == d), 'total_income'].median()"
   ]
  },
  {
   "cell_type": "code",
   "execution_count": 7,
   "id": "187779b0",
   "metadata": {
    "id": "187779b0"
   },
   "outputs": [],
   "source": [
    "data['days_employed'] = data['days_employed'].abs()"
   ]
  },
  {
   "cell_type": "code",
   "execution_count": 8,
   "id": "f3f5810c",
   "metadata": {
    "id": "f3f5810c"
   },
   "outputs": [
    {
     "data": {
      "text/plain": [
       "income_type\n",
       "безработный        366413.652744\n",
       "в декрете            3296.759962\n",
       "госслужащий          2689.368353\n",
       "компаньон            1547.382223\n",
       "пенсионер          365213.306266\n",
       "предприниматель       520.848083\n",
       "сотрудник            1574.202821\n",
       "студент               578.751554\n",
       "Name: days_employed, dtype: float64"
      ]
     },
     "execution_count": 8,
     "metadata": {},
     "output_type": "execute_result"
    }
   ],
   "source": [
    "data.groupby('income_type')['days_employed'].median()"
   ]
  },
  {
   "cell_type": "code",
   "execution_count": 9,
   "id": "9bd0c232",
   "metadata": {
    "id": "9bd0c232"
   },
   "outputs": [
    {
     "data": {
      "text/plain": [
       "array([ 1,  0,  3,  2, -1,  4, 20,  5])"
      ]
     },
     "execution_count": 9,
     "metadata": {},
     "output_type": "execute_result"
    }
   ],
   "source": [
    "data['children'].unique()"
   ]
  },
  {
   "cell_type": "code",
   "execution_count": 10,
   "id": "6d5ba289",
   "metadata": {
    "id": "6d5ba289"
   },
   "outputs": [],
   "source": [
    "data = data.loc[data['children'] != -1]\n",
    "data = data.loc[data['children'] != 20]"
   ]
  },
  {
   "cell_type": "code",
   "execution_count": 11,
   "id": "2c5fa92c",
   "metadata": {
    "id": "2c5fa92c"
   },
   "outputs": [
    {
     "data": {
      "text/plain": [
       "array([1, 0, 3, 2, 4, 5])"
      ]
     },
     "execution_count": 11,
     "metadata": {},
     "output_type": "execute_result"
    }
   ],
   "source": [
    "data['children'].unique()"
   ]
  },
  {
   "cell_type": "code",
   "execution_count": 12,
   "id": "e2aea7ac",
   "metadata": {
    "id": "e2aea7ac"
   },
   "outputs": [],
   "source": [
    "for d in data['income_type'].unique():    \n",
    "    data.loc[(data['income_type'] == d) & (data['days_employed'].isna()), 'days_employed'] = \\\n",
    "    data.loc[(data['income_type'] == d), 'days_employed'].median()"
   ]
  },
  {
   "cell_type": "code",
   "execution_count": 13,
   "id": "79632a21",
   "metadata": {
    "id": "79632a21"
   },
   "outputs": [
    {
     "data": {
      "text/plain": [
       "children            0\n",
       "days_employed       0\n",
       "dob_years           0\n",
       "education           0\n",
       "education_id        0\n",
       "family_status       0\n",
       "family_status_id    0\n",
       "gender              0\n",
       "income_type         0\n",
       "debt                0\n",
       "total_income        0\n",
       "purpose             0\n",
       "dtype: int64"
      ]
     },
     "execution_count": 13,
     "metadata": {},
     "output_type": "execute_result"
    }
   ],
   "source": [
    "data.isnull().sum()"
   ]
  },
  {
   "cell_type": "code",
   "execution_count": 14,
   "id": "73da6ea0",
   "metadata": {
    "id": "73da6ea0"
   },
   "outputs": [],
   "source": [
    "data['total_income'] = data['total_income'].astype('int')"
   ]
  },
  {
   "cell_type": "code",
   "execution_count": 15,
   "id": "3f2504b3",
   "metadata": {
    "id": "3f2504b3"
   },
   "outputs": [],
   "source": [
    "data['education'] = data['education'].str.lower()"
   ]
  },
  {
   "cell_type": "code",
   "execution_count": 16,
   "id": "d34a4325",
   "metadata": {
    "id": "d34a4325"
   },
   "outputs": [
    {
     "data": {
      "text/plain": [
       "71"
      ]
     },
     "execution_count": 16,
     "metadata": {},
     "output_type": "execute_result"
    }
   ],
   "source": [
    "data.duplicated().sum()"
   ]
  },
  {
   "cell_type": "code",
   "execution_count": 17,
   "id": "6e1a6499",
   "metadata": {
    "id": "6e1a6499"
   },
   "outputs": [],
   "source": [
    "data = data.drop_duplicates()"
   ]
  },
  {
   "cell_type": "code",
   "execution_count": 18,
   "id": "880a77e5",
   "metadata": {
    "id": "880a77e5"
   },
   "outputs": [],
   "source": [
    "def categorize_income(income):\n",
    "    if 0 <= income <= 30000:\n",
    "        return 'E'\n",
    "    elif 30001 <= income <= 50000:\n",
    "        return 'D'\n",
    "    elif 50001 <= income <= 200000:\n",
    "        return 'C'\n",
    "    elif 200001 <= income <= 1000000:\n",
    "        return 'B'\n",
    "    elif income >= 1000001:\n",
    "        return 'A'"
   ]
  },
  {
   "cell_type": "code",
   "execution_count": 19,
   "id": "6f25f161",
   "metadata": {
    "id": "6f25f161"
   },
   "outputs": [],
   "source": [
    "data['total_income_category'] = data['total_income'].apply(categorize_income)"
   ]
  },
  {
   "cell_type": "code",
   "execution_count": 20,
   "id": "e59f2c15",
   "metadata": {
    "id": "e59f2c15"
   },
   "outputs": [
    {
     "data": {
      "text/plain": [
       "array(['покупка жилья', 'приобретение автомобиля',\n",
       "       'дополнительное образование', 'сыграть свадьбу',\n",
       "       'операции с жильем', 'образование', 'на проведение свадьбы',\n",
       "       'покупка жилья для семьи', 'покупка недвижимости',\n",
       "       'покупка коммерческой недвижимости', 'покупка жилой недвижимости',\n",
       "       'строительство собственной недвижимости', 'недвижимость',\n",
       "       'строительство недвижимости', 'на покупку подержанного автомобиля',\n",
       "       'на покупку своего автомобиля',\n",
       "       'операции с коммерческой недвижимостью',\n",
       "       'строительство жилой недвижимости', 'жилье',\n",
       "       'операции со своей недвижимостью', 'автомобили',\n",
       "       'заняться образованием', 'сделка с подержанным автомобилем',\n",
       "       'получение образования', 'автомобиль', 'свадьба',\n",
       "       'получение дополнительного образования', 'покупка своего жилья',\n",
       "       'операции с недвижимостью', 'получение высшего образования',\n",
       "       'свой автомобиль', 'сделка с автомобилем',\n",
       "       'профильное образование', 'высшее образование',\n",
       "       'покупка жилья для сдачи', 'на покупку автомобиля', 'ремонт жилью',\n",
       "       'заняться высшим образованием'], dtype=object)"
      ]
     },
     "execution_count": 20,
     "metadata": {},
     "output_type": "execute_result"
    }
   ],
   "source": [
    "data['purpose'].unique()"
   ]
  },
  {
   "cell_type": "code",
   "execution_count": 21,
   "id": "63909b83",
   "metadata": {
    "id": "63909b83"
   },
   "outputs": [],
   "source": [
    "def categorize_purpose(purpose):\n",
    "    if 'жил' in purpose or 'нед' in purpose:\n",
    "        return 'операции с недвижимостью'\n",
    "    elif 'авто' in purpose:\n",
    "        return 'операции с автомобилем'\n",
    "    elif 'образ' in purpose:\n",
    "        return 'получение образования'\n",
    "    elif 'сва' in purpose:\n",
    "        return 'проведение свадьбы'"
   ]
  },
  {
   "cell_type": "code",
   "execution_count": 22,
   "id": "7cb4a81d",
   "metadata": {
    "id": "7cb4a81d"
   },
   "outputs": [],
   "source": [
    "data['purpose_category'] = data['purpose'].apply(categorize_purpose)"
   ]
  },
  {
   "cell_type": "code",
   "execution_count": 23,
   "id": "aad3ea61-1a18-4160-a730-7bcdfcdd8d96",
   "metadata": {
    "scrolled": true
   },
   "outputs": [
    {
     "data": {
      "text/html": [
       "<div>\n",
       "<style scoped>\n",
       "    .dataframe tbody tr th:only-of-type {\n",
       "        vertical-align: middle;\n",
       "    }\n",
       "\n",
       "    .dataframe tbody tr th {\n",
       "        vertical-align: top;\n",
       "    }\n",
       "\n",
       "    .dataframe thead th {\n",
       "        text-align: right;\n",
       "    }\n",
       "</style>\n",
       "<table border=\"1\" class=\"dataframe\">\n",
       "  <thead>\n",
       "    <tr style=\"text-align: right;\">\n",
       "      <th></th>\n",
       "      <th>children</th>\n",
       "      <th>days_employed</th>\n",
       "      <th>dob_years</th>\n",
       "      <th>education</th>\n",
       "      <th>education_id</th>\n",
       "      <th>family_status</th>\n",
       "      <th>family_status_id</th>\n",
       "      <th>gender</th>\n",
       "      <th>income_type</th>\n",
       "      <th>debt</th>\n",
       "      <th>total_income</th>\n",
       "      <th>purpose</th>\n",
       "      <th>total_income_category</th>\n",
       "      <th>purpose_category</th>\n",
       "    </tr>\n",
       "  </thead>\n",
       "  <tbody>\n",
       "    <tr>\n",
       "      <th>0</th>\n",
       "      <td>1</td>\n",
       "      <td>8437.673028</td>\n",
       "      <td>42</td>\n",
       "      <td>высшее</td>\n",
       "      <td>0</td>\n",
       "      <td>женат / замужем</td>\n",
       "      <td>0</td>\n",
       "      <td>F</td>\n",
       "      <td>сотрудник</td>\n",
       "      <td>0</td>\n",
       "      <td>253875</td>\n",
       "      <td>покупка жилья</td>\n",
       "      <td>B</td>\n",
       "      <td>операции с недвижимостью</td>\n",
       "    </tr>\n",
       "    <tr>\n",
       "      <th>1</th>\n",
       "      <td>1</td>\n",
       "      <td>4024.803754</td>\n",
       "      <td>36</td>\n",
       "      <td>среднее</td>\n",
       "      <td>1</td>\n",
       "      <td>женат / замужем</td>\n",
       "      <td>0</td>\n",
       "      <td>F</td>\n",
       "      <td>сотрудник</td>\n",
       "      <td>0</td>\n",
       "      <td>112080</td>\n",
       "      <td>приобретение автомобиля</td>\n",
       "      <td>C</td>\n",
       "      <td>операции с автомобилем</td>\n",
       "    </tr>\n",
       "    <tr>\n",
       "      <th>2</th>\n",
       "      <td>0</td>\n",
       "      <td>5623.422610</td>\n",
       "      <td>33</td>\n",
       "      <td>среднее</td>\n",
       "      <td>1</td>\n",
       "      <td>женат / замужем</td>\n",
       "      <td>0</td>\n",
       "      <td>M</td>\n",
       "      <td>сотрудник</td>\n",
       "      <td>0</td>\n",
       "      <td>145885</td>\n",
       "      <td>покупка жилья</td>\n",
       "      <td>C</td>\n",
       "      <td>операции с недвижимостью</td>\n",
       "    </tr>\n",
       "    <tr>\n",
       "      <th>3</th>\n",
       "      <td>3</td>\n",
       "      <td>4124.747207</td>\n",
       "      <td>32</td>\n",
       "      <td>среднее</td>\n",
       "      <td>1</td>\n",
       "      <td>женат / замужем</td>\n",
       "      <td>0</td>\n",
       "      <td>M</td>\n",
       "      <td>сотрудник</td>\n",
       "      <td>0</td>\n",
       "      <td>267628</td>\n",
       "      <td>дополнительное образование</td>\n",
       "      <td>B</td>\n",
       "      <td>получение образования</td>\n",
       "    </tr>\n",
       "    <tr>\n",
       "      <th>4</th>\n",
       "      <td>0</td>\n",
       "      <td>340266.072047</td>\n",
       "      <td>53</td>\n",
       "      <td>среднее</td>\n",
       "      <td>1</td>\n",
       "      <td>гражданский брак</td>\n",
       "      <td>1</td>\n",
       "      <td>F</td>\n",
       "      <td>пенсионер</td>\n",
       "      <td>0</td>\n",
       "      <td>158616</td>\n",
       "      <td>сыграть свадьбу</td>\n",
       "      <td>C</td>\n",
       "      <td>проведение свадьбы</td>\n",
       "    </tr>\n",
       "  </tbody>\n",
       "</table>\n",
       "</div>"
      ],
      "text/plain": [
       "   children  days_employed  dob_years education  education_id  \\\n",
       "0         1    8437.673028         42    высшее             0   \n",
       "1         1    4024.803754         36   среднее             1   \n",
       "2         0    5623.422610         33   среднее             1   \n",
       "3         3    4124.747207         32   среднее             1   \n",
       "4         0  340266.072047         53   среднее             1   \n",
       "\n",
       "      family_status  family_status_id gender income_type  debt  total_income  \\\n",
       "0   женат / замужем                 0      F   сотрудник     0        253875   \n",
       "1   женат / замужем                 0      F   сотрудник     0        112080   \n",
       "2   женат / замужем                 0      M   сотрудник     0        145885   \n",
       "3   женат / замужем                 0      M   сотрудник     0        267628   \n",
       "4  гражданский брак                 1      F   пенсионер     0        158616   \n",
       "\n",
       "                      purpose total_income_category          purpose_category  \n",
       "0               покупка жилья                     B  операции с недвижимостью  \n",
       "1     приобретение автомобиля                     C    операции с автомобилем  \n",
       "2               покупка жилья                     C  операции с недвижимостью  \n",
       "3  дополнительное образование                     B     получение образования  \n",
       "4             сыграть свадьбу                     C        проведение свадьбы  "
      ]
     },
     "execution_count": 23,
     "metadata": {},
     "output_type": "execute_result"
    }
   ],
   "source": [
    "data.head(5)"
   ]
  },
  {
   "cell_type": "code",
   "execution_count": 24,
   "id": "0d6d08e3-2c85-48df-92ef-40b76c8e580e",
   "metadata": {},
   "outputs": [
    {
     "data": {
      "text/html": [
       "<div>\n",
       "<style scoped>\n",
       "    .dataframe tbody tr th:only-of-type {\n",
       "        vertical-align: middle;\n",
       "    }\n",
       "\n",
       "    .dataframe tbody tr th {\n",
       "        vertical-align: top;\n",
       "    }\n",
       "\n",
       "    .dataframe thead th {\n",
       "        text-align: right;\n",
       "    }\n",
       "</style>\n",
       "<table border=\"1\" class=\"dataframe\">\n",
       "  <thead>\n",
       "    <tr style=\"text-align: right;\">\n",
       "      <th></th>\n",
       "      <th>sum_children</th>\n",
       "      <th>count_children</th>\n",
       "      <th>mean_value</th>\n",
       "    </tr>\n",
       "    <tr>\n",
       "      <th>children</th>\n",
       "      <th></th>\n",
       "      <th></th>\n",
       "      <th></th>\n",
       "    </tr>\n",
       "  </thead>\n",
       "  <tbody>\n",
       "    <tr>\n",
       "      <th>0</th>\n",
       "      <td>1063</td>\n",
       "      <td>14091</td>\n",
       "      <td>7.54%</td>\n",
       "    </tr>\n",
       "    <tr>\n",
       "      <th>1</th>\n",
       "      <td>444</td>\n",
       "      <td>4808</td>\n",
       "      <td>9.23%</td>\n",
       "    </tr>\n",
       "    <tr>\n",
       "      <th>2</th>\n",
       "      <td>194</td>\n",
       "      <td>2052</td>\n",
       "      <td>9.45%</td>\n",
       "    </tr>\n",
       "    <tr>\n",
       "      <th>3</th>\n",
       "      <td>27</td>\n",
       "      <td>330</td>\n",
       "      <td>8.18%</td>\n",
       "    </tr>\n",
       "    <tr>\n",
       "      <th>4</th>\n",
       "      <td>4</td>\n",
       "      <td>41</td>\n",
       "      <td>9.76%</td>\n",
       "    </tr>\n",
       "    <tr>\n",
       "      <th>5</th>\n",
       "      <td>0</td>\n",
       "      <td>9</td>\n",
       "      <td>0.0%</td>\n",
       "    </tr>\n",
       "  </tbody>\n",
       "</table>\n",
       "</div>"
      ],
      "text/plain": [
       "          sum_children  count_children mean_value\n",
       "children                                         \n",
       "0                 1063           14091      7.54%\n",
       "1                  444            4808      9.23%\n",
       "2                  194            2052      9.45%\n",
       "3                   27             330      8.18%\n",
       "4                    4              41      9.76%\n",
       "5                    0               9       0.0%"
      ]
     },
     "execution_count": 24,
     "metadata": {},
     "output_type": "execute_result"
    }
   ],
   "source": [
    "data_children_debt = pd.DataFrame()\n",
    "data_children_debt['sum_children'] = data.groupby('children')['debt'].sum()\n",
    "data_children_debt['count_children'] = data.groupby('children')['debt'].count()\n",
    "data_children_debt['mean_value'] = (data.groupby('children')['debt'].mean() * 100).round(2).astype(str) + '%'\n",
    "data_children_debt"
   ]
  },
  {
   "cell_type": "code",
   "execution_count": 25,
   "id": "20028b4f",
   "metadata": {},
   "outputs": [],
   "source": [
    "def ratio(row, column):\n",
    "    data = row.groupby(column)['debt'].agg(['count', 'sum', 'mean'])\n",
    "    data['mean'] = (data['mean'] * 100).round(2).astype(str)+'%'\n",
    "    return data"
   ]
  },
  {
   "cell_type": "code",
   "execution_count": 26,
   "id": "379c5c14",
   "metadata": {},
   "outputs": [
    {
     "data": {
      "text/html": [
       "<div>\n",
       "<style scoped>\n",
       "    .dataframe tbody tr th:only-of-type {\n",
       "        vertical-align: middle;\n",
       "    }\n",
       "\n",
       "    .dataframe tbody tr th {\n",
       "        vertical-align: top;\n",
       "    }\n",
       "\n",
       "    .dataframe thead th {\n",
       "        text-align: right;\n",
       "    }\n",
       "</style>\n",
       "<table border=\"1\" class=\"dataframe\">\n",
       "  <thead>\n",
       "    <tr style=\"text-align: right;\">\n",
       "      <th></th>\n",
       "      <th>count</th>\n",
       "      <th>sum</th>\n",
       "      <th>mean</th>\n",
       "    </tr>\n",
       "    <tr>\n",
       "      <th>children</th>\n",
       "      <th></th>\n",
       "      <th></th>\n",
       "      <th></th>\n",
       "    </tr>\n",
       "  </thead>\n",
       "  <tbody>\n",
       "    <tr>\n",
       "      <th>0</th>\n",
       "      <td>14091</td>\n",
       "      <td>1063</td>\n",
       "      <td>7.54%</td>\n",
       "    </tr>\n",
       "    <tr>\n",
       "      <th>1</th>\n",
       "      <td>4808</td>\n",
       "      <td>444</td>\n",
       "      <td>9.23%</td>\n",
       "    </tr>\n",
       "    <tr>\n",
       "      <th>2</th>\n",
       "      <td>2052</td>\n",
       "      <td>194</td>\n",
       "      <td>9.45%</td>\n",
       "    </tr>\n",
       "    <tr>\n",
       "      <th>3</th>\n",
       "      <td>330</td>\n",
       "      <td>27</td>\n",
       "      <td>8.18%</td>\n",
       "    </tr>\n",
       "    <tr>\n",
       "      <th>4</th>\n",
       "      <td>41</td>\n",
       "      <td>4</td>\n",
       "      <td>9.76%</td>\n",
       "    </tr>\n",
       "    <tr>\n",
       "      <th>5</th>\n",
       "      <td>9</td>\n",
       "      <td>0</td>\n",
       "      <td>0.0%</td>\n",
       "    </tr>\n",
       "  </tbody>\n",
       "</table>\n",
       "</div>"
      ],
      "text/plain": [
       "          count   sum   mean\n",
       "children                    \n",
       "0         14091  1063  7.54%\n",
       "1          4808   444  9.23%\n",
       "2          2052   194  9.45%\n",
       "3           330    27  8.18%\n",
       "4            41     4  9.76%\n",
       "5             9     0   0.0%"
      ]
     },
     "execution_count": 26,
     "metadata": {},
     "output_type": "execute_result"
    }
   ],
   "source": [
    "data_children = ratio(data,'children')\n",
    "data_children"
   ]
  },
  {
   "cell_type": "code",
   "execution_count": 27,
   "id": "11ac4517-58fd-4d8a-a486-d9aabebfa2ef",
   "metadata": {
    "scrolled": true
   },
   "outputs": [
    {
     "data": {
      "text/html": [
       "<div>\n",
       "<style scoped>\n",
       "    .dataframe tbody tr th:only-of-type {\n",
       "        vertical-align: middle;\n",
       "    }\n",
       "\n",
       "    .dataframe tbody tr th {\n",
       "        vertical-align: top;\n",
       "    }\n",
       "\n",
       "    .dataframe thead th {\n",
       "        text-align: right;\n",
       "    }\n",
       "</style>\n",
       "<table border=\"1\" class=\"dataframe\">\n",
       "  <thead>\n",
       "    <tr style=\"text-align: right;\">\n",
       "      <th></th>\n",
       "      <th>family_sum</th>\n",
       "      <th>family_count</th>\n",
       "      <th>mean_value</th>\n",
       "    </tr>\n",
       "    <tr>\n",
       "      <th>family_status</th>\n",
       "      <th></th>\n",
       "      <th></th>\n",
       "      <th></th>\n",
       "    </tr>\n",
       "  </thead>\n",
       "  <tbody>\n",
       "    <tr>\n",
       "      <th>Не женат / не замужем</th>\n",
       "      <td>273</td>\n",
       "      <td>2796</td>\n",
       "      <td>9.76%</td>\n",
       "    </tr>\n",
       "    <tr>\n",
       "      <th>в разводе</th>\n",
       "      <td>84</td>\n",
       "      <td>1189</td>\n",
       "      <td>7.06%</td>\n",
       "    </tr>\n",
       "    <tr>\n",
       "      <th>вдовец / вдова</th>\n",
       "      <td>63</td>\n",
       "      <td>951</td>\n",
       "      <td>6.62%</td>\n",
       "    </tr>\n",
       "    <tr>\n",
       "      <th>гражданский брак</th>\n",
       "      <td>385</td>\n",
       "      <td>4134</td>\n",
       "      <td>9.31%</td>\n",
       "    </tr>\n",
       "    <tr>\n",
       "      <th>женат / замужем</th>\n",
       "      <td>927</td>\n",
       "      <td>12261</td>\n",
       "      <td>7.56%</td>\n",
       "    </tr>\n",
       "  </tbody>\n",
       "</table>\n",
       "</div>"
      ],
      "text/plain": [
       "                       family_sum  family_count mean_value\n",
       "family_status                                             \n",
       "Не женат / не замужем         273          2796      9.76%\n",
       "в разводе                      84          1189      7.06%\n",
       "вдовец / вдова                 63           951      6.62%\n",
       "гражданский брак              385          4134      9.31%\n",
       "женат / замужем               927         12261      7.56%"
      ]
     },
     "execution_count": 27,
     "metadata": {},
     "output_type": "execute_result"
    }
   ],
   "source": [
    "data_family_status = pd.DataFrame()\n",
    "data_family_status['family_sum'] = data.groupby('family_status')['debt'].sum()\n",
    "data_family_status['family_count'] = data.groupby('family_status')['debt'].count()\n",
    "data_family_status['mean_value'] = (data.groupby('family_status')['debt'].mean() * 100).round(2).astype(str) + '%'\n",
    "data_family_status"
   ]
  },
  {
   "cell_type": "code",
   "execution_count": 28,
   "id": "049f011e-c075-4aad-a9f6-f728f990a608",
   "metadata": {},
   "outputs": [
    {
     "data": {
      "text/html": [
       "<div>\n",
       "<style scoped>\n",
       "    .dataframe tbody tr th:only-of-type {\n",
       "        vertical-align: middle;\n",
       "    }\n",
       "\n",
       "    .dataframe tbody tr th {\n",
       "        vertical-align: top;\n",
       "    }\n",
       "\n",
       "    .dataframe thead th {\n",
       "        text-align: right;\n",
       "    }\n",
       "</style>\n",
       "<table border=\"1\" class=\"dataframe\">\n",
       "  <thead>\n",
       "    <tr style=\"text-align: right;\">\n",
       "      <th></th>\n",
       "      <th>income_category_sum</th>\n",
       "      <th>income_category_count</th>\n",
       "      <th>mean_value</th>\n",
       "    </tr>\n",
       "    <tr>\n",
       "      <th>total_income_category</th>\n",
       "      <th></th>\n",
       "      <th></th>\n",
       "      <th></th>\n",
       "    </tr>\n",
       "  </thead>\n",
       "  <tbody>\n",
       "    <tr>\n",
       "      <th>A</th>\n",
       "      <td>2</td>\n",
       "      <td>25</td>\n",
       "      <td>8.0%</td>\n",
       "    </tr>\n",
       "    <tr>\n",
       "      <th>B</th>\n",
       "      <td>354</td>\n",
       "      <td>5014</td>\n",
       "      <td>7.06%</td>\n",
       "    </tr>\n",
       "    <tr>\n",
       "      <th>C</th>\n",
       "      <td>1353</td>\n",
       "      <td>15921</td>\n",
       "      <td>8.5%</td>\n",
       "    </tr>\n",
       "    <tr>\n",
       "      <th>D</th>\n",
       "      <td>21</td>\n",
       "      <td>349</td>\n",
       "      <td>6.02%</td>\n",
       "    </tr>\n",
       "    <tr>\n",
       "      <th>E</th>\n",
       "      <td>2</td>\n",
       "      <td>22</td>\n",
       "      <td>9.09%</td>\n",
       "    </tr>\n",
       "  </tbody>\n",
       "</table>\n",
       "</div>"
      ],
      "text/plain": [
       "                       income_category_sum  income_category_count mean_value\n",
       "total_income_category                                                       \n",
       "A                                        2                     25       8.0%\n",
       "B                                      354                   5014      7.06%\n",
       "C                                     1353                  15921       8.5%\n",
       "D                                       21                    349      6.02%\n",
       "E                                        2                     22      9.09%"
      ]
     },
     "execution_count": 28,
     "metadata": {},
     "output_type": "execute_result"
    }
   ],
   "source": [
    "data_total_income_debt = pd.DataFrame()\n",
    "data_total_income_debt['income_category_sum'] = data.groupby('total_income_category')['debt'].sum()\n",
    "data_total_income_debt['income_category_count'] = data.groupby('total_income_category')['debt'].count()\n",
    "data_total_income_debt['mean_value'] = (data.groupby('total_income_category')['debt'].mean() * 100).round(2).astype(str) + '%'\n",
    "data_total_income_debt"
   ]
  },
  {
   "cell_type": "code",
   "execution_count": 29,
   "id": "70583eec",
   "metadata": {},
   "outputs": [
    {
     "data": {
      "text/html": [
       "<div>\n",
       "<style scoped>\n",
       "    .dataframe tbody tr th:only-of-type {\n",
       "        vertical-align: middle;\n",
       "    }\n",
       "\n",
       "    .dataframe tbody tr th {\n",
       "        vertical-align: top;\n",
       "    }\n",
       "\n",
       "    .dataframe thead th {\n",
       "        text-align: right;\n",
       "    }\n",
       "</style>\n",
       "<table border=\"1\" class=\"dataframe\">\n",
       "  <thead>\n",
       "    <tr style=\"text-align: right;\">\n",
       "      <th></th>\n",
       "      <th>count</th>\n",
       "      <th>sum</th>\n",
       "      <th>mean</th>\n",
       "    </tr>\n",
       "    <tr>\n",
       "      <th>total_income_category</th>\n",
       "      <th></th>\n",
       "      <th></th>\n",
       "      <th></th>\n",
       "    </tr>\n",
       "  </thead>\n",
       "  <tbody>\n",
       "    <tr>\n",
       "      <th>A</th>\n",
       "      <td>25</td>\n",
       "      <td>2</td>\n",
       "      <td>8.0%</td>\n",
       "    </tr>\n",
       "    <tr>\n",
       "      <th>B</th>\n",
       "      <td>5014</td>\n",
       "      <td>354</td>\n",
       "      <td>7.06%</td>\n",
       "    </tr>\n",
       "    <tr>\n",
       "      <th>C</th>\n",
       "      <td>15921</td>\n",
       "      <td>1353</td>\n",
       "      <td>8.5%</td>\n",
       "    </tr>\n",
       "    <tr>\n",
       "      <th>D</th>\n",
       "      <td>349</td>\n",
       "      <td>21</td>\n",
       "      <td>6.02%</td>\n",
       "    </tr>\n",
       "    <tr>\n",
       "      <th>E</th>\n",
       "      <td>22</td>\n",
       "      <td>2</td>\n",
       "      <td>9.09%</td>\n",
       "    </tr>\n",
       "  </tbody>\n",
       "</table>\n",
       "</div>"
      ],
      "text/plain": [
       "                       count   sum   mean\n",
       "total_income_category                    \n",
       "A                         25     2   8.0%\n",
       "B                       5014   354  7.06%\n",
       "C                      15921  1353   8.5%\n",
       "D                        349    21  6.02%\n",
       "E                         22     2  9.09%"
      ]
     },
     "execution_count": 29,
     "metadata": {},
     "output_type": "execute_result"
    }
   ],
   "source": [
    "data_family = ratio(data, 'total_income_category')\n",
    "data_family"
   ]
  },
  {
   "cell_type": "code",
   "execution_count": 30,
   "id": "1bbfbf63",
   "metadata": {},
   "outputs": [],
   "source": [
    "def categorize_income(income):\n",
    "    if 0 <= income <= 30000:\n",
    "        return 'E'\n",
    "    elif 30001 <= income <= 50000:\n",
    "        return 'D'\n",
    "    elif 50001 <= income <= 75000:\n",
    "        return 'C1'  \n",
    "    elif 75001 <= income <= 100000:\n",
    "        return 'C2'  \n",
    "    elif 100001 <= income <= 125000:\n",
    "        return 'C3'\n",
    "    elif 125001 <= income <= 150000:\n",
    "        return 'C4'\n",
    "    elif 150001 <= income < 175000:\n",
    "        return 'C5'\n",
    "    elif 175001 <= income <= 200000:\n",
    "        return 'C6'\n",
    "    elif 200001 <= income <= 1000000:\n",
    "        return 'B'\n",
    "    elif income >= 1000001:\n",
    "        return 'A'"
   ]
  },
  {
   "cell_type": "code",
   "execution_count": 31,
   "id": "01c1e774",
   "metadata": {},
   "outputs": [],
   "source": [
    "data['total_income_category'] = data['total_income'].apply(categorize_income)"
   ]
  },
  {
   "cell_type": "code",
   "execution_count": 32,
   "id": "7e67a9d4",
   "metadata": {
    "scrolled": true
   },
   "outputs": [
    {
     "data": {
      "text/html": [
       "<div>\n",
       "<style scoped>\n",
       "    .dataframe tbody tr th:only-of-type {\n",
       "        vertical-align: middle;\n",
       "    }\n",
       "\n",
       "    .dataframe tbody tr th {\n",
       "        vertical-align: top;\n",
       "    }\n",
       "\n",
       "    .dataframe thead th {\n",
       "        text-align: right;\n",
       "    }\n",
       "</style>\n",
       "<table border=\"1\" class=\"dataframe\">\n",
       "  <thead>\n",
       "    <tr style=\"text-align: right;\">\n",
       "      <th></th>\n",
       "      <th>count</th>\n",
       "      <th>sum</th>\n",
       "      <th>mean</th>\n",
       "    </tr>\n",
       "    <tr>\n",
       "      <th>total_income_category</th>\n",
       "      <th></th>\n",
       "      <th></th>\n",
       "      <th></th>\n",
       "    </tr>\n",
       "  </thead>\n",
       "  <tbody>\n",
       "    <tr>\n",
       "      <th>A</th>\n",
       "      <td>25</td>\n",
       "      <td>2</td>\n",
       "      <td>8.0%</td>\n",
       "    </tr>\n",
       "    <tr>\n",
       "      <th>B</th>\n",
       "      <td>5014</td>\n",
       "      <td>354</td>\n",
       "      <td>7.06%</td>\n",
       "    </tr>\n",
       "    <tr>\n",
       "      <th>C1</th>\n",
       "      <td>1483</td>\n",
       "      <td>113</td>\n",
       "      <td>7.62%</td>\n",
       "    </tr>\n",
       "    <tr>\n",
       "      <th>C2</th>\n",
       "      <td>2590</td>\n",
       "      <td>218</td>\n",
       "      <td>8.42%</td>\n",
       "    </tr>\n",
       "    <tr>\n",
       "      <th>C3</th>\n",
       "      <td>3272</td>\n",
       "      <td>288</td>\n",
       "      <td>8.8%</td>\n",
       "    </tr>\n",
       "    <tr>\n",
       "      <th>C4</th>\n",
       "      <td>3838</td>\n",
       "      <td>331</td>\n",
       "      <td>8.62%</td>\n",
       "    </tr>\n",
       "    <tr>\n",
       "      <th>C5</th>\n",
       "      <td>3034</td>\n",
       "      <td>254</td>\n",
       "      <td>8.37%</td>\n",
       "    </tr>\n",
       "    <tr>\n",
       "      <th>C6</th>\n",
       "      <td>1704</td>\n",
       "      <td>149</td>\n",
       "      <td>8.74%</td>\n",
       "    </tr>\n",
       "    <tr>\n",
       "      <th>D</th>\n",
       "      <td>349</td>\n",
       "      <td>21</td>\n",
       "      <td>6.02%</td>\n",
       "    </tr>\n",
       "    <tr>\n",
       "      <th>E</th>\n",
       "      <td>22</td>\n",
       "      <td>2</td>\n",
       "      <td>9.09%</td>\n",
       "    </tr>\n",
       "  </tbody>\n",
       "</table>\n",
       "</div>"
      ],
      "text/plain": [
       "                       count  sum   mean\n",
       "total_income_category                   \n",
       "A                         25    2   8.0%\n",
       "B                       5014  354  7.06%\n",
       "C1                      1483  113  7.62%\n",
       "C2                      2590  218  8.42%\n",
       "C3                      3272  288   8.8%\n",
       "C4                      3838  331  8.62%\n",
       "C5                      3034  254  8.37%\n",
       "C6                      1704  149  8.74%\n",
       "D                        349   21  6.02%\n",
       "E                         22    2  9.09%"
      ]
     },
     "execution_count": 32,
     "metadata": {},
     "output_type": "execute_result"
    }
   ],
   "source": [
    "data_family = ratio(data, 'total_income_category')\n",
    "data_family"
   ]
  },
  {
   "cell_type": "code",
   "execution_count": 33,
   "id": "56d214e7-9bb4-4b61-bb6a-ad35cedc3853",
   "metadata": {},
   "outputs": [
    {
     "data": {
      "text/html": [
       "<div>\n",
       "<style scoped>\n",
       "    .dataframe tbody tr th:only-of-type {\n",
       "        vertical-align: middle;\n",
       "    }\n",
       "\n",
       "    .dataframe tbody tr th {\n",
       "        vertical-align: top;\n",
       "    }\n",
       "\n",
       "    .dataframe thead th {\n",
       "        text-align: right;\n",
       "    }\n",
       "</style>\n",
       "<table border=\"1\" class=\"dataframe\">\n",
       "  <thead>\n",
       "    <tr style=\"text-align: right;\">\n",
       "      <th></th>\n",
       "      <th>purpose_sum</th>\n",
       "      <th>purpose_count</th>\n",
       "      <th>mean_value</th>\n",
       "    </tr>\n",
       "    <tr>\n",
       "      <th>purpose_category</th>\n",
       "      <th></th>\n",
       "      <th></th>\n",
       "      <th></th>\n",
       "    </tr>\n",
       "  </thead>\n",
       "  <tbody>\n",
       "    <tr>\n",
       "      <th>операции с автомобилем</th>\n",
       "      <td>400</td>\n",
       "      <td>4279</td>\n",
       "      <td>9.35%</td>\n",
       "    </tr>\n",
       "    <tr>\n",
       "      <th>операции с недвижимостью</th>\n",
       "      <td>780</td>\n",
       "      <td>10751</td>\n",
       "      <td>7.26%</td>\n",
       "    </tr>\n",
       "    <tr>\n",
       "      <th>получение образования</th>\n",
       "      <td>369</td>\n",
       "      <td>3988</td>\n",
       "      <td>9.25%</td>\n",
       "    </tr>\n",
       "    <tr>\n",
       "      <th>проведение свадьбы</th>\n",
       "      <td>183</td>\n",
       "      <td>2313</td>\n",
       "      <td>7.91%</td>\n",
       "    </tr>\n",
       "  </tbody>\n",
       "</table>\n",
       "</div>"
      ],
      "text/plain": [
       "                          purpose_sum  purpose_count mean_value\n",
       "purpose_category                                               \n",
       "операции с автомобилем            400           4279      9.35%\n",
       "операции с недвижимостью          780          10751      7.26%\n",
       "получение образования             369           3988      9.25%\n",
       "проведение свадьбы                183           2313      7.91%"
      ]
     },
     "execution_count": 33,
     "metadata": {},
     "output_type": "execute_result"
    }
   ],
   "source": [
    "data_purpose_category = pd.DataFrame()\n",
    "data_purpose_category['purpose_sum'] = data.groupby('purpose_category')['debt'].sum()\n",
    "data_purpose_category['purpose_count'] = data.groupby('purpose_category')['debt'].count()\n",
    "data_purpose_category['mean_value'] = (data.groupby('purpose_category')['debt'].mean() * 100).round(2).astype(str) + '%'\n",
    "data_purpose_category"
   ]
  }
 ],
 "metadata": {
  "ExecuteTimeLog": [
   {
    "duration": 49,
    "start_time": "2024-03-28T17:12:02.027Z"
   },
   {
    "duration": 440,
    "start_time": "2024-03-28T17:12:05.910Z"
   },
   {
    "duration": 265,
    "start_time": "2024-03-28T17:12:06.446Z"
   },
   {
    "duration": 23,
    "start_time": "2024-03-28T17:12:08.245Z"
   },
   {
    "duration": 19,
    "start_time": "2024-03-28T17:12:12.115Z"
   },
   {
    "duration": 15,
    "start_time": "2024-03-28T18:19:49.283Z"
   },
   {
    "duration": 3,
    "start_time": "2024-03-28T18:57:32.914Z"
   },
   {
    "duration": 12,
    "start_time": "2024-03-28T18:57:35.534Z"
   },
   {
    "duration": 40,
    "start_time": "2024-03-28T19:43:13.997Z"
   },
   {
    "duration": 5,
    "start_time": "2024-03-28T20:03:26.918Z"
   },
   {
    "duration": 2,
    "start_time": "2024-03-28T20:10:44.565Z"
   },
   {
    "duration": 11,
    "start_time": "2024-03-28T20:11:06.115Z"
   },
   {
    "duration": 3,
    "start_time": "2024-03-28T20:11:41.403Z"
   },
   {
    "duration": 5,
    "start_time": "2024-03-28T20:12:22.322Z"
   },
   {
    "duration": 2,
    "start_time": "2024-03-28T20:32:03.790Z"
   },
   {
    "duration": 29,
    "start_time": "2024-03-28T20:32:06.245Z"
   },
   {
    "duration": 74,
    "start_time": "2024-03-29T09:06:05.221Z"
   },
   {
    "duration": 461,
    "start_time": "2024-03-29T09:06:11.860Z"
   },
   {
    "duration": 278,
    "start_time": "2024-03-29T09:06:12.323Z"
   },
   {
    "duration": 23,
    "start_time": "2024-03-29T09:06:12.602Z"
   },
   {
    "duration": 28,
    "start_time": "2024-03-29T09:06:12.627Z"
   },
   {
    "duration": 11,
    "start_time": "2024-03-29T09:06:12.657Z"
   },
   {
    "duration": 45,
    "start_time": "2024-03-29T09:06:12.669Z"
   },
   {
    "duration": 3,
    "start_time": "2024-03-29T09:06:12.716Z"
   },
   {
    "duration": 10,
    "start_time": "2024-03-29T09:06:12.721Z"
   },
   {
    "duration": 8,
    "start_time": "2024-03-29T09:06:12.732Z"
   },
   {
    "duration": 17,
    "start_time": "2024-03-29T09:06:12.741Z"
   },
   {
    "duration": 30,
    "start_time": "2024-03-29T09:06:12.760Z"
   },
   {
    "duration": 66,
    "start_time": "2024-03-29T09:06:12.792Z"
   },
   {
    "duration": 3,
    "start_time": "2024-03-29T09:06:12.859Z"
   },
   {
    "duration": 26,
    "start_time": "2024-03-29T09:06:12.864Z"
   },
   {
    "duration": 4,
    "start_time": "2024-03-29T09:06:12.892Z"
   },
   {
    "duration": 11,
    "start_time": "2024-03-29T09:06:12.898Z"
   },
   {
    "duration": 7,
    "start_time": "2024-03-29T09:06:12.911Z"
   },
   {
    "duration": 17,
    "start_time": "2024-03-29T09:06:12.919Z"
   },
   {
    "duration": 6,
    "start_time": "2024-03-29T09:06:12.938Z"
   },
   {
    "duration": 9,
    "start_time": "2024-03-29T09:06:12.945Z"
   },
   {
    "duration": 6,
    "start_time": "2024-03-29T09:06:12.956Z"
   },
   {
    "duration": 8,
    "start_time": "2024-03-29T09:06:12.963Z"
   },
   {
    "duration": 13,
    "start_time": "2024-03-29T09:07:00.923Z"
   },
   {
    "duration": 4,
    "start_time": "2024-03-29T09:15:23.790Z"
   },
   {
    "duration": 2,
    "start_time": "2024-03-29T09:16:20.819Z"
   },
   {
    "duration": 3,
    "start_time": "2024-03-29T09:24:16.466Z"
   },
   {
    "duration": 117,
    "start_time": "2024-03-29T09:24:16.470Z"
   },
   {
    "duration": 17,
    "start_time": "2024-03-29T09:24:16.588Z"
   },
   {
    "duration": 23,
    "start_time": "2024-03-29T09:24:16.606Z"
   },
   {
    "duration": 22,
    "start_time": "2024-03-29T09:24:16.631Z"
   },
   {
    "duration": 59,
    "start_time": "2024-03-29T09:24:16.655Z"
   },
   {
    "duration": 3,
    "start_time": "2024-03-29T09:24:16.716Z"
   },
   {
    "duration": 26,
    "start_time": "2024-03-29T09:24:16.721Z"
   },
   {
    "duration": 6,
    "start_time": "2024-03-29T09:24:16.749Z"
   },
   {
    "duration": 8,
    "start_time": "2024-03-29T09:24:16.756Z"
   },
   {
    "duration": 22,
    "start_time": "2024-03-29T09:24:16.765Z"
   },
   {
    "duration": 46,
    "start_time": "2024-03-29T09:24:16.788Z"
   },
   {
    "duration": 11,
    "start_time": "2024-03-29T09:24:16.837Z"
   },
   {
    "duration": 12,
    "start_time": "2024-03-29T09:24:16.849Z"
   },
   {
    "duration": 28,
    "start_time": "2024-03-29T09:24:16.862Z"
   },
   {
    "duration": 23,
    "start_time": "2024-03-29T09:24:16.891Z"
   },
   {
    "duration": 11,
    "start_time": "2024-03-29T09:24:16.916Z"
   },
   {
    "duration": 5,
    "start_time": "2024-03-29T09:24:16.930Z"
   },
   {
    "duration": 18,
    "start_time": "2024-03-29T09:24:16.937Z"
   },
   {
    "duration": 29,
    "start_time": "2024-03-29T09:24:16.957Z"
   },
   {
    "duration": 6,
    "start_time": "2024-03-29T09:24:16.988Z"
   },
   {
    "duration": 5,
    "start_time": "2024-03-29T09:24:16.995Z"
   },
   {
    "duration": 20,
    "start_time": "2024-03-29T09:25:56.428Z"
   },
   {
    "duration": 28,
    "start_time": "2024-03-29T09:29:25.693Z"
   },
   {
    "duration": 25,
    "start_time": "2024-03-29T09:29:29.595Z"
   },
   {
    "duration": 35,
    "start_time": "2024-03-29T09:29:32.228Z"
   },
   {
    "duration": 19,
    "start_time": "2024-03-29T09:34:51.098Z"
   },
   {
    "duration": 19,
    "start_time": "2024-03-29T09:34:53.025Z"
   },
   {
    "duration": 18,
    "start_time": "2024-03-29T09:35:16.018Z"
   },
   {
    "duration": 22,
    "start_time": "2024-03-29T09:35:49.978Z"
   },
   {
    "duration": 20,
    "start_time": "2024-03-29T09:39:02.991Z"
   },
   {
    "duration": 3,
    "start_time": "2024-03-29T09:39:31.712Z"
   },
   {
    "duration": 140,
    "start_time": "2024-03-29T09:39:31.718Z"
   },
   {
    "duration": 17,
    "start_time": "2024-03-29T09:39:31.859Z"
   },
   {
    "duration": 33,
    "start_time": "2024-03-29T09:39:31.878Z"
   },
   {
    "duration": 53,
    "start_time": "2024-03-29T09:39:31.914Z"
   },
   {
    "duration": 73,
    "start_time": "2024-03-29T09:39:31.968Z"
   },
   {
    "duration": 3,
    "start_time": "2024-03-29T09:39:32.043Z"
   },
   {
    "duration": 53,
    "start_time": "2024-03-29T09:39:32.048Z"
   },
   {
    "duration": 25,
    "start_time": "2024-03-29T09:39:32.103Z"
   },
   {
    "duration": 14,
    "start_time": "2024-03-29T09:39:32.130Z"
   },
   {
    "duration": 34,
    "start_time": "2024-03-29T09:39:32.146Z"
   },
   {
    "duration": 72,
    "start_time": "2024-03-29T09:39:32.182Z"
   },
   {
    "duration": 10,
    "start_time": "2024-03-29T09:39:32.256Z"
   },
   {
    "duration": 16,
    "start_time": "2024-03-29T09:39:32.268Z"
   },
   {
    "duration": 12,
    "start_time": "2024-03-29T09:39:32.286Z"
   },
   {
    "duration": 27,
    "start_time": "2024-03-29T09:39:32.300Z"
   },
   {
    "duration": 17,
    "start_time": "2024-03-29T09:39:32.329Z"
   },
   {
    "duration": 3,
    "start_time": "2024-03-29T09:39:32.347Z"
   },
   {
    "duration": 32,
    "start_time": "2024-03-29T09:39:32.351Z"
   },
   {
    "duration": 14,
    "start_time": "2024-03-29T09:39:32.384Z"
   },
   {
    "duration": 50,
    "start_time": "2024-03-29T09:39:32.399Z"
   },
   {
    "duration": 16,
    "start_time": "2024-03-29T09:39:32.451Z"
   },
   {
    "duration": 2,
    "start_time": "2024-03-29T09:49:47.899Z"
   },
   {
    "duration": 4,
    "start_time": "2024-03-29T09:49:51.554Z"
   },
   {
    "duration": 3,
    "start_time": "2024-03-29T10:04:24.818Z"
   },
   {
    "duration": 113,
    "start_time": "2024-03-29T10:04:24.823Z"
   },
   {
    "duration": 16,
    "start_time": "2024-03-29T10:04:24.938Z"
   },
   {
    "duration": 25,
    "start_time": "2024-03-29T10:04:24.956Z"
   },
   {
    "duration": 11,
    "start_time": "2024-03-29T10:04:24.984Z"
   },
   {
    "duration": 55,
    "start_time": "2024-03-29T10:04:24.997Z"
   },
   {
    "duration": 12,
    "start_time": "2024-03-29T10:04:25.054Z"
   },
   {
    "duration": 19,
    "start_time": "2024-03-29T10:04:25.068Z"
   },
   {
    "duration": 9,
    "start_time": "2024-03-29T10:04:25.089Z"
   },
   {
    "duration": 25,
    "start_time": "2024-03-29T10:04:25.100Z"
   },
   {
    "duration": 7,
    "start_time": "2024-03-29T10:04:25.127Z"
   },
   {
    "duration": 41,
    "start_time": "2024-03-29T10:04:25.136Z"
   },
   {
    "duration": 10,
    "start_time": "2024-03-29T10:04:25.180Z"
   },
   {
    "duration": 24,
    "start_time": "2024-03-29T10:04:25.192Z"
   },
   {
    "duration": 63,
    "start_time": "2024-03-29T10:04:25.217Z"
   },
   {
    "duration": 40,
    "start_time": "2024-03-29T10:04:25.281Z"
   },
   {
    "duration": 19,
    "start_time": "2024-03-29T10:04:25.323Z"
   },
   {
    "duration": 4,
    "start_time": "2024-03-29T10:04:25.344Z"
   },
   {
    "duration": 16,
    "start_time": "2024-03-29T10:04:25.350Z"
   },
   {
    "duration": 3,
    "start_time": "2024-03-29T10:04:25.367Z"
   },
   {
    "duration": 8,
    "start_time": "2024-03-29T10:04:25.371Z"
   },
   {
    "duration": 6,
    "start_time": "2024-03-29T10:04:25.380Z"
   },
   {
    "duration": 6,
    "start_time": "2024-03-29T10:04:42.899Z"
   },
   {
    "duration": 3,
    "start_time": "2024-03-29T10:17:37.515Z"
   },
   {
    "duration": 88,
    "start_time": "2024-03-29T10:17:37.520Z"
   },
   {
    "duration": 16,
    "start_time": "2024-03-29T10:17:37.609Z"
   },
   {
    "duration": 18,
    "start_time": "2024-03-29T10:17:37.627Z"
   },
   {
    "duration": 32,
    "start_time": "2024-03-29T10:17:37.647Z"
   },
   {
    "duration": 37,
    "start_time": "2024-03-29T10:17:37.681Z"
   },
   {
    "duration": 3,
    "start_time": "2024-03-29T10:17:37.720Z"
   },
   {
    "duration": 9,
    "start_time": "2024-03-29T10:17:37.725Z"
   },
   {
    "duration": 5,
    "start_time": "2024-03-29T10:17:37.736Z"
   },
   {
    "duration": 31,
    "start_time": "2024-03-29T10:17:37.742Z"
   },
   {
    "duration": 5,
    "start_time": "2024-03-29T10:17:37.775Z"
   },
   {
    "duration": 68,
    "start_time": "2024-03-29T10:17:37.782Z"
   },
   {
    "duration": 28,
    "start_time": "2024-03-29T10:17:37.851Z"
   },
   {
    "duration": 8,
    "start_time": "2024-03-29T10:17:37.881Z"
   },
   {
    "duration": 19,
    "start_time": "2024-03-29T10:17:37.890Z"
   },
   {
    "duration": 26,
    "start_time": "2024-03-29T10:17:37.911Z"
   },
   {
    "duration": 18,
    "start_time": "2024-03-29T10:17:37.938Z"
   },
   {
    "duration": 3,
    "start_time": "2024-03-29T10:17:37.958Z"
   },
   {
    "duration": 15,
    "start_time": "2024-03-29T10:17:37.972Z"
   },
   {
    "duration": 6,
    "start_time": "2024-03-29T10:17:37.989Z"
   },
   {
    "duration": 6,
    "start_time": "2024-03-29T10:17:37.996Z"
   },
   {
    "duration": 22,
    "start_time": "2024-03-29T10:17:38.004Z"
   },
   {
    "duration": 416,
    "start_time": "2024-03-29T18:58:58.962Z"
   },
   {
    "duration": 178,
    "start_time": "2024-03-29T18:58:59.380Z"
   },
   {
    "duration": 21,
    "start_time": "2024-03-29T18:58:59.559Z"
   },
   {
    "duration": 15,
    "start_time": "2024-03-29T18:58:59.582Z"
   },
   {
    "duration": 10,
    "start_time": "2024-03-29T18:58:59.598Z"
   },
   {
    "duration": 36,
    "start_time": "2024-03-29T18:58:59.610Z"
   },
   {
    "duration": 4,
    "start_time": "2024-03-29T18:58:59.664Z"
   },
   {
    "duration": 9,
    "start_time": "2024-03-29T18:58:59.669Z"
   },
   {
    "duration": 4,
    "start_time": "2024-03-29T18:58:59.679Z"
   },
   {
    "duration": 9,
    "start_time": "2024-03-29T18:58:59.686Z"
   },
   {
    "duration": 4,
    "start_time": "2024-03-29T18:58:59.696Z"
   },
   {
    "duration": 64,
    "start_time": "2024-03-29T18:58:59.701Z"
   },
   {
    "duration": 15,
    "start_time": "2024-03-29T18:58:59.767Z"
   },
   {
    "duration": 3,
    "start_time": "2024-03-29T18:58:59.784Z"
   },
   {
    "duration": 12,
    "start_time": "2024-03-29T18:58:59.789Z"
   },
   {
    "duration": 37,
    "start_time": "2024-03-29T18:58:59.803Z"
   },
   {
    "duration": 31,
    "start_time": "2024-03-29T18:58:59.842Z"
   },
   {
    "duration": 3,
    "start_time": "2024-03-29T18:58:59.875Z"
   },
   {
    "duration": 11,
    "start_time": "2024-03-29T18:58:59.880Z"
   },
   {
    "duration": 7,
    "start_time": "2024-03-29T18:58:59.893Z"
   },
   {
    "duration": 3,
    "start_time": "2024-03-29T18:58:59.901Z"
   },
   {
    "duration": 8,
    "start_time": "2024-03-29T18:58:59.906Z"
   },
   {
    "duration": 13,
    "start_time": "2024-03-29T18:58:59.915Z"
   },
   {
    "duration": 44,
    "start_time": "2024-03-29T18:58:59.929Z"
   },
   {
    "duration": 17,
    "start_time": "2024-03-29T18:58:59.975Z"
   },
   {
    "duration": 16,
    "start_time": "2024-03-29T18:58:59.993Z"
   },
   {
    "duration": 45,
    "start_time": "2024-03-29T18:59:00.010Z"
   },
   {
    "duration": 403,
    "start_time": "2024-04-06T08:42:06.196Z"
   },
   {
    "duration": 186,
    "start_time": "2024-04-06T08:42:06.600Z"
   },
   {
    "duration": 20,
    "start_time": "2024-04-06T08:42:06.788Z"
   },
   {
    "duration": 24,
    "start_time": "2024-04-06T08:42:06.810Z"
   },
   {
    "duration": 15,
    "start_time": "2024-04-06T08:42:06.836Z"
   },
   {
    "duration": 48,
    "start_time": "2024-04-06T08:42:06.866Z"
   },
   {
    "duration": 4,
    "start_time": "2024-04-06T08:42:06.915Z"
   },
   {
    "duration": 15,
    "start_time": "2024-04-06T08:42:06.921Z"
   },
   {
    "duration": 16,
    "start_time": "2024-04-06T08:42:06.938Z"
   },
   {
    "duration": 14,
    "start_time": "2024-04-06T08:42:06.966Z"
   },
   {
    "duration": 7,
    "start_time": "2024-04-06T08:42:06.982Z"
   },
   {
    "duration": 58,
    "start_time": "2024-04-06T08:42:06.991Z"
   },
   {
    "duration": 12,
    "start_time": "2024-04-06T08:42:07.050Z"
   },
   {
    "duration": 12,
    "start_time": "2024-04-06T08:42:07.064Z"
   },
   {
    "duration": 28,
    "start_time": "2024-04-06T08:42:07.077Z"
   },
   {
    "duration": 28,
    "start_time": "2024-04-06T08:42:07.107Z"
   },
   {
    "duration": 23,
    "start_time": "2024-04-06T08:42:07.136Z"
   },
   {
    "duration": 6,
    "start_time": "2024-04-06T08:42:07.161Z"
   },
   {
    "duration": 29,
    "start_time": "2024-04-06T08:42:07.168Z"
   },
   {
    "duration": 22,
    "start_time": "2024-04-06T08:42:07.199Z"
   },
   {
    "duration": 18,
    "start_time": "2024-04-06T08:42:07.222Z"
   },
   {
    "duration": 23,
    "start_time": "2024-04-06T08:42:07.241Z"
   },
   {
    "duration": 24,
    "start_time": "2024-04-06T08:42:07.266Z"
   },
   {
    "duration": 23,
    "start_time": "2024-04-06T08:42:07.292Z"
   },
   {
    "duration": 9,
    "start_time": "2024-04-06T08:42:07.317Z"
   },
   {
    "duration": 23,
    "start_time": "2024-04-06T08:42:07.327Z"
   },
   {
    "duration": 30,
    "start_time": "2024-04-06T08:42:07.351Z"
   },
   {
    "duration": 32,
    "start_time": "2024-04-06T08:42:07.384Z"
   },
   {
    "duration": 13,
    "start_time": "2024-04-06T08:42:07.418Z"
   },
   {
    "duration": 4,
    "start_time": "2024-04-06T08:42:07.432Z"
   },
   {
    "duration": 25,
    "start_time": "2024-04-06T08:42:07.437Z"
   },
   {
    "duration": 27,
    "start_time": "2024-04-06T08:42:07.464Z"
   },
   {
    "duration": 21,
    "start_time": "2024-04-06T08:42:07.492Z"
   },
   {
    "duration": 381,
    "start_time": "2024-04-06T15:57:51.113Z"
   },
   {
    "duration": 172,
    "start_time": "2024-04-06T15:57:51.496Z"
   },
   {
    "duration": 21,
    "start_time": "2024-04-06T15:57:51.669Z"
   },
   {
    "duration": 14,
    "start_time": "2024-04-06T15:57:51.691Z"
   },
   {
    "duration": 9,
    "start_time": "2024-04-06T15:57:51.707Z"
   },
   {
    "duration": 42,
    "start_time": "2024-04-06T15:57:51.717Z"
   },
   {
    "duration": 3,
    "start_time": "2024-04-06T15:57:51.760Z"
   },
   {
    "duration": 24,
    "start_time": "2024-04-06T15:57:51.764Z"
   },
   {
    "duration": 3,
    "start_time": "2024-04-06T15:57:51.789Z"
   },
   {
    "duration": 9,
    "start_time": "2024-04-06T15:57:51.794Z"
   },
   {
    "duration": 4,
    "start_time": "2024-04-06T15:57:51.804Z"
   },
   {
    "duration": 39,
    "start_time": "2024-04-06T15:57:51.809Z"
   },
   {
    "duration": 10,
    "start_time": "2024-04-06T15:57:51.850Z"
   },
   {
    "duration": 25,
    "start_time": "2024-04-06T15:57:51.862Z"
   },
   {
    "duration": 11,
    "start_time": "2024-04-06T15:57:51.889Z"
   },
   {
    "duration": 19,
    "start_time": "2024-04-06T15:57:51.901Z"
   },
   {
    "duration": 17,
    "start_time": "2024-04-06T15:57:51.921Z"
   },
   {
    "duration": 3,
    "start_time": "2024-04-06T15:57:51.939Z"
   },
   {
    "duration": 12,
    "start_time": "2024-04-06T15:57:51.944Z"
   },
   {
    "duration": 30,
    "start_time": "2024-04-06T15:57:51.958Z"
   },
   {
    "duration": 4,
    "start_time": "2024-04-06T15:57:51.989Z"
   },
   {
    "duration": 9,
    "start_time": "2024-04-06T15:57:51.994Z"
   },
   {
    "duration": 39,
    "start_time": "2024-04-06T15:57:52.057Z"
   },
   {
    "duration": 14,
    "start_time": "2024-04-06T15:57:52.099Z"
   },
   {
    "duration": 10,
    "start_time": "2024-04-06T15:57:52.115Z"
   },
   {
    "duration": 4,
    "start_time": "2024-04-06T15:57:52.126Z"
   },
   {
    "duration": 15,
    "start_time": "2024-04-06T15:57:52.131Z"
   },
   {
    "duration": 40,
    "start_time": "2024-04-06T15:57:52.148Z"
   },
   {
    "duration": 30,
    "start_time": "2024-04-06T15:57:52.190Z"
   },
   {
    "duration": 413,
    "start_time": "2024-04-06T16:03:41.484Z"
   },
   {
    "duration": 171,
    "start_time": "2024-04-06T16:03:41.899Z"
   },
   {
    "duration": 22,
    "start_time": "2024-04-06T16:03:42.072Z"
   },
   {
    "duration": 16,
    "start_time": "2024-04-06T16:03:42.095Z"
   },
   {
    "duration": 10,
    "start_time": "2024-04-06T16:03:42.112Z"
   },
   {
    "duration": 42,
    "start_time": "2024-04-06T16:03:42.123Z"
   },
   {
    "duration": 3,
    "start_time": "2024-04-06T16:03:42.167Z"
   },
   {
    "duration": 20,
    "start_time": "2024-04-06T16:03:42.171Z"
   },
   {
    "duration": 3,
    "start_time": "2024-04-06T16:03:42.193Z"
   },
   {
    "duration": 8,
    "start_time": "2024-04-06T16:03:42.199Z"
   },
   {
    "duration": 4,
    "start_time": "2024-04-06T16:03:42.208Z"
   },
   {
    "duration": 40,
    "start_time": "2024-04-06T16:03:42.213Z"
   },
   {
    "duration": 41,
    "start_time": "2024-04-06T16:03:42.255Z"
   },
   {
    "duration": 7,
    "start_time": "2024-04-06T16:03:42.297Z"
   },
   {
    "duration": 27,
    "start_time": "2024-04-06T16:03:42.306Z"
   },
   {
    "duration": 22,
    "start_time": "2024-04-06T16:03:42.335Z"
   },
   {
    "duration": 16,
    "start_time": "2024-04-06T16:03:42.359Z"
   },
   {
    "duration": 3,
    "start_time": "2024-04-06T16:03:42.377Z"
   },
   {
    "duration": 14,
    "start_time": "2024-04-06T16:03:42.382Z"
   },
   {
    "duration": 10,
    "start_time": "2024-04-06T16:03:42.397Z"
   },
   {
    "duration": 3,
    "start_time": "2024-04-06T16:03:42.408Z"
   },
   {
    "duration": 29,
    "start_time": "2024-04-06T16:03:42.413Z"
   },
   {
    "duration": 14,
    "start_time": "2024-04-06T16:03:42.444Z"
   },
   {
    "duration": 19,
    "start_time": "2024-04-06T16:03:42.459Z"
   },
   {
    "duration": 8,
    "start_time": "2024-04-06T16:03:42.480Z"
   },
   {
    "duration": 17,
    "start_time": "2024-04-06T16:03:42.489Z"
   },
   {
    "duration": 27,
    "start_time": "2024-04-06T16:03:42.508Z"
   },
   {
    "duration": 18,
    "start_time": "2024-04-06T16:03:42.539Z"
   },
   {
    "duration": 43,
    "start_time": "2024-04-06T16:03:42.558Z"
   },
   {
    "duration": 6,
    "start_time": "2024-04-06T16:03:42.603Z"
   },
   {
    "duration": 17,
    "start_time": "2024-04-06T16:03:42.611Z"
   },
   {
    "duration": 15,
    "start_time": "2024-04-06T16:03:42.630Z"
   },
   {
    "duration": 63,
    "start_time": "2024-04-06T16:03:42.648Z"
   }
  ],
  "colab": {
   "provenance": []
  },
  "kernelspec": {
   "display_name": "Python 3 (ipykernel)",
   "language": "python",
   "name": "python3"
  },
  "language_info": {
   "codemirror_mode": {
    "name": "ipython",
    "version": 3
   },
   "file_extension": ".py",
   "mimetype": "text/x-python",
   "name": "python",
   "nbconvert_exporter": "python",
   "pygments_lexer": "ipython3",
   "version": "3.12.2"
  },
  "toc": {
   "base_numbering": 1,
   "nav_menu": {},
   "number_sections": true,
   "sideBar": true,
   "skip_h1_title": true,
   "title_cell": "Table of Contents",
   "title_sidebar": "Contents",
   "toc_cell": false,
   "toc_position": {},
   "toc_section_display": true,
   "toc_window_display": false
  },
  "widgets": {
   "application/vnd.jupyter.widget-state+json": {
    "state": {},
    "version_major": 2,
    "version_minor": 0
   }
  }
 },
 "nbformat": 4,
 "nbformat_minor": 5
}
